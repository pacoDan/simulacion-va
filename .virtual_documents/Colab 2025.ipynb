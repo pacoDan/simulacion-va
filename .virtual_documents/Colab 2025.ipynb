


# Acá instalamos la biblioteca fitter para el ajuste de funciones
pip install fitter


# Acá importarmos todas las bibliotecas necesarias: Pandas, Numpy, Scipy y Fitter
from fitter import Fitter
import pandas as pd
import numpy as np
import matplotlib.pyplot as plt
from scipy import stats


# Esto se hace para montar el gogle drive y poder acceder datos alojados allí.
# from google.colab import drive
# drive.mount('/content/drive')





# En esta parte del código se debe modificar la ubicación correcta del google drive
# bicis = pd.read_csv('/content/drive/MyDrive/Colab Notebooks/EPIO/Datos/trips_2023.csv')
bicis = pd.read_csv('./badata_ecobici_recorridos_realizados_2024.csv')





# Corroboramos que el tipo de dato de la variable "bicis" es un dataframe
type(bicis)


# Primeras lineas de nuestro dataframe
bicis.head()





# Si solo quiero los nombres de las columnas en formato lista
bicis.columns


# Dimensionalidad del dataframe
bicis.shape


# El tipo de dato de cada una de las columnas
# Acá veo que 'duracion_recorrido', 'fecha_origen_recorrido' y 'fecha_destino_recorrido'
# son de tipo object (texto) y no está bueno eso
bicis.dtypes





# Para acceder a una columna específica puedo usar el operador punto:
bicis.nombre_estacion_origen


# O el operador corchete:
bicis['nombre_estacion_origen']





# Creo dos nuevas columnas con las fechas con el tipo de dato correcto.
bicis['fecha_origen_recorrido_dt'] = pd.to_datetime(bicis['fecha_origen_recorrido'])
bicis['fecha_destino_recorrido_dt'] = pd.to_datetime(bicis['fecha_destino_recorrido'])


bicis.head()


bicis.dtypes


# Calculo la diferencia de tiempo y los llamo duracion_recorrido_dt
bicis['duracion_recorrido_dt'] = bicis['fecha_destino_recorrido_dt'] - bicis['fecha_origen_recorrido_dt']


bicis.head()


# El tipo de dato de la nueva columna no resulta conveniente:
bicis.dtypes


# Por ende creo una nueva columna con los valores de minutos totales con formato float
bicis['duracion_recorrido_min'] = bicis['duracion_recorrido_dt'].dt.total_seconds() / 60


bicis.head()


# Veo cuantos registros tengo por cada valor de estacion origen
bicis['nombre_estacion_origen'].value_counts()


# Creo un nuevo dataframe con los registros de la estación Constitución
bicis_constitucion = bicis[bicis['nombre_estacion_origen'] == '147 - Constitución']


bicis_constitucion.head()


bicis_constitucion.shape


# Con el histograma veo que tengo datos anómalos, mas alla de los 60 minutos.
bicis_constitucion.hist('duracion_recorrido_min', bins=200)


# Creo un nuevo dataframe con los registros dentro de la hora
bicis_constitucion_hora = bicis_constitucion[bicis_constitucion['duracion_recorrido_min'] < 60]


bicis_constitucion_hora.shape


# El histograma muestra una mejor distribución
bicis_constitucion_hora.hist('duracion_recorrido_min', bins=200, edgecolor='black')


# El boxplot es otro gráfico que me brinda información sobre los datos.
bicis_constitucion_hora['duracion_recorrido_min'].plot(kind='box')
plt.show()


# El método describe() me brinda los estadísticos principales de una columna
bicis_constitucion_hora['duracion_recorrido_min'].describe()





# En una variable preparar la columna del df que quiero ajustar
fdp_constitucion_hora = Fitter(bicis_constitucion_hora.duracion_recorrido_min)


# Con el método fit() ajusta mis datos a las 80 distribuciones de SciPy
fdp_constitucion_hora.fit()


# Summary me muestra el resumen de los mejores ajustes
fdp_constitucion_hora.summary(10)








# get_best me devuelve la mejor distribución de acuerdo al criterio que le indico y sus parámetros
fdp_constitucion_hora.get_best(method='sumsquare_error')





fdp_constitucion_hora.get_best(method='ks_statistic')


# Para simular, guardo los valores de los parámetros en 4 variables
dfn = 10.210149046195188
dfd = 24.449261873976212
loc = -0.210629715477468
scale =  15.900756775955681


# Gracias al método rvs del módulo stats de Scipy, puedo generar datos
# con los parámetros que me dio Fitter
fdp_f = stats.f.rvs(dfn, dfd, loc=loc, scale=scale, size=35000)


# Esta variable es un array de Numpy con valores similares a mis datos de origen
fdp_f


# Histograma de datos de verificación
plt.title("Histograma")
plt.xlabel("X axis")
plt.ylabel("Y axis")
plt.xlim(0, 60)
plt.ylim(0, 1300)
plt.hist(fdp_f, bins=150)
plt.show()












