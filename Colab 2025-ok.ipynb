{
 "cells": [
  {
   "cell_type": "markdown",
   "metadata": {
    "id": "T0NlF9nHmdZX"
   },
   "source": [
    "# 1. Carga de bibliotetas\n",
    "\n",
    "Seccion para instalar e importar bibliotecas necesarias"
   ]
  },
  {
   "cell_type": "code",
   "execution_count": 1,
   "metadata": {
    "colab": {
     "base_uri": "https://localhost:8080/"
    },
    "executionInfo": {
     "elapsed": 16165,
     "status": "ok",
     "timestamp": 1729791660665,
     "user": {
      "displayName": "Edgardo Rubén FLECHA",
      "userId": "15102767123563609240"
     },
     "user_tz": 180
    },
    "id": "1AEhaS_8mr1l",
    "outputId": "15365a18-9877-4d0f-d23d-20d05e68b13e"
   },
   "outputs": [
    {
     "ename": "SyntaxError",
     "evalue": "invalid syntax (1900610083.py, line 2)",
     "output_type": "error",
     "traceback": [
      "\u001b[0;36m  Cell \u001b[0;32mIn[1], line 2\u001b[0;36m\u001b[0m\n\u001b[0;31m    pip install fitter\u001b[0m\n\u001b[0m        ^\u001b[0m\n\u001b[0;31mSyntaxError\u001b[0m\u001b[0;31m:\u001b[0m invalid syntax\n"
     ]
    }
   ],
   "source": [
    "# Acá instalamos la biblioteca fitter para el ajuste de funciones\n",
    "pip install fitter"
   ]
  },
  {
   "cell_type": "code",
   "execution_count": 2,
   "metadata": {
    "id": "SzsbMMQPnqI0"
   },
   "outputs": [],
   "source": [
    "# Acá importarmos todas las bibliotecas necesarias: Pandas, Numpy, Scipy y Fitter\n",
    "from fitter import Fitter\n",
    "import pandas as pd\n",
    "import numpy as np\n",
    "import matplotlib.pyplot as plt\n",
    "from scipy import stats"
   ]
  },
  {
   "cell_type": "code",
   "execution_count": null,
   "metadata": {
    "colab": {
     "base_uri": "https://localhost:8080/"
    },
    "executionInfo": {
     "elapsed": 2477,
     "status": "ok",
     "timestamp": 1729802620214,
     "user": {
      "displayName": "Edgardo Rubén FLECHA",
      "userId": "15102767123563609240"
     },
     "user_tz": 180
    },
    "id": "nmtJhWE7pLpg",
    "outputId": "4d27d0d7-4cec-4579-f0b9-8261b50c94ee"
   },
   "outputs": [
    {
     "name": "stdout",
     "output_type": "stream",
     "text": [
      "Drive already mounted at /content/drive; to attempt to forcibly remount, call drive.mount(\"/content/drive\", force_remount=True).\n"
     ]
    }
   ],
   "source": [
    "# Esto se hace para montar el gogle drive y poder acceder datos alojados allí.\n",
    "# from google.colab import drive\n",
    "# drive.mount('/content/drive')"
   ]
  },
  {
   "cell_type": "markdown",
   "metadata": {
    "id": "c2vAl1XAp-rz"
   },
   "source": [
    "# 2. Carga de datos\n",
    "\n",
    "Utilizaremos los datos de recorrido de bicicletas públicas de la ciudad de Buenos Aires\n",
    "https://data.buenosaires.gob.ar/dataset/bicicletas-publicas\n",
    "\n",
    "Bajaremos el archivo \"Recorridos Realizados 2023 (ZIP)\", descomprimiremos el archivo csv presente (\"trips_2023.csv\")y lo alojamos dentro de la carpeta \"Colab Notebooks\" de nuestro Google Drive\n",
    "\n",
    "\n"
   ]
  },
  {
   "cell_type": "code",
   "execution_count": 5,
   "metadata": {
    "id": "Gq6t9H0zqK_b"
   },
   "outputs": [],
   "source": [
    "# En esta parte del código se debe modificar la ubicación correcta del google drive\n",
    "# bicis = pd.read_csv('/content/drive/MyDrive/Colab Notebooks/EPIO/Datos/trips_2023.csv')\n",
    "bicis = pd.read_csv('./badata_ecobici_recorridos_realizados_2024.csv')"
   ]
  },
  {
   "cell_type": "markdown",
   "metadata": {
    "id": "ZsFIfRt9u2E4"
   },
   "source": [
    "# 3. Análisis Exploratorio de Datos"
   ]
  },
  {
   "cell_type": "code",
   "execution_count": 6,
   "metadata": {
    "colab": {
     "base_uri": "https://localhost:8080/",
     "height": 604
    },
    "executionInfo": {
     "elapsed": 905,
     "status": "ok",
     "timestamp": 1729793773939,
     "user": {
      "displayName": "Edgardo Rubén FLECHA",
      "userId": "15102767123563609240"
     },
     "user_tz": 180
    },
    "id": "yeZH-wqUvgXW",
    "outputId": "5078cec5-c10a-4fae-8c9b-805b388631d3"
   },
   "outputs": [
    {
     "data": {
      "text/plain": [
       "pandas.core.frame.DataFrame"
      ]
     },
     "execution_count": 6,
     "metadata": {},
     "output_type": "execute_result"
    }
   ],
   "source": [
    "# Corroboramos que el tipo de dato de la variable \"bicis\" es un dataframe\n",
    "type(bicis)"
   ]
  },
  {
   "cell_type": "code",
   "execution_count": 7,
   "metadata": {
    "colab": {
     "base_uri": "https://localhost:8080/",
     "height": 261
    },
    "executionInfo": {
     "elapsed": 383,
     "status": "ok",
     "timestamp": 1729803360817,
     "user": {
      "displayName": "Edgardo Rubén FLECHA",
      "userId": "15102767123563609240"
     },
     "user_tz": 180
    },
    "id": "X7Ltzoy-vxau",
    "outputId": "89710715-fefc-4fa8-c27a-e11c53b7a5aa"
   },
   "outputs": [
    {
     "data": {
      "text/html": [
       "<div>\n",
       "<style scoped>\n",
       "    .dataframe tbody tr th:only-of-type {\n",
       "        vertical-align: middle;\n",
       "    }\n",
       "\n",
       "    .dataframe tbody tr th {\n",
       "        vertical-align: top;\n",
       "    }\n",
       "\n",
       "    .dataframe thead th {\n",
       "        text-align: right;\n",
       "    }\n",
       "</style>\n",
       "<table border=\"1\" class=\"dataframe\">\n",
       "  <thead>\n",
       "    <tr style=\"text-align: right;\">\n",
       "      <th></th>\n",
       "      <th>id_recorrido</th>\n",
       "      <th>duracion_recorrido</th>\n",
       "      <th>fecha_origen_recorrido</th>\n",
       "      <th>id_estacion_origen</th>\n",
       "      <th>nombre_estacion_origen</th>\n",
       "      <th>direccion_estacion_origen</th>\n",
       "      <th>long_estacion_origen</th>\n",
       "      <th>lat_estacion_origen</th>\n",
       "      <th>fecha_destino_recorrido</th>\n",
       "      <th>id_estacion_destino</th>\n",
       "      <th>nombre_estacion_destino</th>\n",
       "      <th>direccion_estacion_destino</th>\n",
       "      <th>long_estacion_destino</th>\n",
       "      <th>lat_estacion_destino</th>\n",
       "      <th>id_usuario</th>\n",
       "      <th>modelo_bicicleta</th>\n",
       "      <th>genero</th>\n",
       "    </tr>\n",
       "  </thead>\n",
       "  <tbody>\n",
       "    <tr>\n",
       "      <th>0</th>\n",
       "      <td>20428222</td>\n",
       "      <td>568</td>\n",
       "      <td>2024-01-23 18:36:00</td>\n",
       "      <td>513</td>\n",
       "      <td>308 - SAN MARTIN II</td>\n",
       "      <td>Av. San Martín 5129</td>\n",
       "      <td>-58.490739</td>\n",
       "      <td>-34.597130</td>\n",
       "      <td>2024-01-23 18:45:28</td>\n",
       "      <td>498</td>\n",
       "      <td>055 - HABANA</td>\n",
       "      <td>Gral. José Gervasio Artigas 4298 (y Habana)</td>\n",
       "      <td>-58.494959</td>\n",
       "      <td>-34.586598</td>\n",
       "      <td>992557.0</td>\n",
       "      <td>FIT</td>\n",
       "      <td>MALE</td>\n",
       "    </tr>\n",
       "    <tr>\n",
       "      <th>1</th>\n",
       "      <td>20431744</td>\n",
       "      <td>1355</td>\n",
       "      <td>2024-01-23 22:41:20</td>\n",
       "      <td>460</td>\n",
       "      <td>133 - BEIRO Y SEGUROLA</td>\n",
       "      <td>Segurola 3194</td>\n",
       "      <td>-58.511930</td>\n",
       "      <td>-34.607500</td>\n",
       "      <td>2024-01-23 23:03:55</td>\n",
       "      <td>382</td>\n",
       "      <td>204 - Biarritz</td>\n",
       "      <td>Biarritz 2403</td>\n",
       "      <td>-58.477255</td>\n",
       "      <td>-34.605431</td>\n",
       "      <td>320782.0</td>\n",
       "      <td>FIT</td>\n",
       "      <td>FEMALE</td>\n",
       "    </tr>\n",
       "    <tr>\n",
       "      <th>2</th>\n",
       "      <td>20429936</td>\n",
       "      <td>0</td>\n",
       "      <td>2024-01-23 20:06:22</td>\n",
       "      <td>467</td>\n",
       "      <td>328 - SARMIENTO II</td>\n",
       "      <td>Sarmiento 2037</td>\n",
       "      <td>-58.395893</td>\n",
       "      <td>-34.605514</td>\n",
       "      <td>2024-01-23 20:06:22</td>\n",
       "      <td>6</td>\n",
       "      <td>006 - Parque Lezama</td>\n",
       "      <td>Avenida Martin Garcia, 295</td>\n",
       "      <td>-58.369758</td>\n",
       "      <td>-34.628526</td>\n",
       "      <td>828678.0</td>\n",
       "      <td>FIT</td>\n",
       "      <td>FEMALE</td>\n",
       "    </tr>\n",
       "    <tr>\n",
       "      <th>3</th>\n",
       "      <td>20429976</td>\n",
       "      <td>0</td>\n",
       "      <td>2024-01-23 20:08:17</td>\n",
       "      <td>382</td>\n",
       "      <td>204 - Biarritz</td>\n",
       "      <td>Biarritz 2403</td>\n",
       "      <td>-58.477255</td>\n",
       "      <td>-34.605431</td>\n",
       "      <td>2024-01-23 20:08:17</td>\n",
       "      <td>460</td>\n",
       "      <td>133 - BEIRO Y SEGUROLA</td>\n",
       "      <td>Segurola 3194</td>\n",
       "      <td>-58.511930</td>\n",
       "      <td>-34.607500</td>\n",
       "      <td>320782.0</td>\n",
       "      <td>ICONIC</td>\n",
       "      <td>FEMALE</td>\n",
       "    </tr>\n",
       "    <tr>\n",
       "      <th>4</th>\n",
       "      <td>20424802</td>\n",
       "      <td>680</td>\n",
       "      <td>2024-01-23 15:18:39</td>\n",
       "      <td>137</td>\n",
       "      <td>137 - AZOPARDO Y CHILE</td>\n",
       "      <td>AZOPARDO 700</td>\n",
       "      <td>-58.367492</td>\n",
       "      <td>-34.615598</td>\n",
       "      <td>2024-01-23 15:29:59</td>\n",
       "      <td>150</td>\n",
       "      <td>150 - RODRIGO BUENO</td>\n",
       "      <td>Av. España 2200</td>\n",
       "      <td>-58.355465</td>\n",
       "      <td>-34.618755</td>\n",
       "      <td>861425.0</td>\n",
       "      <td>FIT</td>\n",
       "      <td>FEMALE</td>\n",
       "    </tr>\n",
       "  </tbody>\n",
       "</table>\n",
       "</div>"
      ],
      "text/plain": [
       "   id_recorrido  duracion_recorrido fecha_origen_recorrido  \\\n",
       "0      20428222                 568    2024-01-23 18:36:00   \n",
       "1      20431744                1355    2024-01-23 22:41:20   \n",
       "2      20429936                   0    2024-01-23 20:06:22   \n",
       "3      20429976                   0    2024-01-23 20:08:17   \n",
       "4      20424802                 680    2024-01-23 15:18:39   \n",
       "\n",
       "   id_estacion_origen  nombre_estacion_origen direccion_estacion_origen  \\\n",
       "0                 513     308 - SAN MARTIN II       Av. San Martín 5129   \n",
       "1                 460  133 - BEIRO Y SEGUROLA             Segurola 3194   \n",
       "2                 467      328 - SARMIENTO II            Sarmiento 2037   \n",
       "3                 382          204 - Biarritz             Biarritz 2403   \n",
       "4                 137  137 - AZOPARDO Y CHILE              AZOPARDO 700   \n",
       "\n",
       "   long_estacion_origen  lat_estacion_origen fecha_destino_recorrido  \\\n",
       "0            -58.490739           -34.597130     2024-01-23 18:45:28   \n",
       "1            -58.511930           -34.607500     2024-01-23 23:03:55   \n",
       "2            -58.395893           -34.605514     2024-01-23 20:06:22   \n",
       "3            -58.477255           -34.605431     2024-01-23 20:08:17   \n",
       "4            -58.367492           -34.615598     2024-01-23 15:29:59   \n",
       "\n",
       "   id_estacion_destino nombre_estacion_destino  \\\n",
       "0                  498            055 - HABANA   \n",
       "1                  382          204 - Biarritz   \n",
       "2                    6     006 - Parque Lezama   \n",
       "3                  460  133 - BEIRO Y SEGUROLA   \n",
       "4                  150     150 - RODRIGO BUENO   \n",
       "\n",
       "                    direccion_estacion_destino  long_estacion_destino  \\\n",
       "0  Gral. José Gervasio Artigas 4298 (y Habana)             -58.494959   \n",
       "1                                Biarritz 2403             -58.477255   \n",
       "2                   Avenida Martin Garcia, 295             -58.369758   \n",
       "3                                Segurola 3194             -58.511930   \n",
       "4                              Av. España 2200             -58.355465   \n",
       "\n",
       "   lat_estacion_destino  id_usuario modelo_bicicleta  genero  \n",
       "0            -34.586598    992557.0              FIT    MALE  \n",
       "1            -34.605431    320782.0              FIT  FEMALE  \n",
       "2            -34.628526    828678.0              FIT  FEMALE  \n",
       "3            -34.607500    320782.0           ICONIC  FEMALE  \n",
       "4            -34.618755    861425.0              FIT  FEMALE  "
      ]
     },
     "execution_count": 7,
     "metadata": {},
     "output_type": "execute_result"
    }
   ],
   "source": [
    "# Primeras lineas de nuestro dataframe\n",
    "bicis.head()"
   ]
  },
  {
   "cell_type": "code",
   "execution_count": null,
   "metadata": {
    "id": "29ZcswQTjJ3n"
   },
   "outputs": [],
   "source": []
  },
  {
   "cell_type": "code",
   "execution_count": 8,
   "metadata": {
    "colab": {
     "base_uri": "https://localhost:8080/"
    },
    "executionInfo": {
     "elapsed": 412,
     "status": "ok",
     "timestamp": 1729793920492,
     "user": {
      "displayName": "Edgardo Rubén FLECHA",
      "userId": "15102767123563609240"
     },
     "user_tz": 180
    },
    "id": "M3Wx6xmkwDrJ",
    "outputId": "44a9a770-2c3c-4bba-c953-1f92a7551b42"
   },
   "outputs": [
    {
     "data": {
      "text/plain": [
       "Index(['id_recorrido', 'duracion_recorrido', 'fecha_origen_recorrido',\n",
       "       'id_estacion_origen', 'nombre_estacion_origen',\n",
       "       'direccion_estacion_origen', 'long_estacion_origen',\n",
       "       'lat_estacion_origen', 'fecha_destino_recorrido', 'id_estacion_destino',\n",
       "       'nombre_estacion_destino', 'direccion_estacion_destino',\n",
       "       'long_estacion_destino', 'lat_estacion_destino', 'id_usuario',\n",
       "       'modelo_bicicleta', 'genero'],\n",
       "      dtype='object')"
      ]
     },
     "execution_count": 8,
     "metadata": {},
     "output_type": "execute_result"
    }
   ],
   "source": [
    "# Si solo quiero los nombres de las columnas en formato lista\n",
    "bicis.columns"
   ]
  },
  {
   "cell_type": "code",
   "execution_count": 9,
   "metadata": {
    "colab": {
     "base_uri": "https://localhost:8080/"
    },
    "executionInfo": {
     "elapsed": 362,
     "status": "ok",
     "timestamp": 1729793951323,
     "user": {
      "displayName": "Edgardo Rubén FLECHA",
      "userId": "15102767123563609240"
     },
     "user_tz": 180
    },
    "id": "mHXQW1FFwL_Z",
    "outputId": "482ca490-d489-491c-a47d-e63fcefbecfc"
   },
   "outputs": [
    {
     "data": {
      "text/plain": [
       "(3559284, 17)"
      ]
     },
     "execution_count": 9,
     "metadata": {},
     "output_type": "execute_result"
    }
   ],
   "source": [
    "# Dimensionalidad del dataframe\n",
    "bicis.shape"
   ]
  },
  {
   "cell_type": "code",
   "execution_count": 10,
   "metadata": {
    "colab": {
     "base_uri": "https://localhost:8080/",
     "height": 649
    },
    "executionInfo": {
     "elapsed": 422,
     "status": "ok",
     "timestamp": 1729794031786,
     "user": {
      "displayName": "Edgardo Rubén FLECHA",
      "userId": "15102767123563609240"
     },
     "user_tz": 180
    },
    "id": "DVv0WcpZwhRb",
    "outputId": "d19a0239-983c-49a2-cfce-cfc22cd8fa0b"
   },
   "outputs": [
    {
     "data": {
      "text/plain": [
       "id_recorrido                    int64\n",
       "duracion_recorrido              int64\n",
       "fecha_origen_recorrido         object\n",
       "id_estacion_origen              int64\n",
       "nombre_estacion_origen         object\n",
       "direccion_estacion_origen      object\n",
       "long_estacion_origen          float64\n",
       "lat_estacion_origen           float64\n",
       "fecha_destino_recorrido        object\n",
       "id_estacion_destino             int64\n",
       "nombre_estacion_destino        object\n",
       "direccion_estacion_destino     object\n",
       "long_estacion_destino         float64\n",
       "lat_estacion_destino          float64\n",
       "id_usuario                    float64\n",
       "modelo_bicicleta               object\n",
       "genero                         object\n",
       "dtype: object"
      ]
     },
     "execution_count": 10,
     "metadata": {},
     "output_type": "execute_result"
    }
   ],
   "source": [
    "# El tipo de dato de cada una de las columnas\n",
    "# Acá veo que 'duracion_recorrido', 'fecha_origen_recorrido' y 'fecha_destino_recorrido'\n",
    "# son de tipo object (texto) y no está bueno eso\n",
    "bicis.dtypes"
   ]
  },
  {
   "cell_type": "markdown",
   "metadata": {
    "id": "C-rxg7E4BKWt"
   },
   "source": []
  },
  {
   "cell_type": "code",
   "execution_count": 11,
   "metadata": {
    "colab": {
     "base_uri": "https://localhost:8080/",
     "height": 458
    },
    "executionInfo": {
     "elapsed": 359,
     "status": "ok",
     "timestamp": 1729803553464,
     "user": {
      "displayName": "Edgardo Rubén FLECHA",
      "userId": "15102767123563609240"
     },
     "user_tz": 180
    },
    "id": "4DjyC_Tfw7aL",
    "outputId": "73c869f5-84b7-4e35-ebf3-22652163d647"
   },
   "outputs": [
    {
     "data": {
      "text/plain": [
       "0                    308 - SAN MARTIN II\n",
       "1                 133 - BEIRO Y SEGUROLA\n",
       "2                     328 - SARMIENTO II\n",
       "3                         204 - Biarritz\n",
       "4                 137 - AZOPARDO Y CHILE\n",
       "                       ...              \n",
       "3559279               093 - CARLOS CALVO\n",
       "3559280           137 - AZOPARDO Y CHILE\n",
       "3559281       270 - PLAZA DEL ANGEL GRIS\n",
       "3559282    160 - Godoy Cruz y Libertador\n",
       "3559283                332 - PACÍFICO II\n",
       "Name: nombre_estacion_origen, Length: 3559284, dtype: object"
      ]
     },
     "execution_count": 11,
     "metadata": {},
     "output_type": "execute_result"
    }
   ],
   "source": [
    "# Para acceder a una columna específica puedo usar el operador punto:\n",
    "bicis.nombre_estacion_origen"
   ]
  },
  {
   "cell_type": "code",
   "execution_count": 12,
   "metadata": {
    "id": "378tyPFPU6Qk"
   },
   "outputs": [
    {
     "data": {
      "text/plain": [
       "0                    308 - SAN MARTIN II\n",
       "1                 133 - BEIRO Y SEGUROLA\n",
       "2                     328 - SARMIENTO II\n",
       "3                         204 - Biarritz\n",
       "4                 137 - AZOPARDO Y CHILE\n",
       "                       ...              \n",
       "3559279               093 - CARLOS CALVO\n",
       "3559280           137 - AZOPARDO Y CHILE\n",
       "3559281       270 - PLAZA DEL ANGEL GRIS\n",
       "3559282    160 - Godoy Cruz y Libertador\n",
       "3559283                332 - PACÍFICO II\n",
       "Name: nombre_estacion_origen, Length: 3559284, dtype: object"
      ]
     },
     "execution_count": 12,
     "metadata": {},
     "output_type": "execute_result"
    }
   ],
   "source": [
    "# O el operador corchete:\n",
    "bicis['nombre_estacion_origen']"
   ]
  },
  {
   "cell_type": "markdown",
   "metadata": {
    "id": "vkd40U7f1Mwc"
   },
   "source": [
    "# 4. Preparación de Datos\n",
    "\n",
    "Si debo modificar una columna, es conveniente crear una nueva y no pisar la original. Lo mismo para los dataframes"
   ]
  },
  {
   "cell_type": "code",
   "execution_count": 13,
   "metadata": {
    "id": "iC61PMiOyFUd"
   },
   "outputs": [],
   "source": [
    "# Creo dos nuevas columnas con las fechas con el tipo de dato correcto.\n",
    "bicis['fecha_origen_recorrido_dt'] = pd.to_datetime(bicis['fecha_origen_recorrido'])\n",
    "bicis['fecha_destino_recorrido_dt'] = pd.to_datetime(bicis['fecha_destino_recorrido'])"
   ]
  },
  {
   "cell_type": "code",
   "execution_count": 14,
   "metadata": {
    "colab": {
     "base_uri": "https://localhost:8080/",
     "height": 261
    },
    "executionInfo": {
     "elapsed": 423,
     "status": "ok",
     "timestamp": 1729796410925,
     "user": {
      "displayName": "Edgardo Rubén FLECHA",
      "userId": "15102767123563609240"
     },
     "user_tz": 180
    },
    "id": "K-kXp1Ycy7d0",
    "outputId": "2bfb43d4-300d-42a0-f380-3d58d50ea9ce"
   },
   "outputs": [
    {
     "data": {
      "text/html": [
       "<div>\n",
       "<style scoped>\n",
       "    .dataframe tbody tr th:only-of-type {\n",
       "        vertical-align: middle;\n",
       "    }\n",
       "\n",
       "    .dataframe tbody tr th {\n",
       "        vertical-align: top;\n",
       "    }\n",
       "\n",
       "    .dataframe thead th {\n",
       "        text-align: right;\n",
       "    }\n",
       "</style>\n",
       "<table border=\"1\" class=\"dataframe\">\n",
       "  <thead>\n",
       "    <tr style=\"text-align: right;\">\n",
       "      <th></th>\n",
       "      <th>id_recorrido</th>\n",
       "      <th>duracion_recorrido</th>\n",
       "      <th>fecha_origen_recorrido</th>\n",
       "      <th>id_estacion_origen</th>\n",
       "      <th>nombre_estacion_origen</th>\n",
       "      <th>direccion_estacion_origen</th>\n",
       "      <th>long_estacion_origen</th>\n",
       "      <th>lat_estacion_origen</th>\n",
       "      <th>fecha_destino_recorrido</th>\n",
       "      <th>id_estacion_destino</th>\n",
       "      <th>nombre_estacion_destino</th>\n",
       "      <th>direccion_estacion_destino</th>\n",
       "      <th>long_estacion_destino</th>\n",
       "      <th>lat_estacion_destino</th>\n",
       "      <th>id_usuario</th>\n",
       "      <th>modelo_bicicleta</th>\n",
       "      <th>genero</th>\n",
       "      <th>fecha_origen_recorrido_dt</th>\n",
       "      <th>fecha_destino_recorrido_dt</th>\n",
       "    </tr>\n",
       "  </thead>\n",
       "  <tbody>\n",
       "    <tr>\n",
       "      <th>0</th>\n",
       "      <td>20428222</td>\n",
       "      <td>568</td>\n",
       "      <td>2024-01-23 18:36:00</td>\n",
       "      <td>513</td>\n",
       "      <td>308 - SAN MARTIN II</td>\n",
       "      <td>Av. San Martín 5129</td>\n",
       "      <td>-58.490739</td>\n",
       "      <td>-34.597130</td>\n",
       "      <td>2024-01-23 18:45:28</td>\n",
       "      <td>498</td>\n",
       "      <td>055 - HABANA</td>\n",
       "      <td>Gral. José Gervasio Artigas 4298 (y Habana)</td>\n",
       "      <td>-58.494959</td>\n",
       "      <td>-34.586598</td>\n",
       "      <td>992557.0</td>\n",
       "      <td>FIT</td>\n",
       "      <td>MALE</td>\n",
       "      <td>2024-01-23 18:36:00</td>\n",
       "      <td>2024-01-23 18:45:28</td>\n",
       "    </tr>\n",
       "    <tr>\n",
       "      <th>1</th>\n",
       "      <td>20431744</td>\n",
       "      <td>1355</td>\n",
       "      <td>2024-01-23 22:41:20</td>\n",
       "      <td>460</td>\n",
       "      <td>133 - BEIRO Y SEGUROLA</td>\n",
       "      <td>Segurola 3194</td>\n",
       "      <td>-58.511930</td>\n",
       "      <td>-34.607500</td>\n",
       "      <td>2024-01-23 23:03:55</td>\n",
       "      <td>382</td>\n",
       "      <td>204 - Biarritz</td>\n",
       "      <td>Biarritz 2403</td>\n",
       "      <td>-58.477255</td>\n",
       "      <td>-34.605431</td>\n",
       "      <td>320782.0</td>\n",
       "      <td>FIT</td>\n",
       "      <td>FEMALE</td>\n",
       "      <td>2024-01-23 22:41:20</td>\n",
       "      <td>2024-01-23 23:03:55</td>\n",
       "    </tr>\n",
       "    <tr>\n",
       "      <th>2</th>\n",
       "      <td>20429936</td>\n",
       "      <td>0</td>\n",
       "      <td>2024-01-23 20:06:22</td>\n",
       "      <td>467</td>\n",
       "      <td>328 - SARMIENTO II</td>\n",
       "      <td>Sarmiento 2037</td>\n",
       "      <td>-58.395893</td>\n",
       "      <td>-34.605514</td>\n",
       "      <td>2024-01-23 20:06:22</td>\n",
       "      <td>6</td>\n",
       "      <td>006 - Parque Lezama</td>\n",
       "      <td>Avenida Martin Garcia, 295</td>\n",
       "      <td>-58.369758</td>\n",
       "      <td>-34.628526</td>\n",
       "      <td>828678.0</td>\n",
       "      <td>FIT</td>\n",
       "      <td>FEMALE</td>\n",
       "      <td>2024-01-23 20:06:22</td>\n",
       "      <td>2024-01-23 20:06:22</td>\n",
       "    </tr>\n",
       "    <tr>\n",
       "      <th>3</th>\n",
       "      <td>20429976</td>\n",
       "      <td>0</td>\n",
       "      <td>2024-01-23 20:08:17</td>\n",
       "      <td>382</td>\n",
       "      <td>204 - Biarritz</td>\n",
       "      <td>Biarritz 2403</td>\n",
       "      <td>-58.477255</td>\n",
       "      <td>-34.605431</td>\n",
       "      <td>2024-01-23 20:08:17</td>\n",
       "      <td>460</td>\n",
       "      <td>133 - BEIRO Y SEGUROLA</td>\n",
       "      <td>Segurola 3194</td>\n",
       "      <td>-58.511930</td>\n",
       "      <td>-34.607500</td>\n",
       "      <td>320782.0</td>\n",
       "      <td>ICONIC</td>\n",
       "      <td>FEMALE</td>\n",
       "      <td>2024-01-23 20:08:17</td>\n",
       "      <td>2024-01-23 20:08:17</td>\n",
       "    </tr>\n",
       "    <tr>\n",
       "      <th>4</th>\n",
       "      <td>20424802</td>\n",
       "      <td>680</td>\n",
       "      <td>2024-01-23 15:18:39</td>\n",
       "      <td>137</td>\n",
       "      <td>137 - AZOPARDO Y CHILE</td>\n",
       "      <td>AZOPARDO 700</td>\n",
       "      <td>-58.367492</td>\n",
       "      <td>-34.615598</td>\n",
       "      <td>2024-01-23 15:29:59</td>\n",
       "      <td>150</td>\n",
       "      <td>150 - RODRIGO BUENO</td>\n",
       "      <td>Av. España 2200</td>\n",
       "      <td>-58.355465</td>\n",
       "      <td>-34.618755</td>\n",
       "      <td>861425.0</td>\n",
       "      <td>FIT</td>\n",
       "      <td>FEMALE</td>\n",
       "      <td>2024-01-23 15:18:39</td>\n",
       "      <td>2024-01-23 15:29:59</td>\n",
       "    </tr>\n",
       "  </tbody>\n",
       "</table>\n",
       "</div>"
      ],
      "text/plain": [
       "   id_recorrido  duracion_recorrido fecha_origen_recorrido  \\\n",
       "0      20428222                 568    2024-01-23 18:36:00   \n",
       "1      20431744                1355    2024-01-23 22:41:20   \n",
       "2      20429936                   0    2024-01-23 20:06:22   \n",
       "3      20429976                   0    2024-01-23 20:08:17   \n",
       "4      20424802                 680    2024-01-23 15:18:39   \n",
       "\n",
       "   id_estacion_origen  nombre_estacion_origen direccion_estacion_origen  \\\n",
       "0                 513     308 - SAN MARTIN II       Av. San Martín 5129   \n",
       "1                 460  133 - BEIRO Y SEGUROLA             Segurola 3194   \n",
       "2                 467      328 - SARMIENTO II            Sarmiento 2037   \n",
       "3                 382          204 - Biarritz             Biarritz 2403   \n",
       "4                 137  137 - AZOPARDO Y CHILE              AZOPARDO 700   \n",
       "\n",
       "   long_estacion_origen  lat_estacion_origen fecha_destino_recorrido  \\\n",
       "0            -58.490739           -34.597130     2024-01-23 18:45:28   \n",
       "1            -58.511930           -34.607500     2024-01-23 23:03:55   \n",
       "2            -58.395893           -34.605514     2024-01-23 20:06:22   \n",
       "3            -58.477255           -34.605431     2024-01-23 20:08:17   \n",
       "4            -58.367492           -34.615598     2024-01-23 15:29:59   \n",
       "\n",
       "   id_estacion_destino nombre_estacion_destino  \\\n",
       "0                  498            055 - HABANA   \n",
       "1                  382          204 - Biarritz   \n",
       "2                    6     006 - Parque Lezama   \n",
       "3                  460  133 - BEIRO Y SEGUROLA   \n",
       "4                  150     150 - RODRIGO BUENO   \n",
       "\n",
       "                    direccion_estacion_destino  long_estacion_destino  \\\n",
       "0  Gral. José Gervasio Artigas 4298 (y Habana)             -58.494959   \n",
       "1                                Biarritz 2403             -58.477255   \n",
       "2                   Avenida Martin Garcia, 295             -58.369758   \n",
       "3                                Segurola 3194             -58.511930   \n",
       "4                              Av. España 2200             -58.355465   \n",
       "\n",
       "   lat_estacion_destino  id_usuario modelo_bicicleta  genero  \\\n",
       "0            -34.586598    992557.0              FIT    MALE   \n",
       "1            -34.605431    320782.0              FIT  FEMALE   \n",
       "2            -34.628526    828678.0              FIT  FEMALE   \n",
       "3            -34.607500    320782.0           ICONIC  FEMALE   \n",
       "4            -34.618755    861425.0              FIT  FEMALE   \n",
       "\n",
       "  fecha_origen_recorrido_dt fecha_destino_recorrido_dt  \n",
       "0       2024-01-23 18:36:00        2024-01-23 18:45:28  \n",
       "1       2024-01-23 22:41:20        2024-01-23 23:03:55  \n",
       "2       2024-01-23 20:06:22        2024-01-23 20:06:22  \n",
       "3       2024-01-23 20:08:17        2024-01-23 20:08:17  \n",
       "4       2024-01-23 15:18:39        2024-01-23 15:29:59  "
      ]
     },
     "execution_count": 14,
     "metadata": {},
     "output_type": "execute_result"
    }
   ],
   "source": [
    "bicis.head()"
   ]
  },
  {
   "cell_type": "code",
   "execution_count": 15,
   "metadata": {
    "colab": {
     "base_uri": "https://localhost:8080/",
     "height": 711
    },
    "executionInfo": {
     "elapsed": 392,
     "status": "ok",
     "timestamp": 1729796738395,
     "user": {
      "displayName": "Edgardo Rubén FLECHA",
      "userId": "15102767123563609240"
     },
     "user_tz": 180
    },
    "id": "dixht9Yl61Xo",
    "outputId": "8ef2bb34-e637-4d2d-e50f-f9d72c18d01e"
   },
   "outputs": [
    {
     "data": {
      "text/plain": [
       "id_recorrido                           int64\n",
       "duracion_recorrido                     int64\n",
       "fecha_origen_recorrido                object\n",
       "id_estacion_origen                     int64\n",
       "nombre_estacion_origen                object\n",
       "direccion_estacion_origen             object\n",
       "long_estacion_origen                 float64\n",
       "lat_estacion_origen                  float64\n",
       "fecha_destino_recorrido               object\n",
       "id_estacion_destino                    int64\n",
       "nombre_estacion_destino               object\n",
       "direccion_estacion_destino            object\n",
       "long_estacion_destino                float64\n",
       "lat_estacion_destino                 float64\n",
       "id_usuario                           float64\n",
       "modelo_bicicleta                      object\n",
       "genero                                object\n",
       "fecha_origen_recorrido_dt     datetime64[ns]\n",
       "fecha_destino_recorrido_dt    datetime64[ns]\n",
       "dtype: object"
      ]
     },
     "execution_count": 15,
     "metadata": {},
     "output_type": "execute_result"
    }
   ],
   "source": [
    "bicis.dtypes"
   ]
  },
  {
   "cell_type": "code",
   "execution_count": 16,
   "metadata": {
    "id": "5S0YDQPb6R7t"
   },
   "outputs": [],
   "source": [
    "# Calculo la diferencia de tiempo y los llamo duracion_recorrido_dt\n",
    "bicis['duracion_recorrido_dt'] = bicis['fecha_destino_recorrido_dt'] - bicis['fecha_origen_recorrido_dt']"
   ]
  },
  {
   "cell_type": "code",
   "execution_count": 22,
   "metadata": {
    "colab": {
     "base_uri": "https://localhost:8080/",
     "height": 290
    },
    "executionInfo": {
     "elapsed": 373,
     "status": "ok",
     "timestamp": 1729796938650,
     "user": {
      "displayName": "Edgardo Rubén FLECHA",
      "userId": "15102767123563609240"
     },
     "user_tz": 180
    },
    "id": "brFt0BGs7nSi",
    "outputId": "b4eb1442-e079-4a37-eda8-205e9798c582"
   },
   "outputs": [
    {
     "data": {
      "text/html": [
       "<div>\n",
       "<style scoped>\n",
       "    .dataframe tbody tr th:only-of-type {\n",
       "        vertical-align: middle;\n",
       "    }\n",
       "\n",
       "    .dataframe tbody tr th {\n",
       "        vertical-align: top;\n",
       "    }\n",
       "\n",
       "    .dataframe thead th {\n",
       "        text-align: right;\n",
       "    }\n",
       "</style>\n",
       "<table border=\"1\" class=\"dataframe\">\n",
       "  <thead>\n",
       "    <tr style=\"text-align: right;\">\n",
       "      <th></th>\n",
       "      <th>id_recorrido</th>\n",
       "      <th>duracion_recorrido</th>\n",
       "      <th>fecha_origen_recorrido</th>\n",
       "      <th>id_estacion_origen</th>\n",
       "      <th>nombre_estacion_origen</th>\n",
       "      <th>direccion_estacion_origen</th>\n",
       "      <th>long_estacion_origen</th>\n",
       "      <th>lat_estacion_origen</th>\n",
       "      <th>fecha_destino_recorrido</th>\n",
       "      <th>id_estacion_destino</th>\n",
       "      <th>...</th>\n",
       "      <th>direccion_estacion_destino</th>\n",
       "      <th>long_estacion_destino</th>\n",
       "      <th>lat_estacion_destino</th>\n",
       "      <th>id_usuario</th>\n",
       "      <th>modelo_bicicleta</th>\n",
       "      <th>genero</th>\n",
       "      <th>fecha_origen_recorrido_dt</th>\n",
       "      <th>fecha_destino_recorrido_dt</th>\n",
       "      <th>duracion_recorrido_dt</th>\n",
       "      <th>duracion_recorrido_min</th>\n",
       "    </tr>\n",
       "  </thead>\n",
       "  <tbody>\n",
       "    <tr>\n",
       "      <th>0</th>\n",
       "      <td>20428222</td>\n",
       "      <td>568</td>\n",
       "      <td>2024-01-23 18:36:00</td>\n",
       "      <td>513</td>\n",
       "      <td>308 - SAN MARTIN II</td>\n",
       "      <td>Av. San Martín 5129</td>\n",
       "      <td>-58.490739</td>\n",
       "      <td>-34.597130</td>\n",
       "      <td>2024-01-23 18:45:28</td>\n",
       "      <td>498</td>\n",
       "      <td>...</td>\n",
       "      <td>Gral. José Gervasio Artigas 4298 (y Habana)</td>\n",
       "      <td>-58.494959</td>\n",
       "      <td>-34.586598</td>\n",
       "      <td>992557.0</td>\n",
       "      <td>FIT</td>\n",
       "      <td>MALE</td>\n",
       "      <td>2024-01-23 18:36:00</td>\n",
       "      <td>2024-01-23 18:45:28</td>\n",
       "      <td>0 days 00:09:28</td>\n",
       "      <td>9.466667</td>\n",
       "    </tr>\n",
       "    <tr>\n",
       "      <th>1</th>\n",
       "      <td>20431744</td>\n",
       "      <td>1355</td>\n",
       "      <td>2024-01-23 22:41:20</td>\n",
       "      <td>460</td>\n",
       "      <td>133 - BEIRO Y SEGUROLA</td>\n",
       "      <td>Segurola 3194</td>\n",
       "      <td>-58.511930</td>\n",
       "      <td>-34.607500</td>\n",
       "      <td>2024-01-23 23:03:55</td>\n",
       "      <td>382</td>\n",
       "      <td>...</td>\n",
       "      <td>Biarritz 2403</td>\n",
       "      <td>-58.477255</td>\n",
       "      <td>-34.605431</td>\n",
       "      <td>320782.0</td>\n",
       "      <td>FIT</td>\n",
       "      <td>FEMALE</td>\n",
       "      <td>2024-01-23 22:41:20</td>\n",
       "      <td>2024-01-23 23:03:55</td>\n",
       "      <td>0 days 00:22:35</td>\n",
       "      <td>22.583333</td>\n",
       "    </tr>\n",
       "    <tr>\n",
       "      <th>2</th>\n",
       "      <td>20429936</td>\n",
       "      <td>0</td>\n",
       "      <td>2024-01-23 20:06:22</td>\n",
       "      <td>467</td>\n",
       "      <td>328 - SARMIENTO II</td>\n",
       "      <td>Sarmiento 2037</td>\n",
       "      <td>-58.395893</td>\n",
       "      <td>-34.605514</td>\n",
       "      <td>2024-01-23 20:06:22</td>\n",
       "      <td>6</td>\n",
       "      <td>...</td>\n",
       "      <td>Avenida Martin Garcia, 295</td>\n",
       "      <td>-58.369758</td>\n",
       "      <td>-34.628526</td>\n",
       "      <td>828678.0</td>\n",
       "      <td>FIT</td>\n",
       "      <td>FEMALE</td>\n",
       "      <td>2024-01-23 20:06:22</td>\n",
       "      <td>2024-01-23 20:06:22</td>\n",
       "      <td>0 days 00:00:00</td>\n",
       "      <td>0.000000</td>\n",
       "    </tr>\n",
       "    <tr>\n",
       "      <th>3</th>\n",
       "      <td>20429976</td>\n",
       "      <td>0</td>\n",
       "      <td>2024-01-23 20:08:17</td>\n",
       "      <td>382</td>\n",
       "      <td>204 - Biarritz</td>\n",
       "      <td>Biarritz 2403</td>\n",
       "      <td>-58.477255</td>\n",
       "      <td>-34.605431</td>\n",
       "      <td>2024-01-23 20:08:17</td>\n",
       "      <td>460</td>\n",
       "      <td>...</td>\n",
       "      <td>Segurola 3194</td>\n",
       "      <td>-58.511930</td>\n",
       "      <td>-34.607500</td>\n",
       "      <td>320782.0</td>\n",
       "      <td>ICONIC</td>\n",
       "      <td>FEMALE</td>\n",
       "      <td>2024-01-23 20:08:17</td>\n",
       "      <td>2024-01-23 20:08:17</td>\n",
       "      <td>0 days 00:00:00</td>\n",
       "      <td>0.000000</td>\n",
       "    </tr>\n",
       "    <tr>\n",
       "      <th>4</th>\n",
       "      <td>20424802</td>\n",
       "      <td>680</td>\n",
       "      <td>2024-01-23 15:18:39</td>\n",
       "      <td>137</td>\n",
       "      <td>137 - AZOPARDO Y CHILE</td>\n",
       "      <td>AZOPARDO 700</td>\n",
       "      <td>-58.367492</td>\n",
       "      <td>-34.615598</td>\n",
       "      <td>2024-01-23 15:29:59</td>\n",
       "      <td>150</td>\n",
       "      <td>...</td>\n",
       "      <td>Av. España 2200</td>\n",
       "      <td>-58.355465</td>\n",
       "      <td>-34.618755</td>\n",
       "      <td>861425.0</td>\n",
       "      <td>FIT</td>\n",
       "      <td>FEMALE</td>\n",
       "      <td>2024-01-23 15:18:39</td>\n",
       "      <td>2024-01-23 15:29:59</td>\n",
       "      <td>0 days 00:11:20</td>\n",
       "      <td>11.333333</td>\n",
       "    </tr>\n",
       "  </tbody>\n",
       "</table>\n",
       "<p>5 rows × 21 columns</p>\n",
       "</div>"
      ],
      "text/plain": [
       "   id_recorrido  duracion_recorrido fecha_origen_recorrido  \\\n",
       "0      20428222                 568    2024-01-23 18:36:00   \n",
       "1      20431744                1355    2024-01-23 22:41:20   \n",
       "2      20429936                   0    2024-01-23 20:06:22   \n",
       "3      20429976                   0    2024-01-23 20:08:17   \n",
       "4      20424802                 680    2024-01-23 15:18:39   \n",
       "\n",
       "   id_estacion_origen  nombre_estacion_origen direccion_estacion_origen  \\\n",
       "0                 513     308 - SAN MARTIN II       Av. San Martín 5129   \n",
       "1                 460  133 - BEIRO Y SEGUROLA             Segurola 3194   \n",
       "2                 467      328 - SARMIENTO II            Sarmiento 2037   \n",
       "3                 382          204 - Biarritz             Biarritz 2403   \n",
       "4                 137  137 - AZOPARDO Y CHILE              AZOPARDO 700   \n",
       "\n",
       "   long_estacion_origen  lat_estacion_origen fecha_destino_recorrido  \\\n",
       "0            -58.490739           -34.597130     2024-01-23 18:45:28   \n",
       "1            -58.511930           -34.607500     2024-01-23 23:03:55   \n",
       "2            -58.395893           -34.605514     2024-01-23 20:06:22   \n",
       "3            -58.477255           -34.605431     2024-01-23 20:08:17   \n",
       "4            -58.367492           -34.615598     2024-01-23 15:29:59   \n",
       "\n",
       "   id_estacion_destino  ...                   direccion_estacion_destino  \\\n",
       "0                  498  ...  Gral. José Gervasio Artigas 4298 (y Habana)   \n",
       "1                  382  ...                                Biarritz 2403   \n",
       "2                    6  ...                   Avenida Martin Garcia, 295   \n",
       "3                  460  ...                                Segurola 3194   \n",
       "4                  150  ...                              Av. España 2200   \n",
       "\n",
       "  long_estacion_destino  lat_estacion_destino  id_usuario  modelo_bicicleta  \\\n",
       "0            -58.494959            -34.586598    992557.0               FIT   \n",
       "1            -58.477255            -34.605431    320782.0               FIT   \n",
       "2            -58.369758            -34.628526    828678.0               FIT   \n",
       "3            -58.511930            -34.607500    320782.0            ICONIC   \n",
       "4            -58.355465            -34.618755    861425.0               FIT   \n",
       "\n",
       "   genero fecha_origen_recorrido_dt fecha_destino_recorrido_dt  \\\n",
       "0    MALE       2024-01-23 18:36:00        2024-01-23 18:45:28   \n",
       "1  FEMALE       2024-01-23 22:41:20        2024-01-23 23:03:55   \n",
       "2  FEMALE       2024-01-23 20:06:22        2024-01-23 20:06:22   \n",
       "3  FEMALE       2024-01-23 20:08:17        2024-01-23 20:08:17   \n",
       "4  FEMALE       2024-01-23 15:18:39        2024-01-23 15:29:59   \n",
       "\n",
       "  duracion_recorrido_dt duracion_recorrido_min  \n",
       "0       0 days 00:09:28               9.466667  \n",
       "1       0 days 00:22:35              22.583333  \n",
       "2       0 days 00:00:00               0.000000  \n",
       "3       0 days 00:00:00               0.000000  \n",
       "4       0 days 00:11:20              11.333333  \n",
       "\n",
       "[5 rows x 21 columns]"
      ]
     },
     "execution_count": 22,
     "metadata": {},
     "output_type": "execute_result"
    }
   ],
   "source": [
    "bicis.head()"
   ]
  },
  {
   "cell_type": "code",
   "execution_count": 19,
   "metadata": {
    "colab": {
     "base_uri": "https://localhost:8080/",
     "height": 743
    },
    "executionInfo": {
     "elapsed": 358,
     "status": "ok",
     "timestamp": 1729796984417,
     "user": {
      "displayName": "Edgardo Rubén FLECHA",
      "userId": "15102767123563609240"
     },
     "user_tz": 180
    },
    "id": "vFCBb-F07yMY",
    "outputId": "3a439cba-0f6c-4b9d-a8a9-d26e7a3296e0"
   },
   "outputs": [
    {
     "data": {
      "text/plain": [
       "id_recorrido                            int64\n",
       "duracion_recorrido                      int64\n",
       "fecha_origen_recorrido                 object\n",
       "id_estacion_origen                      int64\n",
       "nombre_estacion_origen                 object\n",
       "direccion_estacion_origen              object\n",
       "long_estacion_origen                  float64\n",
       "lat_estacion_origen                   float64\n",
       "fecha_destino_recorrido                object\n",
       "id_estacion_destino                     int64\n",
       "nombre_estacion_destino                object\n",
       "direccion_estacion_destino             object\n",
       "long_estacion_destino                 float64\n",
       "lat_estacion_destino                  float64\n",
       "id_usuario                            float64\n",
       "modelo_bicicleta                       object\n",
       "genero                                 object\n",
       "fecha_origen_recorrido_dt      datetime64[ns]\n",
       "fecha_destino_recorrido_dt     datetime64[ns]\n",
       "duracion_recorrido_dt         timedelta64[ns]\n",
       "dtype: object"
      ]
     },
     "execution_count": 19,
     "metadata": {},
     "output_type": "execute_result"
    }
   ],
   "source": [
    "# El tipo de dato de la nueva columna no resulta conveniente:\n",
    "bicis.dtypes"
   ]
  },
  {
   "cell_type": "code",
   "execution_count": 23,
   "metadata": {
    "id": "6K5a009V73Bu"
   },
   "outputs": [],
   "source": [
    "# Por ende creo una nueva columna con los valores de minutos totales con formato float\n",
    "bicis['duracion_recorrido_min'] = bicis['duracion_recorrido_dt'].dt.total_seconds() / 60"
   ]
  },
  {
   "cell_type": "code",
   "execution_count": 24,
   "metadata": {
    "colab": {
     "base_uri": "https://localhost:8080/",
     "height": 290
    },
    "executionInfo": {
     "elapsed": 8,
     "status": "ok",
     "timestamp": 1729797128271,
     "user": {
      "displayName": "Edgardo Rubén FLECHA",
      "userId": "15102767123563609240"
     },
     "user_tz": 180
    },
    "id": "lhU6iZDC8US8",
    "outputId": "3cee1429-d4da-4cd4-d9a7-b6965b74642e"
   },
   "outputs": [
    {
     "data": {
      "text/html": [
       "<div>\n",
       "<style scoped>\n",
       "    .dataframe tbody tr th:only-of-type {\n",
       "        vertical-align: middle;\n",
       "    }\n",
       "\n",
       "    .dataframe tbody tr th {\n",
       "        vertical-align: top;\n",
       "    }\n",
       "\n",
       "    .dataframe thead th {\n",
       "        text-align: right;\n",
       "    }\n",
       "</style>\n",
       "<table border=\"1\" class=\"dataframe\">\n",
       "  <thead>\n",
       "    <tr style=\"text-align: right;\">\n",
       "      <th></th>\n",
       "      <th>id_recorrido</th>\n",
       "      <th>duracion_recorrido</th>\n",
       "      <th>fecha_origen_recorrido</th>\n",
       "      <th>id_estacion_origen</th>\n",
       "      <th>nombre_estacion_origen</th>\n",
       "      <th>direccion_estacion_origen</th>\n",
       "      <th>long_estacion_origen</th>\n",
       "      <th>lat_estacion_origen</th>\n",
       "      <th>fecha_destino_recorrido</th>\n",
       "      <th>id_estacion_destino</th>\n",
       "      <th>...</th>\n",
       "      <th>direccion_estacion_destino</th>\n",
       "      <th>long_estacion_destino</th>\n",
       "      <th>lat_estacion_destino</th>\n",
       "      <th>id_usuario</th>\n",
       "      <th>modelo_bicicleta</th>\n",
       "      <th>genero</th>\n",
       "      <th>fecha_origen_recorrido_dt</th>\n",
       "      <th>fecha_destino_recorrido_dt</th>\n",
       "      <th>duracion_recorrido_dt</th>\n",
       "      <th>duracion_recorrido_min</th>\n",
       "    </tr>\n",
       "  </thead>\n",
       "  <tbody>\n",
       "    <tr>\n",
       "      <th>0</th>\n",
       "      <td>20428222</td>\n",
       "      <td>568</td>\n",
       "      <td>2024-01-23 18:36:00</td>\n",
       "      <td>513</td>\n",
       "      <td>308 - SAN MARTIN II</td>\n",
       "      <td>Av. San Martín 5129</td>\n",
       "      <td>-58.490739</td>\n",
       "      <td>-34.597130</td>\n",
       "      <td>2024-01-23 18:45:28</td>\n",
       "      <td>498</td>\n",
       "      <td>...</td>\n",
       "      <td>Gral. José Gervasio Artigas 4298 (y Habana)</td>\n",
       "      <td>-58.494959</td>\n",
       "      <td>-34.586598</td>\n",
       "      <td>992557.0</td>\n",
       "      <td>FIT</td>\n",
       "      <td>MALE</td>\n",
       "      <td>2024-01-23 18:36:00</td>\n",
       "      <td>2024-01-23 18:45:28</td>\n",
       "      <td>0 days 00:09:28</td>\n",
       "      <td>9.466667</td>\n",
       "    </tr>\n",
       "    <tr>\n",
       "      <th>1</th>\n",
       "      <td>20431744</td>\n",
       "      <td>1355</td>\n",
       "      <td>2024-01-23 22:41:20</td>\n",
       "      <td>460</td>\n",
       "      <td>133 - BEIRO Y SEGUROLA</td>\n",
       "      <td>Segurola 3194</td>\n",
       "      <td>-58.511930</td>\n",
       "      <td>-34.607500</td>\n",
       "      <td>2024-01-23 23:03:55</td>\n",
       "      <td>382</td>\n",
       "      <td>...</td>\n",
       "      <td>Biarritz 2403</td>\n",
       "      <td>-58.477255</td>\n",
       "      <td>-34.605431</td>\n",
       "      <td>320782.0</td>\n",
       "      <td>FIT</td>\n",
       "      <td>FEMALE</td>\n",
       "      <td>2024-01-23 22:41:20</td>\n",
       "      <td>2024-01-23 23:03:55</td>\n",
       "      <td>0 days 00:22:35</td>\n",
       "      <td>22.583333</td>\n",
       "    </tr>\n",
       "    <tr>\n",
       "      <th>2</th>\n",
       "      <td>20429936</td>\n",
       "      <td>0</td>\n",
       "      <td>2024-01-23 20:06:22</td>\n",
       "      <td>467</td>\n",
       "      <td>328 - SARMIENTO II</td>\n",
       "      <td>Sarmiento 2037</td>\n",
       "      <td>-58.395893</td>\n",
       "      <td>-34.605514</td>\n",
       "      <td>2024-01-23 20:06:22</td>\n",
       "      <td>6</td>\n",
       "      <td>...</td>\n",
       "      <td>Avenida Martin Garcia, 295</td>\n",
       "      <td>-58.369758</td>\n",
       "      <td>-34.628526</td>\n",
       "      <td>828678.0</td>\n",
       "      <td>FIT</td>\n",
       "      <td>FEMALE</td>\n",
       "      <td>2024-01-23 20:06:22</td>\n",
       "      <td>2024-01-23 20:06:22</td>\n",
       "      <td>0 days 00:00:00</td>\n",
       "      <td>0.000000</td>\n",
       "    </tr>\n",
       "    <tr>\n",
       "      <th>3</th>\n",
       "      <td>20429976</td>\n",
       "      <td>0</td>\n",
       "      <td>2024-01-23 20:08:17</td>\n",
       "      <td>382</td>\n",
       "      <td>204 - Biarritz</td>\n",
       "      <td>Biarritz 2403</td>\n",
       "      <td>-58.477255</td>\n",
       "      <td>-34.605431</td>\n",
       "      <td>2024-01-23 20:08:17</td>\n",
       "      <td>460</td>\n",
       "      <td>...</td>\n",
       "      <td>Segurola 3194</td>\n",
       "      <td>-58.511930</td>\n",
       "      <td>-34.607500</td>\n",
       "      <td>320782.0</td>\n",
       "      <td>ICONIC</td>\n",
       "      <td>FEMALE</td>\n",
       "      <td>2024-01-23 20:08:17</td>\n",
       "      <td>2024-01-23 20:08:17</td>\n",
       "      <td>0 days 00:00:00</td>\n",
       "      <td>0.000000</td>\n",
       "    </tr>\n",
       "    <tr>\n",
       "      <th>4</th>\n",
       "      <td>20424802</td>\n",
       "      <td>680</td>\n",
       "      <td>2024-01-23 15:18:39</td>\n",
       "      <td>137</td>\n",
       "      <td>137 - AZOPARDO Y CHILE</td>\n",
       "      <td>AZOPARDO 700</td>\n",
       "      <td>-58.367492</td>\n",
       "      <td>-34.615598</td>\n",
       "      <td>2024-01-23 15:29:59</td>\n",
       "      <td>150</td>\n",
       "      <td>...</td>\n",
       "      <td>Av. España 2200</td>\n",
       "      <td>-58.355465</td>\n",
       "      <td>-34.618755</td>\n",
       "      <td>861425.0</td>\n",
       "      <td>FIT</td>\n",
       "      <td>FEMALE</td>\n",
       "      <td>2024-01-23 15:18:39</td>\n",
       "      <td>2024-01-23 15:29:59</td>\n",
       "      <td>0 days 00:11:20</td>\n",
       "      <td>11.333333</td>\n",
       "    </tr>\n",
       "  </tbody>\n",
       "</table>\n",
       "<p>5 rows × 21 columns</p>\n",
       "</div>"
      ],
      "text/plain": [
       "   id_recorrido  duracion_recorrido fecha_origen_recorrido  \\\n",
       "0      20428222                 568    2024-01-23 18:36:00   \n",
       "1      20431744                1355    2024-01-23 22:41:20   \n",
       "2      20429936                   0    2024-01-23 20:06:22   \n",
       "3      20429976                   0    2024-01-23 20:08:17   \n",
       "4      20424802                 680    2024-01-23 15:18:39   \n",
       "\n",
       "   id_estacion_origen  nombre_estacion_origen direccion_estacion_origen  \\\n",
       "0                 513     308 - SAN MARTIN II       Av. San Martín 5129   \n",
       "1                 460  133 - BEIRO Y SEGUROLA             Segurola 3194   \n",
       "2                 467      328 - SARMIENTO II            Sarmiento 2037   \n",
       "3                 382          204 - Biarritz             Biarritz 2403   \n",
       "4                 137  137 - AZOPARDO Y CHILE              AZOPARDO 700   \n",
       "\n",
       "   long_estacion_origen  lat_estacion_origen fecha_destino_recorrido  \\\n",
       "0            -58.490739           -34.597130     2024-01-23 18:45:28   \n",
       "1            -58.511930           -34.607500     2024-01-23 23:03:55   \n",
       "2            -58.395893           -34.605514     2024-01-23 20:06:22   \n",
       "3            -58.477255           -34.605431     2024-01-23 20:08:17   \n",
       "4            -58.367492           -34.615598     2024-01-23 15:29:59   \n",
       "\n",
       "   id_estacion_destino  ...                   direccion_estacion_destino  \\\n",
       "0                  498  ...  Gral. José Gervasio Artigas 4298 (y Habana)   \n",
       "1                  382  ...                                Biarritz 2403   \n",
       "2                    6  ...                   Avenida Martin Garcia, 295   \n",
       "3                  460  ...                                Segurola 3194   \n",
       "4                  150  ...                              Av. España 2200   \n",
       "\n",
       "  long_estacion_destino  lat_estacion_destino  id_usuario  modelo_bicicleta  \\\n",
       "0            -58.494959            -34.586598    992557.0               FIT   \n",
       "1            -58.477255            -34.605431    320782.0               FIT   \n",
       "2            -58.369758            -34.628526    828678.0               FIT   \n",
       "3            -58.511930            -34.607500    320782.0            ICONIC   \n",
       "4            -58.355465            -34.618755    861425.0               FIT   \n",
       "\n",
       "   genero fecha_origen_recorrido_dt fecha_destino_recorrido_dt  \\\n",
       "0    MALE       2024-01-23 18:36:00        2024-01-23 18:45:28   \n",
       "1  FEMALE       2024-01-23 22:41:20        2024-01-23 23:03:55   \n",
       "2  FEMALE       2024-01-23 20:06:22        2024-01-23 20:06:22   \n",
       "3  FEMALE       2024-01-23 20:08:17        2024-01-23 20:08:17   \n",
       "4  FEMALE       2024-01-23 15:18:39        2024-01-23 15:29:59   \n",
       "\n",
       "  duracion_recorrido_dt duracion_recorrido_min  \n",
       "0       0 days 00:09:28               9.466667  \n",
       "1       0 days 00:22:35              22.583333  \n",
       "2       0 days 00:00:00               0.000000  \n",
       "3       0 days 00:00:00               0.000000  \n",
       "4       0 days 00:11:20              11.333333  \n",
       "\n",
       "[5 rows x 21 columns]"
      ]
     },
     "execution_count": 24,
     "metadata": {},
     "output_type": "execute_result"
    }
   ],
   "source": [
    "bicis.head()"
   ]
  },
  {
   "cell_type": "code",
   "execution_count": 25,
   "metadata": {
    "colab": {
     "base_uri": "https://localhost:8080/",
     "height": 490
    },
    "executionInfo": {
     "elapsed": 389,
     "status": "ok",
     "timestamp": 1729797315231,
     "user": {
      "displayName": "Edgardo Rubén FLECHA",
      "userId": "15102767123563609240"
     },
     "user_tz": 180
    },
    "id": "0U_YkqVF82_i",
    "outputId": "c3a341f0-e112-4f62-9e07-e4d4fa681b28"
   },
   "outputs": [
    {
     "data": {
      "text/plain": [
       "nombre_estacion_origen\n",
       "147 - Constitución           38237\n",
       "014 - Pacifico               37594\n",
       "368 - PLAZA DE LA SHOÁ       37201\n",
       "005 - Plaza Italia           34547\n",
       "001 - FACULTAD DE DERECHO    30955\n",
       "                             ...  \n",
       "326 - PICO                     385\n",
       "321 - EZEIZA                   360\n",
       "327 - IBERA                    331\n",
       "125 - BILBAO                   268\n",
       "040 - HERRERA                  258\n",
       "Name: count, Length: 395, dtype: int64"
      ]
     },
     "execution_count": 25,
     "metadata": {},
     "output_type": "execute_result"
    }
   ],
   "source": [
    "# Veo cuantos registros tengo por cada valor de estacion origen\n",
    "bicis['nombre_estacion_origen'].value_counts()"
   ]
  },
  {
   "cell_type": "code",
   "execution_count": 26,
   "metadata": {
    "id": "UbLmnqxI8m-h"
   },
   "outputs": [],
   "source": [
    "# Creo un nuevo dataframe con los registros de la estación Constitución\n",
    "bicis_constitucion = bicis[bicis['nombre_estacion_origen'] == '147 - Constitución']"
   ]
  },
  {
   "cell_type": "code",
   "execution_count": 29,
   "metadata": {
    "colab": {
     "base_uri": "https://localhost:8080/",
     "height": 273
    },
    "executionInfo": {
     "elapsed": 377,
     "status": "ok",
     "timestamp": 1729797555493,
     "user": {
      "displayName": "Edgardo Rubén FLECHA",
      "userId": "15102767123563609240"
     },
     "user_tz": 180
    },
    "id": "MyhmjfmZ9wid",
    "outputId": "582c18ec-b870-4dcb-ce12-ecf2f9e58e0b"
   },
   "outputs": [
    {
     "data": {
      "text/html": [
       "<div>\n",
       "<style scoped>\n",
       "    .dataframe tbody tr th:only-of-type {\n",
       "        vertical-align: middle;\n",
       "    }\n",
       "\n",
       "    .dataframe tbody tr th {\n",
       "        vertical-align: top;\n",
       "    }\n",
       "\n",
       "    .dataframe thead th {\n",
       "        text-align: right;\n",
       "    }\n",
       "</style>\n",
       "<table border=\"1\" class=\"dataframe\">\n",
       "  <thead>\n",
       "    <tr style=\"text-align: right;\">\n",
       "      <th></th>\n",
       "      <th>id_recorrido</th>\n",
       "      <th>duracion_recorrido</th>\n",
       "      <th>fecha_origen_recorrido</th>\n",
       "      <th>id_estacion_origen</th>\n",
       "      <th>nombre_estacion_origen</th>\n",
       "      <th>direccion_estacion_origen</th>\n",
       "      <th>long_estacion_origen</th>\n",
       "      <th>lat_estacion_origen</th>\n",
       "      <th>fecha_destino_recorrido</th>\n",
       "      <th>id_estacion_destino</th>\n",
       "      <th>...</th>\n",
       "      <th>direccion_estacion_destino</th>\n",
       "      <th>long_estacion_destino</th>\n",
       "      <th>lat_estacion_destino</th>\n",
       "      <th>id_usuario</th>\n",
       "      <th>modelo_bicicleta</th>\n",
       "      <th>genero</th>\n",
       "      <th>fecha_origen_recorrido_dt</th>\n",
       "      <th>fecha_destino_recorrido_dt</th>\n",
       "      <th>duracion_recorrido_dt</th>\n",
       "      <th>duracion_recorrido_min</th>\n",
       "    </tr>\n",
       "  </thead>\n",
       "  <tbody>\n",
       "    <tr>\n",
       "      <th>495</th>\n",
       "      <td>20410470</td>\n",
       "      <td>3478</td>\n",
       "      <td>2024-01-22 15:55:19</td>\n",
       "      <td>175</td>\n",
       "      <td>147 - Constitución</td>\n",
       "      <td>Avenida Juan de Garay 1050</td>\n",
       "      <td>-58.380707</td>\n",
       "      <td>-34.626851</td>\n",
       "      <td>2024-01-22 16:53:17</td>\n",
       "      <td>65</td>\n",
       "      <td>...</td>\n",
       "      <td>3822 Guemes</td>\n",
       "      <td>-58.415787</td>\n",
       "      <td>-34.587312</td>\n",
       "      <td>24778.0</td>\n",
       "      <td>FIT</td>\n",
       "      <td>FEMALE</td>\n",
       "      <td>2024-01-22 15:55:19</td>\n",
       "      <td>2024-01-22 16:53:17</td>\n",
       "      <td>0 days 00:57:58</td>\n",
       "      <td>57.966667</td>\n",
       "    </tr>\n",
       "    <tr>\n",
       "      <th>606</th>\n",
       "      <td>20410719</td>\n",
       "      <td>5645</td>\n",
       "      <td>2024-01-22 16:10:34</td>\n",
       "      <td>175</td>\n",
       "      <td>147 - Constitución</td>\n",
       "      <td>Avenida Juan de Garay 1050</td>\n",
       "      <td>-58.380707</td>\n",
       "      <td>-34.626851</td>\n",
       "      <td>2024-01-22 17:44:39</td>\n",
       "      <td>252</td>\n",
       "      <td>...</td>\n",
       "      <td>California 1774 y General Hornos</td>\n",
       "      <td>-58.374336</td>\n",
       "      <td>-34.647121</td>\n",
       "      <td>1097361.0</td>\n",
       "      <td>FIT</td>\n",
       "      <td>MALE</td>\n",
       "      <td>2024-01-22 16:10:34</td>\n",
       "      <td>2024-01-22 17:44:39</td>\n",
       "      <td>0 days 01:34:05</td>\n",
       "      <td>94.083333</td>\n",
       "    </tr>\n",
       "    <tr>\n",
       "      <th>695</th>\n",
       "      <td>20410770</td>\n",
       "      <td>5508</td>\n",
       "      <td>2024-01-22 16:13:03</td>\n",
       "      <td>175</td>\n",
       "      <td>147 - Constitución</td>\n",
       "      <td>Avenida Juan de Garay 1050</td>\n",
       "      <td>-58.380707</td>\n",
       "      <td>-34.626851</td>\n",
       "      <td>2024-01-22 17:44:51</td>\n",
       "      <td>252</td>\n",
       "      <td>...</td>\n",
       "      <td>California 1774 y General Hornos</td>\n",
       "      <td>-58.374336</td>\n",
       "      <td>-34.647121</td>\n",
       "      <td>1096537.0</td>\n",
       "      <td>FIT</td>\n",
       "      <td>MALE</td>\n",
       "      <td>2024-01-22 16:13:03</td>\n",
       "      <td>2024-01-22 17:44:51</td>\n",
       "      <td>0 days 01:31:48</td>\n",
       "      <td>91.800000</td>\n",
       "    </tr>\n",
       "    <tr>\n",
       "      <th>709</th>\n",
       "      <td>20410923</td>\n",
       "      <td>4926</td>\n",
       "      <td>2024-01-22 16:23:09</td>\n",
       "      <td>175</td>\n",
       "      <td>147 - Constitución</td>\n",
       "      <td>Avenida Juan de Garay 1050</td>\n",
       "      <td>-58.380707</td>\n",
       "      <td>-34.626851</td>\n",
       "      <td>2024-01-22 17:45:15</td>\n",
       "      <td>252</td>\n",
       "      <td>...</td>\n",
       "      <td>California 1774 y General Hornos</td>\n",
       "      <td>-58.374336</td>\n",
       "      <td>-34.647121</td>\n",
       "      <td>1096250.0</td>\n",
       "      <td>FIT</td>\n",
       "      <td>MALE</td>\n",
       "      <td>2024-01-22 16:23:09</td>\n",
       "      <td>2024-01-22 17:45:15</td>\n",
       "      <td>0 days 01:22:06</td>\n",
       "      <td>82.100000</td>\n",
       "    </tr>\n",
       "    <tr>\n",
       "      <th>785</th>\n",
       "      <td>20433294</td>\n",
       "      <td>664</td>\n",
       "      <td>2024-01-24 06:07:40</td>\n",
       "      <td>175</td>\n",
       "      <td>147 - Constitución</td>\n",
       "      <td>Avenida Juan de Garay 1050</td>\n",
       "      <td>-58.380707</td>\n",
       "      <td>-34.626851</td>\n",
       "      <td>2024-01-24 06:18:44</td>\n",
       "      <td>48</td>\n",
       "      <td>...</td>\n",
       "      <td>Elvira Rawson de Dellepiane 150</td>\n",
       "      <td>-58.363245</td>\n",
       "      <td>-34.623640</td>\n",
       "      <td>1054412.0</td>\n",
       "      <td>FIT</td>\n",
       "      <td>MALE</td>\n",
       "      <td>2024-01-24 06:07:40</td>\n",
       "      <td>2024-01-24 06:18:44</td>\n",
       "      <td>0 days 00:11:04</td>\n",
       "      <td>11.066667</td>\n",
       "    </tr>\n",
       "  </tbody>\n",
       "</table>\n",
       "<p>5 rows × 21 columns</p>\n",
       "</div>"
      ],
      "text/plain": [
       "     id_recorrido  duracion_recorrido fecha_origen_recorrido  \\\n",
       "495      20410470                3478    2024-01-22 15:55:19   \n",
       "606      20410719                5645    2024-01-22 16:10:34   \n",
       "695      20410770                5508    2024-01-22 16:13:03   \n",
       "709      20410923                4926    2024-01-22 16:23:09   \n",
       "785      20433294                 664    2024-01-24 06:07:40   \n",
       "\n",
       "     id_estacion_origen nombre_estacion_origen   direccion_estacion_origen  \\\n",
       "495                 175     147 - Constitución  Avenida Juan de Garay 1050   \n",
       "606                 175     147 - Constitución  Avenida Juan de Garay 1050   \n",
       "695                 175     147 - Constitución  Avenida Juan de Garay 1050   \n",
       "709                 175     147 - Constitución  Avenida Juan de Garay 1050   \n",
       "785                 175     147 - Constitución  Avenida Juan de Garay 1050   \n",
       "\n",
       "     long_estacion_origen  lat_estacion_origen fecha_destino_recorrido  \\\n",
       "495            -58.380707           -34.626851     2024-01-22 16:53:17   \n",
       "606            -58.380707           -34.626851     2024-01-22 17:44:39   \n",
       "695            -58.380707           -34.626851     2024-01-22 17:44:51   \n",
       "709            -58.380707           -34.626851     2024-01-22 17:45:15   \n",
       "785            -58.380707           -34.626851     2024-01-24 06:18:44   \n",
       "\n",
       "     id_estacion_destino  ...        direccion_estacion_destino  \\\n",
       "495                   65  ...                       3822 Guemes   \n",
       "606                  252  ...  California 1774 y General Hornos   \n",
       "695                  252  ...  California 1774 y General Hornos   \n",
       "709                  252  ...  California 1774 y General Hornos   \n",
       "785                   48  ...   Elvira Rawson de Dellepiane 150   \n",
       "\n",
       "    long_estacion_destino  lat_estacion_destino  id_usuario  modelo_bicicleta  \\\n",
       "495            -58.415787            -34.587312     24778.0               FIT   \n",
       "606            -58.374336            -34.647121   1097361.0               FIT   \n",
       "695            -58.374336            -34.647121   1096537.0               FIT   \n",
       "709            -58.374336            -34.647121   1096250.0               FIT   \n",
       "785            -58.363245            -34.623640   1054412.0               FIT   \n",
       "\n",
       "     genero fecha_origen_recorrido_dt fecha_destino_recorrido_dt  \\\n",
       "495  FEMALE       2024-01-22 15:55:19        2024-01-22 16:53:17   \n",
       "606    MALE       2024-01-22 16:10:34        2024-01-22 17:44:39   \n",
       "695    MALE       2024-01-22 16:13:03        2024-01-22 17:44:51   \n",
       "709    MALE       2024-01-22 16:23:09        2024-01-22 17:45:15   \n",
       "785    MALE       2024-01-24 06:07:40        2024-01-24 06:18:44   \n",
       "\n",
       "    duracion_recorrido_dt duracion_recorrido_min  \n",
       "495       0 days 00:57:58              57.966667  \n",
       "606       0 days 01:34:05              94.083333  \n",
       "695       0 days 01:31:48              91.800000  \n",
       "709       0 days 01:22:06              82.100000  \n",
       "785       0 days 00:11:04              11.066667  \n",
       "\n",
       "[5 rows x 21 columns]"
      ]
     },
     "execution_count": 29,
     "metadata": {},
     "output_type": "execute_result"
    }
   ],
   "source": [
    "bicis_constitucion.head()"
   ]
  },
  {
   "cell_type": "code",
   "execution_count": 30,
   "metadata": {
    "colab": {
     "base_uri": "https://localhost:8080/"
    },
    "executionInfo": {
     "elapsed": 509,
     "status": "ok",
     "timestamp": 1729797575796,
     "user": {
      "displayName": "Edgardo Rubén FLECHA",
      "userId": "15102767123563609240"
     },
     "user_tz": 180
    },
    "id": "ox4_l0c7-BtO",
    "outputId": "29196956-58f9-4142-e783-34389dacfc68"
   },
   "outputs": [
    {
     "data": {
      "text/plain": [
       "(38237, 21)"
      ]
     },
     "execution_count": 30,
     "metadata": {},
     "output_type": "execute_result"
    }
   ],
   "source": [
    "bicis_constitucion.shape"
   ]
  },
  {
   "cell_type": "code",
   "execution_count": 36,
   "metadata": {
    "colab": {
     "base_uri": "https://localhost:8080/",
     "height": 470
    },
    "executionInfo": {
     "elapsed": 1141,
     "status": "ok",
     "timestamp": 1729797896640,
     "user": {
      "displayName": "Edgardo Rubén FLECHA",
      "userId": "15102767123563609240"
     },
     "user_tz": 180
    },
    "id": "NjbMKevW-Lo4",
    "outputId": "cf869298-ae79-4a93-dbc9-7fa8fa49083e"
   },
   "outputs": [
    {
     "data": {
      "text/plain": [
       "array([[<Axes: title={'center': 'duracion_recorrido_min'}>]], dtype=object)"
      ]
     },
     "execution_count": 36,
     "metadata": {},
     "output_type": "execute_result"
    },
    {
     "data": {
      "image/png": "[encoded data removed]",
      "text/plain": [
       "<Figure size 640x480 with 1 Axes>"
      ]
     },
     "metadata": {},
     "output_type": "display_data"
    }
   ],
   "source": [
    "# Con el histograma veo que tengo datos anómalos, mas alla de los 60 minutos.\n",
    "bicis_constitucion.hist('duracion_recorrido_min', bins=200)"
   ]
  },
  {
   "cell_type": "code",
   "execution_count": 37,
   "metadata": {
    "id": "nDG4jINO_pva"
   },
   "outputs": [],
   "source": [
    "# Creo un nuevo dataframe con los registros dentro de la hora\n",
    "bicis_constitucion_hora = bicis_constitucion[bicis_constitucion['duracion_recorrido_min'] < 60]"
   ]
  },
  {
   "cell_type": "code",
   "execution_count": 38,
   "metadata": {
    "colab": {
     "base_uri": "https://localhost:8080/"
    },
    "executionInfo": {
     "elapsed": 373,
     "status": "ok",
     "timestamp": 1729798092541,
     "user": {
      "displayName": "Edgardo Rubén FLECHA",
      "userId": "15102767123563609240"
     },
     "user_tz": 180
    },
    "id": "tMVuo6Jb___O",
    "outputId": "44b5a2a8-e0d6-41ab-c5ae-4ecfdd739522"
   },
   "outputs": [
    {
     "data": {
      "text/plain": [
       "(37197, 21)"
      ]
     },
     "execution_count": 38,
     "metadata": {},
     "output_type": "execute_result"
    }
   ],
   "source": [
    "bicis_constitucion_hora.shape"
   ]
  },
  {
   "cell_type": "code",
   "execution_count": 39,
   "metadata": {
    "colab": {
     "base_uri": "https://localhost:8080/",
     "height": 470
    },
    "executionInfo": {
     "elapsed": 1121,
     "status": "ok",
     "timestamp": 1729798234381,
     "user": {
      "displayName": "Edgardo Rubén FLECHA",
      "userId": "15102767123563609240"
     },
     "user_tz": 180
    },
    "id": "acDTVoQ3AGZb",
    "outputId": "8e326422-3636-4837-aad9-3ef4a47a32fd"
   },
   "outputs": [
    {
     "data": {
      "text/plain": [
       "array([[<Axes: title={'center': 'duracion_recorrido_min'}>]], dtype=object)"
      ]
     },
     "execution_count": 39,
     "metadata": {},
     "output_type": "execute_result"
    },
    {
     "data": {
      "image/png": "[encoded data removed]",
      "text/plain": [
       "<Figure size 640x480 with 1 Axes>"
      ]
     },
     "metadata": {},
     "output_type": "display_data"
    }
   ],
   "source": [
    "# El histograma muestra una mejor distribución\n",
    "bicis_constitucion_hora.hist('duracion_recorrido_min', bins=200, edgecolor='black')"
   ]
  },
  {
   "cell_type": "code",
   "execution_count": 40,
   "metadata": {
    "colab": {
     "base_uri": "https://localhost:8080/",
     "height": 430
    },
    "executionInfo": {
     "elapsed": 389,
     "status": "ok",
     "timestamp": 1729798292055,
     "user": {
      "displayName": "Edgardo Rubén FLECHA",
      "userId": "15102767123563609240"
     },
     "user_tz": 180
    },
    "id": "if0MydL2_ZkO",
    "outputId": "319242be-31ca-4518-e47f-ffc43f6edab6"
   },
   "outputs": [
    {
     "data": {
      "image/png": "[encoded data removed]",
      "text/plain": [
       "<Figure size 640x480 with 1 Axes>"
      ]
     },
     "metadata": {},
     "output_type": "display_data"
    }
   ],
   "source": [
    "# El boxplot es otro gráfico que me brinda información sobre los datos.\n",
    "bicis_constitucion_hora['duracion_recorrido_min'].plot(kind='box')\n",
    "plt.show()"
   ]
  },
  {
   "cell_type": "code",
   "execution_count": 41,
   "metadata": {
    "colab": {
     "base_uri": "https://localhost:8080/",
     "height": 335
    },
    "executionInfo": {
     "elapsed": 356,
     "status": "ok",
     "timestamp": 1729798341212,
     "user": {
      "displayName": "Edgardo Rubén FLECHA",
      "userId": "15102767123563609240"
     },
     "user_tz": 180
    },
    "id": "AUAJNdS-A8NY",
    "outputId": "6a3e6bbc-df5a-48b5-ac2d-fd550cf27f4f"
   },
   "outputs": [
    {
     "data": {
      "text/plain": [
       "count    37197.000000\n",
       "mean        16.246655\n",
       "std         10.578923\n",
       "min          0.000000\n",
       "25%          9.466667\n",
       "50%         14.616667\n",
       "75%         21.450000\n",
       "max         59.983333\n",
       "Name: duracion_recorrido_min, dtype: float64"
      ]
     },
     "execution_count": 41,
     "metadata": {},
     "output_type": "execute_result"
    }
   ],
   "source": [
    "# El método describe() me brinda los estadísticos principales de una columna\n",
    "bicis_constitucion_hora['duracion_recorrido_min'].describe()"
   ]
  },
  {
   "cell_type": "markdown",
   "metadata": {
    "id": "szb9X_miBNJh"
   },
   "source": [
    "# 5. Cálculo de FDPS"
   ]
  },
  {
   "cell_type": "code",
   "execution_count": 51,
   "metadata": {
    "id": "mPCxdh79BVlB"
   },
   "outputs": [],
   "source": [
    "# En una variable preparar la columna del df que quiero ajustar\n",
    "fdp_constitucion_hora = Fitter(bicis_constitucion_hora.duracion_recorrido_min)"
   ]
  },
  {
   "cell_type": "code",
   "execution_count": 52,
   "metadata": {
    "id": "RnStYz_WBz5G"
   },
   "outputs": [
    {
     "name": "stderr",
     "output_type": "stream",
     "text": [
      "2025-04-25 00:59:51.632 | WARNING  | fitter.fitter:_fit_single_distribution:337 - SKIPPED _fit distribution (taking more than 30 seconds)\n",
      "2025-04-25 00:59:51.731 | INFO     | fitter.fitter:_fit_single_distribution:333 - Fitted cauchy distribution with error=0.018133)\n",
      "2025-04-25 00:59:51.741 | INFO     | fitter.fitter:_fit_single_distribution:333 - Fitted anglit distribution with error=0.033408)\n",
      "2025-04-25 00:59:51.749 | INFO     | fitter.fitter:_fit_single_distribution:333 - Fitted bradford distribution with error=0.029668)\n",
      "2025-04-25 00:59:51.761 | INFO     | fitter.fitter:_fit_single_distribution:333 - Fitted arcsine distribution with error=0.041165)\n",
      "2025-04-25 00:59:51.838 | INFO     | fitter.fitter:_fit_single_distribution:333 - Fitted cosine distribution with error=0.027918)\n",
      "2025-04-25 00:59:51.839 | INFO     | fitter.fitter:_fit_single_distribution:333 - Fitted alpha distribution with error=0.017211)\n",
      "2025-04-25 00:59:51.843 | INFO     | fitter.fitter:_fit_single_distribution:333 - Fitted argus distribution with error=0.042922)\n",
      "2025-04-25 00:59:51.852 | INFO     | fitter.fitter:_fit_single_distribution:333 - Fitted expon distribution with error=0.028951)\n",
      "2025-04-25 00:59:51.880 | INFO     | fitter.fitter:_fit_single_distribution:333 - Fitted dgamma distribution with error=0.016763)\n",
      "2025-04-25 00:59:51.917 | INFO     | fitter.fitter:_fit_single_distribution:333 - Fitted chi2 distribution with error=0.017893)\n",
      "2025-04-25 00:59:51.942 | INFO     | fitter.fitter:_fit_single_distribution:333 - Fitted crystalball distribution with error=0.018896)\n",
      "2025-04-25 00:59:51.967 | INFO     | fitter.fitter:_fit_single_distribution:333 - Fitted dweibull distribution with error=0.016747)\n",
      "2025-04-25 00:59:51.983 | INFO     | fitter.fitter:_fit_single_distribution:333 - Fitted erlang distribution with error=0.017893)\n",
      "2025-04-25 00:59:51.989 | INFO     | fitter.fitter:_fit_single_distribution:333 - Fitted beta distribution with error=0.017893)\n",
      "2025-04-25 00:59:52.003 | INFO     | fitter.fitter:_fit_single_distribution:333 - Fitted chi distribution with error=0.017552)\n",
      "2025-04-25 00:59:52.116 | INFO     | fitter.fitter:_fit_single_distribution:333 - Fitted gamma distribution with error=0.017893)\n",
      "2025-04-25 00:59:52.124 | INFO     | fitter.fitter:_fit_single_distribution:333 - Fitted exponnorm distribution with error=0.016704)\n",
      "2025-04-25 00:59:52.139 | INFO     | fitter.fitter:_fit_single_distribution:333 - Fitted foldcauchy distribution with error=0.015564)\n",
      "2025-04-25 00:59:52.233 | INFO     | fitter.fitter:_fit_single_distribution:333 - Fitted fatiguelife distribution with error=0.017605)\n",
      "2025-04-25 00:59:52.285 | INFO     | fitter.fitter:_fit_single_distribution:333 - Fitted foldnorm distribution with error=0.060539)\n",
      "2025-04-25 00:59:52.305 | INFO     | fitter.fitter:_fit_single_distribution:333 - Fitted f distribution with error=0.022158)\n",
      "2025-04-25 00:59:52.328 | INFO     | fitter.fitter:_fit_single_distribution:333 - Fitted exponpow distribution with error=0.079588)\n",
      "2025-04-25 00:59:52.574 | INFO     | fitter.fitter:_fit_single_distribution:333 - Fitted betaprime distribution with error=0.017503)\n",
      "2025-04-25 00:59:52.578 | INFO     | fitter.fitter:_fit_single_distribution:333 - Fitted genlogistic distribution with error=0.017263)\n",
      "2025-04-25 00:59:52.680 | INFO     | fitter.fitter:_fit_single_distribution:333 - Fitted gennorm distribution with error=0.016852)\n",
      "2025-04-25 00:59:52.727 | INFO     | fitter.fitter:_fit_single_distribution:333 - Fitted gumbel_r distribution with error=0.017552)\n",
      "2025-04-25 00:59:52.735 | INFO     | fitter.fitter:_fit_single_distribution:333 - Fitted halfcauchy distribution with error=0.028877)\n",
      "2025-04-25 00:59:52.834 | INFO     | fitter.fitter:_fit_single_distribution:333 - Fitted gompertz distribution with error=0.206899)\n",
      "2025-04-25 00:59:52.840 | INFO     | fitter.fitter:_fit_single_distribution:333 - Fitted gengamma distribution with error=0.019111)\n",
      "2025-04-25 00:59:52.851 | INFO     | fitter.fitter:_fit_single_distribution:333 - Fitted gumbel_l distribution with error=0.026794)\n",
      "2025-04-25 00:59:52.862 | INFO     | fitter.fitter:_fit_single_distribution:333 - Fitted halfnorm distribution with error=0.021324)\n",
      "2025-04-25 00:59:52.916 | INFO     | fitter.fitter:_fit_single_distribution:333 - Fitted hypsecant distribution with error=0.016872)\n",
      "2025-04-25 00:59:52.920 | INFO     | fitter.fitter:_fit_single_distribution:333 - Fitted halfgennorm distribution with error=0.039422)\n",
      "2025-04-25 00:59:52.948 | INFO     | fitter.fitter:_fit_single_distribution:333 - Fitted halflogistic distribution with error=0.022956)\n",
      "2025-04-25 00:59:53.007 | INFO     | fitter.fitter:_fit_single_distribution:333 - Fitted genexpon distribution with error=0.018594)\n",
      "2025-04-25 00:59:53.015 | INFO     | fitter.fitter:_fit_single_distribution:333 - Fitted exponweib distribution with error=0.093697)\n",
      "2025-04-25 00:59:53.073 | INFO     | fitter.fitter:_fit_single_distribution:333 - Fitted invgamma distribution with error=0.017353)\n",
      "2025-04-25 00:59:53.080 | INFO     | fitter.fitter:_fit_single_distribution:333 - Fitted genhalflogistic distribution with error=0.019818)\n",
      "2025-04-25 00:59:53.307 | INFO     | fitter.fitter:_fit_single_distribution:333 - Fitted invgauss distribution with error=0.017589)\n",
      "2025-04-25 00:59:53.330 | INFO     | fitter.fitter:_fit_single_distribution:333 - Fitted jf_skew_t distribution with error=0.016814)\n",
      "2025-04-25 00:59:53.345 | INFO     | fitter.fitter:_fit_single_distribution:333 - Fitted genpareto distribution with error=0.023448)\n",
      "2025-04-25 00:59:53.393 | INFO     | fitter.fitter:_fit_single_distribution:333 - Fitted invweibull distribution with error=0.017553)\n",
      "2025-04-25 00:59:53.406 | WARNING  | fitter.fitter:_fit_single_distribution:337 - SKIPPED irwinhall distribution (taking more than 30 seconds)\n",
      "2025-04-25 00:59:53.429 | WARNING  | fitter.fitter:_fit_single_distribution:337 - SKIPPED kstwo distribution (taking more than 30 seconds)\n",
      "2025-04-25 00:59:53.435 | INFO     | fitter.fitter:_fit_single_distribution:333 - Fitted gibrat distribution with error=0.030889)\n",
      "2025-04-25 00:59:53.482 | INFO     | fitter.fitter:_fit_single_distribution:333 - Fitted fisk distribution with error=0.125442)\n",
      "2025-04-25 00:59:53.513 | INFO     | fitter.fitter:_fit_single_distribution:333 - Fitted johnsonsu distribution with error=0.017463)\n",
      "2025-04-25 00:59:53.523 | INFO     | fitter.fitter:_fit_single_distribution:333 - Fitted genextreme distribution with error=0.017355)\n",
      "2025-04-25 00:59:53.526 | INFO     | fitter.fitter:_fit_single_distribution:333 - Fitted landau distribution with error=0.023096)\n",
      "2025-04-25 00:59:53.559 | INFO     | fitter.fitter:_fit_single_distribution:333 - Fitted laplace_asymmetric distribution with error=0.016951)\n",
      "2025-04-25 00:59:53.570 | INFO     | fitter.fitter:_fit_single_distribution:333 - Fitted laplace distribution with error=0.017273)\n",
      "2025-04-25 00:59:53.610 | INFO     | fitter.fitter:_fit_single_distribution:333 - Fitted levy_l distribution with error=0.055011)\n",
      "2025-04-25 00:59:53.628 | INFO     | fitter.fitter:_fit_single_distribution:333 - Fitted levy distribution with error=0.040405)\n",
      "2025-04-25 00:59:53.651 | INFO     | fitter.fitter:_fit_single_distribution:333 - Fitted kstwobign distribution with error=0.018234)\n",
      "2025-04-25 00:59:53.671 | INFO     | fitter.fitter:_fit_single_distribution:333 - Fitted kappa3 distribution with error=0.12707)\n",
      "2025-04-25 00:59:53.733 | INFO     | fitter.fitter:_fit_single_distribution:333 - Fitted maxwell distribution with error=0.017713)\n",
      "2025-04-25 00:59:53.737 | INFO     | fitter.fitter:_fit_single_distribution:333 - Fitted loggamma distribution with error=0.019049)\n",
      "2025-04-25 00:59:53.758 | INFO     | fitter.fitter:_fit_single_distribution:333 - Fitted burr12 distribution with error=0.017975)\n",
      "2025-04-25 00:59:53.776 | INFO     | fitter.fitter:_fit_single_distribution:333 - Fitted logistic distribution with error=0.017266)\n",
      "2025-04-25 00:59:53.804 | INFO     | fitter.fitter:_fit_single_distribution:333 - Fitted loguniform distribution with error=0.094939)\n",
      "2025-04-25 00:59:53.886 | INFO     | fitter.fitter:_fit_single_distribution:333 - Fitted loglaplace distribution with error=0.092854)\n",
      "2025-04-25 00:59:53.928 | INFO     | fitter.fitter:_fit_single_distribution:333 - Fitted lomax distribution with error=0.061365)\n",
      "2025-04-25 00:59:53.992 | INFO     | fitter.fitter:_fit_single_distribution:333 - Fitted johnsonsb distribution with error=0.017524)\n",
      "2025-04-25 00:59:54.032 | INFO     | fitter.fitter:_fit_single_distribution:333 - Fitted norm distribution with error=0.018896)\n",
      "2025-04-25 00:59:54.038 | INFO     | fitter.fitter:_fit_single_distribution:333 - Fitted moyal distribution with error=0.019268)\n",
      "2025-04-25 00:59:54.073 | INFO     | fitter.fitter:_fit_single_distribution:333 - Fitted mielke distribution with error=0.017267)\n",
      "2025-04-25 00:59:54.076 | INFO     | fitter.fitter:_fit_single_distribution:333 - Fitted lognorm distribution with error=0.061546)\n",
      "2025-04-25 00:59:54.087 | INFO     | fitter.fitter:_fit_single_distribution:333 - Fitted pareto distribution with error=0.028951)\n",
      "2025-04-25 00:59:54.116 | INFO     | fitter.fitter:_fit_single_distribution:333 - Fitted nakagami distribution with error=0.021581)\n",
      "2025-04-25 00:59:54.147 | WARNING  | fitter.fitter:_fit_single_distribution:337 - SKIPPED multivariate_normal distribution (taking more than 30 seconds)\n",
      "2025-04-25 00:59:54.238 | INFO     | fitter.fitter:_fit_single_distribution:333 - Fitted powerlaw distribution with error=0.047864)\n",
      "2025-04-25 00:59:54.430 | INFO     | fitter.fitter:_fit_single_distribution:333 - Fitted pearson3 distribution with error=0.017893)\n",
      "2025-04-25 00:59:55.088 | INFO     | fitter.fitter:_fit_single_distribution:333 - Fitted rdist distribution with error=0.018904)\n",
      "2025-04-25 00:59:55.262 | INFO     | fitter.fitter:_fit_single_distribution:333 - Fitted kappa4 distribution with error=0.025784)\n",
      "2025-04-25 00:59:55.315 | INFO     | fitter.fitter:_fit_single_distribution:333 - Fitted ksone distribution with error=0.040597)\n",
      "2025-04-25 00:59:55.466 | INFO     | fitter.fitter:_fit_single_distribution:333 - Fitted reciprocal distribution with error=0.094939)\n",
      "2025-04-25 00:59:55.590 | INFO     | fitter.fitter:_fit_single_distribution:333 - Fitted rel_breitwigner distribution with error=0.046238)\n",
      "2025-04-25 00:59:55.590 | INFO     | fitter.fitter:_fit_single_distribution:333 - Fitted powerlognorm distribution with error=0.018519)\n",
      "2025-04-25 00:59:55.594 | WARNING  | fitter.fitter:_fit_single_distribution:337 - SKIPPED rv_histogram distribution (taking more than 30 seconds)\n",
      "2025-04-25 00:59:55.698 | INFO     | fitter.fitter:_fit_single_distribution:333 - Fitted semicircular distribution with error=0.037838)\n",
      "2025-04-25 00:59:55.788 | INFO     | fitter.fitter:_fit_single_distribution:333 - Fitted skewcauchy distribution with error=0.017794)\n",
      "2025-04-25 00:59:55.803 | INFO     | fitter.fitter:_fit_single_distribution:333 - Fitted burr distribution with error=0.017601)\n",
      "2025-04-25 00:59:55.969 | INFO     | fitter.fitter:_fit_single_distribution:333 - Fitted powernorm distribution with error=nan)\n",
      "2025-04-25 00:59:56.162 | INFO     | fitter.fitter:_fit_single_distribution:333 - Fitted rice distribution with error=0.017973)\n",
      "2025-04-25 00:59:56.174 | WARNING  | fitter.fitter:_fit_single_distribution:337 - SKIPPED rv_continuous distribution (taking more than 30 seconds)\n",
      "2025-04-25 00:59:56.176 | INFO     | fitter.fitter:_fit_single_distribution:333 - Fitted rayleigh distribution with error=0.017973)\n",
      "2025-04-25 00:59:56.406 | INFO     | fitter.fitter:_fit_single_distribution:333 - Fitted skewnorm distribution with error=0.021324)\n",
      "2025-04-25 00:59:56.471 | INFO     | fitter.fitter:_fit_single_distribution:333 - Fitted recipinvgauss distribution with error=0.017615)\n",
      "2025-04-25 00:59:56.571 | INFO     | fitter.fitter:_fit_single_distribution:333 - Fitted trapz distribution with error=0.062681)\n",
      "2025-04-25 00:59:56.606 | INFO     | fitter.fitter:_fit_single_distribution:333 - Fitted trapezoid distribution with error=0.062681)\n",
      "2025-04-25 00:59:56.632 | INFO     | fitter.fitter:_fit_single_distribution:333 - Fitted truncexpon distribution with error=0.028413)\n",
      "2025-04-25 00:59:56.799 | INFO     | fitter.fitter:_fit_single_distribution:333 - Fitted truncpareto distribution with error=0.029307)\n",
      "2025-04-25 00:59:56.806 | INFO     | fitter.fitter:_fit_single_distribution:333 - Fitted triang distribution with error=0.023908)\n",
      "2025-04-25 00:59:57.121 | INFO     | fitter.fitter:_fit_single_distribution:333 - Fitted truncnorm distribution with error=0.066619)\n",
      "2025-04-25 00:59:57.256 | INFO     | fitter.fitter:_fit_single_distribution:333 - Fitted nct distribution with error=0.016654)\n",
      "2025-04-25 00:59:57.324 | INFO     | fitter.fitter:_fit_single_distribution:333 - Fitted uniform distribution with error=0.039825)\n",
      "2025-04-25 00:59:57.374 | INFO     | fitter.fitter:_fit_single_distribution:333 - Fitted t distribution with error=0.017021)\n",
      "2025-04-25 00:59:57.377 | WARNING  | fitter.fitter:_fit_single_distribution:337 - SKIPPED vonmises_fisher distribution (taking more than 30 seconds)\n",
      "2025-04-25 00:59:57.389 | INFO     | fitter.fitter:_fit_single_distribution:333 - Fitted truncweibull_min distribution with error=0.030366)\n",
      "2025-04-25 00:59:57.397 | INFO     | fitter.fitter:_fit_single_distribution:333 - Fitted vonmises distribution with error=2.121334)\n",
      "2025-04-25 00:59:57.447 | INFO     | fitter.fitter:_fit_single_distribution:333 - Fitted wald distribution with error=0.030928)\n",
      "2025-04-25 00:59:57.612 | INFO     | fitter.fitter:_fit_single_distribution:333 - Fitted weibull_min distribution with error=0.018862)\n",
      "2025-04-25 00:59:57.813 | INFO     | fitter.fitter:_fit_single_distribution:333 - Fitted wrapcauchy distribution with error=0.039778)\n",
      "2025-04-25 00:59:57.887 | INFO     | fitter.fitter:_fit_single_distribution:333 - Fitted vonmises_line distribution with error=0.018974)\n",
      "2025-04-25 00:59:58.187 | INFO     | fitter.fitter:_fit_single_distribution:333 - Fitted dpareto_lognorm distribution with error=0.033788)\n",
      "2025-04-25 01:00:02.209 | INFO     | fitter.fitter:_fit_single_distribution:333 - Fitted ncf distribution with error=0.096474)\n",
      "/home/daniel_wsl/miniconda3/envs/simulacion/lib/python3.13/site-packages/scipy/integrate/_quadpack_py.py:1260: IntegrationWarning: The maximum number of subdivisions (50) has been achieved.\n",
      "  If increasing the limit yields no improvement it is advised to analyze \n",
      "  the integrand in order to determine the difficulties.  If the position of a \n",
      "  local difficulty can be determined (singularity, discontinuity) one will \n",
      "  probably gain from splitting up the interval and calling the integrator \n",
      "  on the subranges.  Perhaps a special-purpose integrator should be used.\n",
      "  quad_r = quad(f, low, high, args=args, full_output=self.full_output,\n",
      "2025-04-25 01:00:17.285 | INFO     | fitter.fitter:_fit_single_distribution:333 - Fitted gausshyper distribution with error=0.023871)\n",
      "/home/daniel_wsl/miniconda3/envs/simulacion/lib/python3.13/site-packages/scipy/integrate/_quadpack_py.py:1260: IntegrationWarning: The integral is probably divergent, or slowly convergent.\n",
      "  quad_r = quad(f, low, high, args=args, full_output=self.full_output,\n",
      "2025-04-25 01:00:19.725 | INFO     | fitter.fitter:_fit_single_distribution:333 - Fitted weibull_max distribution with error=0.152898)\n",
      "2025-04-25 01:00:20.080 | INFO     | fitter.fitter:_fit_single_distribution:333 - Fitted norminvgauss distribution with error=0.017563)\n",
      "2025-04-25 01:00:20.430 | INFO     | fitter.fitter:_fit_single_distribution:333 - Fitted ncx2 distribution with error=0.01827)\n",
      "/home/daniel_wsl/miniconda3/envs/simulacion/lib/python3.13/site-packages/scipy/stats/_continuous_distns.py:4112: IntegrationWarning: The integral is probably divergent, or slowly convergent.\n",
      "  intgrl = integrate.quad(llc, x0, x1,\n",
      "2025-04-25 01:00:23.633 | WARNING  | fitter.fitter:_fit_single_distribution:337 - SKIPPED levy_stable distribution (taking more than 30 seconds)\n",
      "/home/daniel_wsl/miniconda3/envs/simulacion/lib/python3.13/site-packages/scipy/stats/_continuous_distns.py:4112: IntegrationWarning: The occurrence of roundoff error is detected, which prevents \n",
      "  the requested tolerance from being achieved.  The error may be \n",
      "  underestimated.\n",
      "  intgrl = integrate.quad(llc, x0, x1,\n",
      "/home/daniel_wsl/miniconda3/envs/simulacion/lib/python3.13/site-packages/scipy/stats/_continuous_distns.py:4112: IntegrationWarning: The maximum number of subdivisions (50) has been achieved.\n",
      "  If increasing the limit yields no improvement it is advised to analyze \n",
      "  the integrand in order to determine the difficulties.  If the position of a \n",
      "  local difficulty can be determined (singularity, discontinuity) one will \n",
      "  probably gain from splitting up the interval and calling the integrator \n",
      "  on the subranges.  Perhaps a special-purpose integrator should be used.\n",
      "  intgrl = integrate.quad(llc, x0, x1,\n",
      "2025-04-25 01:00:25.986 | WARNING  | fitter.fitter:_fit_single_distribution:337 - SKIPPED studentized_range distribution (taking more than 30 seconds)\n",
      "2025-04-25 01:00:26.814 | WARNING  | fitter.fitter:_fit_single_distribution:337 - SKIPPED tukeylambda distribution (taking more than 30 seconds)\n",
      "/home/daniel_wsl/miniconda3/envs/simulacion/lib/python3.13/site-packages/scipy/stats/_continuous_distns.py:4107: IntegrationWarning: The integral is probably divergent, or slowly convergent.\n",
      "  intgrl = (integrate.quad(llc, x0, mean,\n",
      "/home/daniel_wsl/miniconda3/envs/simulacion/lib/python3.13/site-packages/scipy/stats/_continuous_distns.py:4109: IntegrationWarning: The occurrence of roundoff error is detected, which prevents \n",
      "  the requested tolerance from being achieved.  The error may be \n",
      "  underestimated.\n",
      "  + integrate.quad(llc, mean, x1,\n",
      "2025-04-25 01:00:40.296 | INFO     | fitter.fitter:_fit_single_distribution:333 - Fitted genhyperbolic distribution with error=0.018007)\n",
      "2025-04-25 01:00:46.238 | INFO     | fitter.fitter:_fit_single_distribution:333 - Fitted geninvgauss distribution with error=0.017893)\n"
     ]
    }
   ],
   "source": [
    "# Con el método fit() ajusta mis datos a las 80 distribuciones de SciPy\n",
    "fdp_constitucion_hora.fit()"
   ]
  },
  {
   "cell_type": "code",
   "execution_count": 53,
   "metadata": {
    "colab": {
     "base_uri": "https://localhost:8080/",
     "height": 776
    },
    "executionInfo": {
     "elapsed": 3154,
     "status": "ok",
     "timestamp": 1729799047470,
     "user": {
      "displayName": "Edgardo Rubén FLECHA",
      "userId": "15102767123563609240"
     },
     "user_tz": 180
    },
    "id": "X5RVOghgDqNl",
    "outputId": "48d8efb9-37af-4734-c794-b6e7b606000a"
   },
   "outputs": [
    {
     "data": {
      "text/html": [
       "<div>\n",
       "<style scoped>\n",
       "    .dataframe tbody tr th:only-of-type {\n",
       "        vertical-align: middle;\n",
       "    }\n",
       "\n",
       "    .dataframe tbody tr th {\n",
       "        vertical-align: top;\n",
       "    }\n",
       "\n",
       "    .dataframe thead th {\n",
       "        text-align: right;\n",
       "    }\n",
       "</style>\n",
       "<table border=\"1\" class=\"dataframe\">\n",
       "  <thead>\n",
       "    <tr style=\"text-align: right;\">\n",
       "      <th></th>\n",
       "      <th>sumsquare_error</th>\n",
       "      <th>aic</th>\n",
       "      <th>bic</th>\n",
       "      <th>kl_div</th>\n",
       "      <th>ks_statistic</th>\n",
       "      <th>ks_pvalue</th>\n",
       "    </tr>\n",
       "  </thead>\n",
       "  <tbody>\n",
       "    <tr>\n",
       "      <th>foldcauchy</th>\n",
       "      <td>0.015564</td>\n",
       "      <td>972.453598</td>\n",
       "      <td>998.025548</td>\n",
       "      <td>0.122760</td>\n",
       "      <td>0.073266</td>\n",
       "      <td>4.370135e-174</td>\n",
       "    </tr>\n",
       "    <tr>\n",
       "      <th>nct</th>\n",
       "      <td>0.016654</td>\n",
       "      <td>999.898735</td>\n",
       "      <td>1033.994668</td>\n",
       "      <td>0.117928</td>\n",
       "      <td>0.045998</td>\n",
       "      <td>7.888424e-69</td>\n",
       "    </tr>\n",
       "    <tr>\n",
       "      <th>exponnorm</th>\n",
       "      <td>0.016704</td>\n",
       "      <td>989.246267</td>\n",
       "      <td>1014.818217</td>\n",
       "      <td>0.121454</td>\n",
       "      <td>0.048684</td>\n",
       "      <td>4.674244e-77</td>\n",
       "    </tr>\n",
       "    <tr>\n",
       "      <th>dweibull</th>\n",
       "      <td>0.016747</td>\n",
       "      <td>1051.877280</td>\n",
       "      <td>1077.449230</td>\n",
       "      <td>0.118847</td>\n",
       "      <td>0.071050</td>\n",
       "      <td>1.001159e-163</td>\n",
       "    </tr>\n",
       "    <tr>\n",
       "      <th>dgamma</th>\n",
       "      <td>0.016763</td>\n",
       "      <td>1047.691420</td>\n",
       "      <td>1073.263370</td>\n",
       "      <td>0.117245</td>\n",
       "      <td>0.071543</td>\n",
       "      <td>5.268563e-166</td>\n",
       "    </tr>\n",
       "    <tr>\n",
       "      <th>jf_skew_t</th>\n",
       "      <td>0.016814</td>\n",
       "      <td>996.363646</td>\n",
       "      <td>1030.459580</td>\n",
       "      <td>0.123743</td>\n",
       "      <td>0.048521</td>\n",
       "      <td>1.519414e-76</td>\n",
       "    </tr>\n",
       "    <tr>\n",
       "      <th>gennorm</th>\n",
       "      <td>0.016852</td>\n",
       "      <td>1054.243739</td>\n",
       "      <td>1079.815689</td>\n",
       "      <td>0.120291</td>\n",
       "      <td>0.072077</td>\n",
       "      <td>1.740486e-168</td>\n",
       "    </tr>\n",
       "    <tr>\n",
       "      <th>hypsecant</th>\n",
       "      <td>0.016872</td>\n",
       "      <td>1048.857338</td>\n",
       "      <td>1065.905305</td>\n",
       "      <td>0.120176</td>\n",
       "      <td>0.067924</td>\n",
       "      <td>1.168223e-149</td>\n",
       "    </tr>\n",
       "    <tr>\n",
       "      <th>laplace_asymmetric</th>\n",
       "      <td>0.016951</td>\n",
       "      <td>985.239715</td>\n",
       "      <td>1010.811666</td>\n",
       "      <td>0.099799</td>\n",
       "      <td>0.039117</td>\n",
       "      <td>6.872255e-50</td>\n",
       "    </tr>\n",
       "    <tr>\n",
       "      <th>t</th>\n",
       "      <td>0.017021</td>\n",
       "      <td>1052.388675</td>\n",
       "      <td>1077.960625</td>\n",
       "      <td>0.124251</td>\n",
       "      <td>0.064477</td>\n",
       "      <td>6.968936e-135</td>\n",
       "    </tr>\n",
       "  </tbody>\n",
       "</table>\n",
       "</div>"
      ],
      "text/plain": [
       "                    sumsquare_error          aic          bic    kl_div  \\\n",
       "foldcauchy                 0.015564   972.453598   998.025548  0.122760   \n",
       "nct                        0.016654   999.898735  1033.994668  0.117928   \n",
       "exponnorm                  0.016704   989.246267  1014.818217  0.121454   \n",
       "dweibull                   0.016747  1051.877280  1077.449230  0.118847   \n",
       "dgamma                     0.016763  1047.691420  1073.263370  0.117245   \n",
       "jf_skew_t                  0.016814   996.363646  1030.459580  0.123743   \n",
       "gennorm                    0.016852  1054.243739  1079.815689  0.120291   \n",
       "hypsecant                  0.016872  1048.857338  1065.905305  0.120176   \n",
       "laplace_asymmetric         0.016951   985.239715  1010.811666  0.099799   \n",
       "t                          0.017021  1052.388675  1077.960625  0.124251   \n",
       "\n",
       "                    ks_statistic      ks_pvalue  \n",
       "foldcauchy              0.073266  4.370135e-174  \n",
       "nct                     0.045998   7.888424e-69  \n",
       "exponnorm               0.048684   4.674244e-77  \n",
       "dweibull                0.071050  1.001159e-163  \n",
       "dgamma                  0.071543  5.268563e-166  \n",
       "jf_skew_t               0.048521   1.519414e-76  \n",
       "gennorm                 0.072077  1.740486e-168  \n",
       "hypsecant               0.067924  1.168223e-149  \n",
       "laplace_asymmetric      0.039117   6.872255e-50  \n",
       "t                       0.064477  6.968936e-135  "
      ]
     },
     "execution_count": 53,
     "metadata": {},
     "output_type": "execute_result"
    },
    {
     "data": {
      "image/png": "[encoded data removed]",
      "text/plain": [
       "<Figure size 640x480 with 1 Axes>"
      ]
     },
     "metadata": {},
     "output_type": "display_data"
    }
   ],
   "source": [
    "# Summary me muestra el resumen de los mejores ajustes\n",
    "fdp_constitucion_hora.summary(10)"
   ]
  },
  {
   "cell_type": "markdown",
   "metadata": {
    "id": "R2qalcH4BFRu"
   },
   "source": []
  },
  {
   "cell_type": "markdown",
   "metadata": {
    "id": "WpvSV5JNESIT"
   },
   "source": [
    "# 6. Simulacion"
   ]
  },
  {
   "cell_type": "code",
   "execution_count": 57,
   "metadata": {
    "colab": {
     "base_uri": "https://localhost:8080/"
    },
    "executionInfo": {
     "elapsed": 416,
     "status": "ok",
     "timestamp": 1729799273571,
     "user": {
      "displayName": "Edgardo Rubén FLECHA",
      "userId": "15102767123563609240"
     },
     "user_tz": 180
    },
    "id": "oudlShQ8EWqL",
    "outputId": "13029790-0bc6-4349-fc42-eceafcb95461"
   },
   "outputs": [
    {
     "data": {
      "text/plain": [
       "{'foldcauchy': {'c': 2.307928339489985,\n",
       "  'loc': -4.543898197903866e-09,\n",
       "  'scale': 6.019983645274758}}"
      ]
     },
     "execution_count": 57,
     "metadata": {},
     "output_type": "execute_result"
    }
   ],
   "source": [
    "# get_best me devuelve la mejor distribución de acuerdo al criterio que le indico y sus parámetros\n",
    "fdp_constitucion_hora.get_best(method='sumsquare_error')"
   ]
  },
  {
   "cell_type": "markdown",
   "metadata": {
    "id": "-VjpLixIJHRt"
   },
   "source": []
  },
  {
   "cell_type": "code",
   "execution_count": 58,
   "metadata": {
    "colab": {
     "base_uri": "https://localhost:8080/"
    },
    "executionInfo": {
     "elapsed": 354,
     "status": "ok",
     "timestamp": 1729800476631,
     "user": {
      "displayName": "Edgardo Rubén FLECHA",
      "userId": "15102767123563609240"
     },
     "user_tz": 180
    },
    "id": "erYaoWSqJD5I",
    "outputId": "21a34aef-4184-425e-b27f-51c0ed0ebd30"
   },
   "outputs": [
    {
     "data": {
      "text/plain": [
       "{'laplace_asymmetric': {'kappa': 0.7251135824984483,\n",
       "  'loc': 11.516666854568195,\n",
       "  'scale': 7.233781792406836}}"
      ]
     },
     "execution_count": 58,
     "metadata": {},
     "output_type": "execute_result"
    }
   ],
   "source": [
    "fdp_constitucion_hora.get_best(method='ks_statistic')"
   ]
  },
  {
   "cell_type": "code",
   "execution_count": 59,
   "metadata": {
    "id": "KW1s6Kk9Eu8m"
   },
   "outputs": [],
   "source": [
    "# Para simular, guardo los valores de los parámetros en 4 variables\n",
    "dfn = 10.210149046195188\n",
    "dfd = 24.449261873976212\n",
    "loc = -0.210629715477468\n",
    "scale =  15.900756775955681"
   ]
  },
  {
   "cell_type": "code",
   "execution_count": 60,
   "metadata": {
    "id": "ORrhepOfFP2v"
   },
   "outputs": [],
   "source": [
    "# Gracias al método rvs del módulo stats de Scipy, puedo generar datos\n",
    "# con los parámetros que me dio Fitter\n",
    "fdp_f = stats.f.rvs(dfn, dfd, loc=loc, scale=scale, size=35000)"
   ]
  },
  {
   "cell_type": "code",
   "execution_count": 61,
   "metadata": {
    "colab": {
     "base_uri": "https://localhost:8080/"
    },
    "executionInfo": {
     "elapsed": 362,
     "status": "ok",
     "timestamp": 1729799570370,
     "user": {
      "displayName": "Edgardo Rubén FLECHA",
      "userId": "15102767123563609240"
     },
     "user_tz": 180
    },
    "id": "N_oLygX_FlJF",
    "outputId": "b3269a29-7dfb-4eb7-d133-604f53fca5c6"
   },
   "outputs": [
    {
     "data": {
      "text/plain": [
       "array([21.65396585, 17.53160311,  5.22615732, ..., 12.80031618,\n",
       "       43.60277242, 17.24735464])"
      ]
     },
     "execution_count": 61,
     "metadata": {},
     "output_type": "execute_result"
    }
   ],
   "source": [
    "# Esta variable es un array de Numpy con valores similares a mis datos de origen\n",
    "fdp_f"
   ]
  },
  {
   "cell_type": "code",
   "execution_count": 62,
   "metadata": {
    "colab": {
     "base_uri": "https://localhost:8080/",
     "height": 472
    },
    "executionInfo": {
     "elapsed": 1352,
     "status": "ok",
     "timestamp": 1729799742739,
     "user": {
      "displayName": "Edgardo Rubén FLECHA",
      "userId": "15102767123563609240"
     },
     "user_tz": 180
    },
    "id": "RflN2CuRF68i",
    "outputId": "f27163f5-d1f7-4b6c-e247-4b9fb07baa2b"
   },
   "outputs": [
    {
     "data": {
      "image/png": "[encoded data removed]",
      "text/plain": [
       "<Figure size 640x480 with 1 Axes>"
      ]
     },
     "metadata": {},
     "output_type": "display_data"
    }
   ],
   "source": [
    "# Histograma de datos de verificación\n",
    "plt.title(\"Histograma\")\n",
    "plt.xlabel(\"X axis\")\n",
    "plt.ylabel(\"Y axis\")\n",
    "plt.xlim(0, 60)\n",
    "plt.ylim(0, 1300)\n",
    "plt.hist(fdp_f, bins=150)\n",
    "plt.show()"
   ]
  },
  {
   "cell_type": "code",
   "execution_count": null,
   "metadata": {
    "id": "HfCkMErrKiOl"
   },
   "outputs": [],
   "source": []
  },
  {
   "cell_type": "code",
   "execution_count": null,
   "metadata": {},
   "outputs": [],
   "source": []
  },
  {
   "cell_type": "code",
   "execution_count": null,
   "metadata": {},
   "outputs": [],
   "source": []
  },
  {
   "cell_type": "code",
   "execution_count": null,
   "metadata": {},
   "outputs": [],
   "source": []
  }
 ],
 "metadata": {
  "colab": {
   "authorship_tag": "ABX9TyOId+MZ1t15zIsR/Lto862z",
   "mount_file_id": "15Pz3ACKIvs5NycDHgER7ScR7WYZibr0s",
   "provenance": [
    {
     "file_id": "15Pz3ACKIvs5NycDHgER7ScR7WYZibr0s",
     "timestamp": 1744167337553
    }
   ]
  },
  "kernelspec": {
   "display_name": "Python 3 (ipykernel)",
   "language": "python",
   "name": "python3"
  },
  "language_info": {
   "codemirror_mode": {
    "name": "ipython",
    "version": 3
   },
   "file_extension": ".py",
   "mimetype": "text/x-python",
   "name": "python",
   "nbconvert_exporter": "python",
   "pygments_lexer": "ipython3",
   "version": "3.13.2"
  }
 },
 "nbformat": 4,
 "nbformat_minor": 4
}
