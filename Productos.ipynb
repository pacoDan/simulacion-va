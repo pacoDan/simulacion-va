{
 "cells": [
  {
   "cell_type": "markdown",
   "metadata": {
    "id": "T0NlF9nHmdZX"
   },
   "source": [
    "# 1. Carga de bibliotetas\n",
    "\n",
    "Seccion para instalar e importar bibliotecas necesarias"
   ]
  },
  {
   "cell_type": "code",
   "execution_count": 65,
   "metadata": {
    "colab": {
     "base_uri": "https://localhost:8080/"
    },
    "executionInfo": {
     "elapsed": 16165,
     "status": "ok",
     "timestamp": 1729791660665,
     "user": {
      "displayName": "Edgardo Rubén FLECHA",
      "userId": "15102767123563609240"
     },
     "user_tz": 180
    },
    "id": "1AEhaS_8mr1l",
    "outputId": "15365a18-9877-4d0f-d23d-20d05e68b13e"
   },
   "outputs": [
    {
     "name": "stdout",
     "output_type": "stream",
     "text": [
      "Requirement already satisfied: fitter in /home/daniel/miniconda3/envs/simulacion/lib/python3.13/site-packages (1.7.1)\n",
      "Requirement already satisfied: click<9.0.0,>=8.1.6 in /home/daniel/miniconda3/envs/simulacion/lib/python3.13/site-packages (from fitter) (8.1.8)\n",
      "Requirement already satisfied: joblib<2.0.0,>=1.3.1 in /home/daniel/miniconda3/envs/simulacion/lib/python3.13/site-packages (from fitter) (1.4.2)\n",
      "Requirement already satisfied: loguru<0.8.0,>=0.7.2 in /home/daniel/miniconda3/envs/simulacion/lib/python3.13/site-packages (from fitter) (0.7.3)\n",
      "Requirement already satisfied: matplotlib<4.0.0,>=3.7.2 in /home/daniel/miniconda3/envs/simulacion/lib/python3.13/site-packages (from fitter) (3.10.1)\n",
      "Requirement already satisfied: numpy<2.0.0,>=1.20.0 in /home/daniel/miniconda3/envs/simulacion/lib/python3.13/site-packages (from fitter) (1.26.4)\n",
      "Requirement already satisfied: pandas<3.0.0,>=0.23.4 in /home/daniel/miniconda3/envs/simulacion/lib/python3.13/site-packages (from fitter) (2.2.3)\n",
      "Requirement already satisfied: rich-click<2.0.0,>=1.7.2 in /home/daniel/miniconda3/envs/simulacion/lib/python3.13/site-packages (from fitter) (1.8.8)\n",
      "Requirement already satisfied: scipy<2.0.0,>=0.18.0 in /home/daniel/miniconda3/envs/simulacion/lib/python3.13/site-packages (from fitter) (1.15.2)\n",
      "Requirement already satisfied: tqdm<5.0.0,>=4.65.1 in /home/daniel/miniconda3/envs/simulacion/lib/python3.13/site-packages (from fitter) (4.67.1)\n",
      "Requirement already satisfied: contourpy>=1.0.1 in /home/daniel/miniconda3/envs/simulacion/lib/python3.13/site-packages (from matplotlib<4.0.0,>=3.7.2->fitter) (1.3.2)\n",
      "Requirement already satisfied: cycler>=0.10 in /home/daniel/miniconda3/envs/simulacion/lib/python3.13/site-packages (from matplotlib<4.0.0,>=3.7.2->fitter) (0.12.1)\n",
      "Requirement already satisfied: fonttools>=4.22.0 in /home/daniel/miniconda3/envs/simulacion/lib/python3.13/site-packages (from matplotlib<4.0.0,>=3.7.2->fitter) (4.57.0)\n",
      "Requirement already satisfied: kiwisolver>=1.3.1 in /home/daniel/miniconda3/envs/simulacion/lib/python3.13/site-packages (from matplotlib<4.0.0,>=3.7.2->fitter) (1.4.8)\n",
      "Requirement already satisfied: packaging>=20.0 in /home/daniel/miniconda3/envs/simulacion/lib/python3.13/site-packages (from matplotlib<4.0.0,>=3.7.2->fitter) (25.0)\n",
      "Requirement already satisfied: pillow>=8 in /home/daniel/miniconda3/envs/simulacion/lib/python3.13/site-packages (from matplotlib<4.0.0,>=3.7.2->fitter) (11.2.1)\n",
      "Requirement already satisfied: pyparsing>=2.3.1 in /home/daniel/miniconda3/envs/simulacion/lib/python3.13/site-packages (from matplotlib<4.0.0,>=3.7.2->fitter) (3.2.3)\n",
      "Requirement already satisfied: python-dateutil>=2.7 in /home/daniel/miniconda3/envs/simulacion/lib/python3.13/site-packages (from matplotlib<4.0.0,>=3.7.2->fitter) (2.9.0.post0)\n",
      "Requirement already satisfied: pytz>=2020.1 in /home/daniel/miniconda3/envs/simulacion/lib/python3.13/site-packages (from pandas<3.0.0,>=0.23.4->fitter) (2025.2)\n",
      "Requirement already satisfied: tzdata>=2022.7 in /home/daniel/miniconda3/envs/simulacion/lib/python3.13/site-packages (from pandas<3.0.0,>=0.23.4->fitter) (2025.2)\n",
      "Requirement already satisfied: rich>=10.7 in /home/daniel/miniconda3/envs/simulacion/lib/python3.13/site-packages (from rich-click<2.0.0,>=1.7.2->fitter) (14.0.0)\n",
      "Requirement already satisfied: typing_extensions>=4 in /home/daniel/miniconda3/envs/simulacion/lib/python3.13/site-packages (from rich-click<2.0.0,>=1.7.2->fitter) (4.13.2)\n",
      "Requirement already satisfied: six>=1.5 in /home/daniel/miniconda3/envs/simulacion/lib/python3.13/site-packages (from python-dateutil>=2.7->matplotlib<4.0.0,>=3.7.2->fitter) (1.17.0)\n",
      "Requirement already satisfied: markdown-it-py>=2.2.0 in /home/daniel/miniconda3/envs/simulacion/lib/python3.13/site-packages (from rich>=10.7->rich-click<2.0.0,>=1.7.2->fitter) (3.0.0)\n",
      "Requirement already satisfied: pygments<3.0.0,>=2.13.0 in /home/daniel/miniconda3/envs/simulacion/lib/python3.13/site-packages (from rich>=10.7->rich-click<2.0.0,>=1.7.2->fitter) (2.19.1)\n",
      "Requirement already satisfied: mdurl~=0.1 in /home/daniel/miniconda3/envs/simulacion/lib/python3.13/site-packages (from markdown-it-py>=2.2.0->rich>=10.7->rich-click<2.0.0,>=1.7.2->fitter) (0.1.2)\n"
     ]
    }
   ],
   "source": [
    "# Acá instalamos la biblioteca fitter para el ajuste de funciones\n",
    "!pip install fitter"
   ]
  },
  {
   "cell_type": "code",
   "execution_count": 66,
   "metadata": {
    "id": "SzsbMMQPnqI0"
   },
   "outputs": [],
   "source": [
    "# Acá importarmos todas las bibliotecas necesarias: Pandas, Numpy, Scipy y Fitter\n",
    "from fitter import Fitter\n",
    "import pandas as pd\n",
    "import numpy as np\n",
    "import matplotlib.pyplot as plt\n",
    "from scipy import stats"
   ]
  },
  {
   "cell_type": "code",
   "execution_count": 67,
   "metadata": {
    "colab": {
     "base_uri": "https://localhost:8080/"
    },
    "executionInfo": {
     "elapsed": 2477,
     "status": "ok",
     "timestamp": 1729802620214,
     "user": {
      "displayName": "Edgardo Rubén FLECHA",
      "userId": "15102767123563609240"
     },
     "user_tz": 180
    },
    "id": "nmtJhWE7pLpg",
    "outputId": "4d27d0d7-4cec-4579-f0b9-8261b50c94ee"
   },
   "outputs": [],
   "source": [
    "# Esto se hace para montar el gogle drive y poder acceder datos alojados allí.\n",
    "# from google.colab import drive\n",
    "# drive.mount('/content/drive')"
   ]
  },
  {
   "cell_type": "markdown",
   "metadata": {
    "id": "c2vAl1XAp-rz"
   },
   "source": [
    "# 2. Carga de datos\n",
    "\n",
    "Utilizaremos los datos de recorrido de bicicletas públicas de la ciudad de Buenos Aires\n",
    "https://data.buenosaires.gob.ar/dataset/bicicletas-publicas\n",
    "\n",
    "Bajaremos el archivo \"Recorridos Realizados 2023 (ZIP)\", descomprimiremos el archivo csv presente (\"trips_2023.csv\")y lo alojamos dentro de la carpeta \"Colab Notebooks\" de nuestro Google Drive\n",
    "\n",
    "\n"
   ]
  },
  {
   "cell_type": "code",
   "execution_count": 68,
   "metadata": {
    "id": "Gq6t9H0zqK_b"
   },
   "outputs": [],
   "source": [
    "# En esta parte del código se debe modificar la ubicación correcta del google drive\n",
    "# bicis = pd.read_csv('/content/drive/MyDrive/Colab Notebooks/EPIO/Datos/trips_2023.csv')\n",
    "productos = pd.read_csv('./Fecom_Inc_Products.csv', sep=';')"
   ]
  },
  {
   "cell_type": "markdown",
   "metadata": {
    "id": "ZsFIfRt9u2E4"
   },
   "source": [
    "# 3. Análisis Exploratorio de Datos"
   ]
  },
  {
   "cell_type": "code",
   "execution_count": 69,
   "metadata": {
    "colab": {
     "base_uri": "https://localhost:8080/",
     "height": 604
    },
    "executionInfo": {
     "elapsed": 905,
     "status": "ok",
     "timestamp": 1729793773939,
     "user": {
      "displayName": "Edgardo Rubén FLECHA",
      "userId": "15102767123563609240"
     },
     "user_tz": 180
    },
    "id": "yeZH-wqUvgXW",
    "outputId": "5078cec5-c10a-4fae-8c9b-805b388631d3"
   },
   "outputs": [
    {
     "data": {
      "text/plain": [
       "pandas.core.frame.DataFrame"
      ]
     },
     "execution_count": 69,
     "metadata": {},
     "output_type": "execute_result"
    }
   ],
   "source": [
    "# Corroboramos que el tipo de dato de la variable \"bicis\" es un dataframe\n",
    "type(productos)"
   ]
  },
  {
   "cell_type": "code",
   "execution_count": 70,
   "metadata": {
    "colab": {
     "base_uri": "https://localhost:8080/",
     "height": 261
    },
    "executionInfo": {
     "elapsed": 383,
     "status": "ok",
     "timestamp": 1729803360817,
     "user": {
      "displayName": "Edgardo Rubén FLECHA",
      "userId": "15102767123563609240"
     },
     "user_tz": 180
    },
    "id": "X7Ltzoy-vxau",
    "outputId": "89710715-fefc-4fa8-c27a-e11c53b7a5aa"
   },
   "outputs": [
    {
     "data": {
      "text/html": [
       "<div>\n",
       "<style scoped>\n",
       "    .dataframe tbody tr th:only-of-type {\n",
       "        vertical-align: middle;\n",
       "    }\n",
       "\n",
       "    .dataframe tbody tr th {\n",
       "        vertical-align: top;\n",
       "    }\n",
       "\n",
       "    .dataframe thead th {\n",
       "        text-align: right;\n",
       "    }\n",
       "</style>\n",
       "<table border=\"1\" class=\"dataframe\">\n",
       "  <thead>\n",
       "    <tr style=\"text-align: right;\">\n",
       "      <th></th>\n",
       "      <th>Product_ID</th>\n",
       "      <th>Product_Category_Name</th>\n",
       "      <th>Product_Weight_Gr</th>\n",
       "      <th>Product_Length_Cm</th>\n",
       "      <th>Product_Height_Cm</th>\n",
       "      <th>Product_Width_Cm</th>\n",
       "    </tr>\n",
       "  </thead>\n",
       "  <tbody>\n",
       "    <tr>\n",
       "      <th>0</th>\n",
       "      <td>1e9e8ef04dbcff4541ed26657ea517e5</td>\n",
       "      <td>Perfumery</td>\n",
       "      <td>225.0</td>\n",
       "      <td>16.0</td>\n",
       "      <td>10.0</td>\n",
       "      <td>14.0</td>\n",
       "    </tr>\n",
       "    <tr>\n",
       "      <th>1</th>\n",
       "      <td>3aa071139cb16b67ca9e5dea641aaa2f</td>\n",
       "      <td>Art</td>\n",
       "      <td>1000.0</td>\n",
       "      <td>30.0</td>\n",
       "      <td>18.0</td>\n",
       "      <td>20.0</td>\n",
       "    </tr>\n",
       "    <tr>\n",
       "      <th>2</th>\n",
       "      <td>96bd76ec8810374ed1b65e291975717f</td>\n",
       "      <td>Sports_Leisure</td>\n",
       "      <td>154.0</td>\n",
       "      <td>18.0</td>\n",
       "      <td>9.0</td>\n",
       "      <td>15.0</td>\n",
       "    </tr>\n",
       "    <tr>\n",
       "      <th>3</th>\n",
       "      <td>cef67bcfe19066a932b7673e239eb23d</td>\n",
       "      <td>Baby</td>\n",
       "      <td>371.0</td>\n",
       "      <td>26.0</td>\n",
       "      <td>4.0</td>\n",
       "      <td>26.0</td>\n",
       "    </tr>\n",
       "    <tr>\n",
       "      <th>4</th>\n",
       "      <td>9dc1a7de274444849c219cff195d0b71</td>\n",
       "      <td>Housewares</td>\n",
       "      <td>625.0</td>\n",
       "      <td>20.0</td>\n",
       "      <td>17.0</td>\n",
       "      <td>13.0</td>\n",
       "    </tr>\n",
       "  </tbody>\n",
       "</table>\n",
       "</div>"
      ],
      "text/plain": [
       "                         Product_ID Product_Category_Name  Product_Weight_Gr  \\\n",
       "0  1e9e8ef04dbcff4541ed26657ea517e5             Perfumery              225.0   \n",
       "1  3aa071139cb16b67ca9e5dea641aaa2f                   Art             1000.0   \n",
       "2  96bd76ec8810374ed1b65e291975717f        Sports_Leisure              154.0   \n",
       "3  cef67bcfe19066a932b7673e239eb23d                  Baby              371.0   \n",
       "4  9dc1a7de274444849c219cff195d0b71            Housewares              625.0   \n",
       "\n",
       "   Product_Length_Cm  Product_Height_Cm  Product_Width_Cm  \n",
       "0               16.0               10.0              14.0  \n",
       "1               30.0               18.0              20.0  \n",
       "2               18.0                9.0              15.0  \n",
       "3               26.0                4.0              26.0  \n",
       "4               20.0               17.0              13.0  "
      ]
     },
     "execution_count": 70,
     "metadata": {},
     "output_type": "execute_result"
    }
   ],
   "source": [
    "# Primeras lineas de nuestro dataframe\n",
    "productos.head()"
   ]
  },
  {
   "cell_type": "code",
   "execution_count": null,
   "metadata": {
    "id": "29ZcswQTjJ3n"
   },
   "outputs": [],
   "source": []
  },
  {
   "cell_type": "code",
   "execution_count": 71,
   "metadata": {
    "colab": {
     "base_uri": "https://localhost:8080/"
    },
    "executionInfo": {
     "elapsed": 412,
     "status": "ok",
     "timestamp": 1729793920492,
     "user": {
      "displayName": "Edgardo Rubén FLECHA",
      "userId": "15102767123563609240"
     },
     "user_tz": 180
    },
    "id": "M3Wx6xmkwDrJ",
    "outputId": "44a9a770-2c3c-4bba-c953-1f92a7551b42"
   },
   "outputs": [
    {
     "data": {
      "text/plain": [
       "Index(['Product_ID', 'Product_Category_Name', 'Product_Weight_Gr',\n",
       "       'Product_Length_Cm', 'Product_Height_Cm', 'Product_Width_Cm'],\n",
       "      dtype='object')"
      ]
     },
     "execution_count": 71,
     "metadata": {},
     "output_type": "execute_result"
    }
   ],
   "source": [
    "# Si solo quiero los nombres de las columnas en formato lista\n",
    "productos.columns"
   ]
  },
  {
   "cell_type": "code",
   "execution_count": 72,
   "metadata": {
    "colab": {
     "base_uri": "https://localhost:8080/"
    },
    "executionInfo": {
     "elapsed": 362,
     "status": "ok",
     "timestamp": 1729793951323,
     "user": {
      "displayName": "Edgardo Rubén FLECHA",
      "userId": "15102767123563609240"
     },
     "user_tz": 180
    },
    "id": "mHXQW1FFwL_Z",
    "outputId": "482ca490-d489-491c-a47d-e63fcefbecfc"
   },
   "outputs": [
    {
     "data": {
      "text/plain": [
       "(32951, 6)"
      ]
     },
     "execution_count": 72,
     "metadata": {},
     "output_type": "execute_result"
    }
   ],
   "source": [
    "# Dimensionalidad del dataframe\n",
    "productos.shape"
   ]
  },
  {
   "cell_type": "code",
   "execution_count": 73,
   "metadata": {
    "colab": {
     "base_uri": "https://localhost:8080/",
     "height": 649
    },
    "executionInfo": {
     "elapsed": 422,
     "status": "ok",
     "timestamp": 1729794031786,
     "user": {
      "displayName": "Edgardo Rubén FLECHA",
      "userId": "15102767123563609240"
     },
     "user_tz": 180
    },
    "id": "DVv0WcpZwhRb",
    "outputId": "d19a0239-983c-49a2-cfce-cfc22cd8fa0b"
   },
   "outputs": [
    {
     "data": {
      "text/plain": [
       "Product_ID                object\n",
       "Product_Category_Name     object\n",
       "Product_Weight_Gr        float64\n",
       "Product_Length_Cm        float64\n",
       "Product_Height_Cm        float64\n",
       "Product_Width_Cm         float64\n",
       "dtype: object"
      ]
     },
     "execution_count": 73,
     "metadata": {},
     "output_type": "execute_result"
    }
   ],
   "source": [
    "# El tipo de dato de cada una de las columnas\n",
    "# Acá veo que 'duracion_recorrido', 'fecha_origen_recorrido' y 'fecha_destino_recorrido'\n",
    "# son de tipo object (texto) y no está bueno eso\n",
    "productos.dtypes"
   ]
  },
  {
   "cell_type": "markdown",
   "metadata": {
    "id": "C-rxg7E4BKWt"
   },
   "source": []
  },
  {
   "cell_type": "code",
   "execution_count": 74,
   "metadata": {
    "colab": {
     "base_uri": "https://localhost:8080/",
     "height": 458
    },
    "executionInfo": {
     "elapsed": 359,
     "status": "ok",
     "timestamp": 1729803553464,
     "user": {
      "displayName": "Edgardo Rubén FLECHA",
      "userId": "15102767123563609240"
     },
     "user_tz": 180
    },
    "id": "4DjyC_Tfw7aL",
    "outputId": "73c869f5-84b7-4e35-ebf3-22652163d647"
   },
   "outputs": [
    {
     "data": {
      "text/plain": [
       "0        14.0\n",
       "1        20.0\n",
       "2        15.0\n",
       "3        26.0\n",
       "4        13.0\n",
       "         ... \n",
       "32946    40.0\n",
       "32947    16.0\n",
       "32948    27.0\n",
       "32949    20.0\n",
       "32950     7.0\n",
       "Name: Product_Width_Cm, Length: 32951, dtype: float64"
      ]
     },
     "execution_count": 74,
     "metadata": {},
     "output_type": "execute_result"
    }
   ],
   "source": [
    "# Para acceder a una columna específica puedo usar el operador punto:\n",
    "productos.Product_Width_Cm"
   ]
  },
  {
   "cell_type": "code",
   "execution_count": 75,
   "metadata": {
    "id": "378tyPFPU6Qk"
   },
   "outputs": [
    {
     "data": {
      "text/plain": [
       "0        14.0\n",
       "1        20.0\n",
       "2        15.0\n",
       "3        26.0\n",
       "4        13.0\n",
       "         ... \n",
       "32946    40.0\n",
       "32947    16.0\n",
       "32948    27.0\n",
       "32949    20.0\n",
       "32950     7.0\n",
       "Name: Product_Width_Cm, Length: 32951, dtype: float64"
      ]
     },
     "execution_count": 75,
     "metadata": {},
     "output_type": "execute_result"
    }
   ],
   "source": [
    "# O el operador corchete:\n",
    "productos['Product_Width_Cm']"
   ]
  },
  {
   "cell_type": "markdown",
   "metadata": {
    "id": "szb9X_miBNJh"
   },
   "source": [
    "# 5. Cálculo de FDPS"
   ]
  },
  {
   "cell_type": "code",
   "execution_count": null,
   "metadata": {
    "id": "mPCxdh79BVlB"
   },
   "outputs": [
    {
     "name": "stderr",
     "output_type": "stream",
     "text": [
      "/home/daniel/miniconda3/envs/simulacion/lib/python3.13/site-packages/numpy/lib/histograms.py:885: RuntimeWarning: invalid value encountered in divide\n",
      "  return n/db/n.sum(), bin_edges\n",
      "2025-04-30 04:03:24.876 | WARNING  | fitter.fitter:_fit_single_distribution:337 - SKIPPED _fit distribution (taking more than 60 seconds)\n",
      "2025-04-30 04:03:24.880 | WARNING  | fitter.fitter:_fit_single_distribution:337 - SKIPPED alpha distribution (taking more than 60 seconds)\n",
      "2025-04-30 04:03:24.893 | WARNING  | fitter.fitter:_fit_single_distribution:337 - SKIPPED anglit distribution (taking more than 60 seconds)\n",
      "2025-04-30 04:03:24.894 | WARNING  | fitter.fitter:_fit_single_distribution:337 - SKIPPED argus distribution (taking more than 60 seconds)\n",
      "2025-04-30 04:03:24.894 | WARNING  | fitter.fitter:_fit_single_distribution:337 - SKIPPED betaprime distribution (taking more than 60 seconds)\n",
      "2025-04-30 04:03:24.895 | WARNING  | fitter.fitter:_fit_single_distribution:337 - SKIPPED beta distribution (taking more than 60 seconds)\n",
      "2025-04-30 04:03:24.895 | WARNING  | fitter.fitter:_fit_single_distribution:337 - SKIPPED arcsine distribution (taking more than 60 seconds)\n",
      "2025-04-30 04:03:24.896 | WARNING  | fitter.fitter:_fit_single_distribution:337 - SKIPPED bradford distribution (taking more than 60 seconds)\n",
      "2025-04-30 04:03:24.899 | WARNING  | fitter.fitter:_fit_single_distribution:337 - SKIPPED burr distribution (taking more than 60 seconds)\n",
      "2025-04-30 04:03:24.900 | WARNING  | fitter.fitter:_fit_single_distribution:337 - SKIPPED burr12 distribution (taking more than 60 seconds)\n",
      "2025-04-30 04:03:24.901 | WARNING  | fitter.fitter:_fit_single_distribution:337 - SKIPPED cauchy distribution (taking more than 60 seconds)\n",
      "2025-04-30 04:03:24.901 | WARNING  | fitter.fitter:_fit_single_distribution:337 - SKIPPED chi2 distribution (taking more than 60 seconds)\n",
      "2025-04-30 04:03:24.904 | WARNING  | fitter.fitter:_fit_single_distribution:337 - SKIPPED cosine distribution (taking more than 60 seconds)\n",
      "2025-04-30 04:03:24.905 | WARNING  | fitter.fitter:_fit_single_distribution:337 - SKIPPED erlang distribution (taking more than 60 seconds)\n",
      "2025-04-30 04:03:24.906 | WARNING  | fitter.fitter:_fit_single_distribution:337 - SKIPPED exponnorm distribution (taking more than 60 seconds)\n",
      "2025-04-30 04:03:24.906 | WARNING  | fitter.fitter:_fit_single_distribution:337 - SKIPPED crystalball distribution (taking more than 60 seconds)\n",
      "2025-04-30 04:03:24.906 | WARNING  | fitter.fitter:_fit_single_distribution:337 - SKIPPED chi distribution (taking more than 60 seconds)\n",
      "2025-04-30 04:03:24.914 | WARNING  | fitter.fitter:_fit_single_distribution:337 - SKIPPED dpareto_lognorm distribution (taking more than 60 seconds)\n",
      "2025-04-30 04:03:24.915 | WARNING  | fitter.fitter:_fit_single_distribution:337 - SKIPPED expon distribution (taking more than 60 seconds)\n",
      "2025-04-30 04:03:24.917 | WARNING  | fitter.fitter:_fit_single_distribution:337 - SKIPPED dgamma distribution (taking more than 60 seconds)\n",
      "2025-04-30 04:03:24.917 | WARNING  | fitter.fitter:_fit_single_distribution:337 - SKIPPED fatiguelife distribution (taking more than 60 seconds)\n",
      "2025-04-30 04:03:24.919 | WARNING  | fitter.fitter:_fit_single_distribution:337 - SKIPPED dweibull distribution (taking more than 60 seconds)\n",
      "2025-04-30 04:03:24.920 | WARNING  | fitter.fitter:_fit_single_distribution:337 - SKIPPED fisk distribution (taking more than 60 seconds)\n",
      "2025-04-30 04:03:24.922 | WARNING  | fitter.fitter:_fit_single_distribution:337 - SKIPPED gamma distribution (taking more than 60 seconds)\n",
      "2025-04-30 04:03:24.923 | WARNING  | fitter.fitter:_fit_single_distribution:337 - SKIPPED foldcauchy distribution (taking more than 60 seconds)\n",
      "2025-04-30 04:03:24.923 | WARNING  | fitter.fitter:_fit_single_distribution:337 - SKIPPED gengamma distribution (taking more than 60 seconds)\n",
      "2025-04-30 04:03:24.928 | WARNING  | fitter.fitter:_fit_single_distribution:337 - SKIPPED foldnorm distribution (taking more than 60 seconds)\n",
      "2025-04-30 04:03:24.928 | WARNING  | fitter.fitter:_fit_single_distribution:337 - SKIPPED genhalflogistic distribution (taking more than 60 seconds)\n",
      "2025-04-30 04:03:24.938 | WARNING  | fitter.fitter:_fit_single_distribution:337 - SKIPPED gausshyper distribution (taking more than 60 seconds)\n",
      "2025-04-30 04:03:24.943 | WARNING  | fitter.fitter:_fit_single_distribution:337 - SKIPPED genhyperbolic distribution (taking more than 60 seconds)\n",
      "2025-04-30 04:03:24.943 | WARNING  | fitter.fitter:_fit_single_distribution:337 - SKIPPED genlogistic distribution (taking more than 60 seconds)\n",
      "2025-04-30 04:03:24.946 | WARNING  | fitter.fitter:_fit_single_distribution:337 - SKIPPED geninvgauss distribution (taking more than 60 seconds)\n",
      "2025-04-30 04:03:24.947 | WARNING  | fitter.fitter:_fit_single_distribution:337 - SKIPPED gennorm distribution (taking more than 60 seconds)\n",
      "2025-04-30 04:03:24.950 | WARNING  | fitter.fitter:_fit_single_distribution:337 - SKIPPED genpareto distribution (taking more than 60 seconds)\n",
      "2025-04-30 04:03:24.951 | WARNING  | fitter.fitter:_fit_single_distribution:337 - SKIPPED gibrat distribution (taking more than 60 seconds)\n",
      "2025-04-30 04:03:24.955 | WARNING  | fitter.fitter:_fit_single_distribution:337 - SKIPPED invgamma distribution (taking more than 60 seconds)\n",
      "2025-04-30 04:03:24.956 | WARNING  | fitter.fitter:_fit_single_distribution:337 - SKIPPED invgauss distribution (taking more than 60 seconds)\n",
      "2025-04-30 04:03:24.958 | WARNING  | fitter.fitter:_fit_single_distribution:337 - SKIPPED invweibull distribution (taking more than 60 seconds)\n",
      "2025-04-30 04:03:24.959 | WARNING  | fitter.fitter:_fit_single_distribution:337 - SKIPPED exponpow distribution (taking more than 60 seconds)\n",
      "2025-04-30 04:03:24.962 | WARNING  | fitter.fitter:_fit_single_distribution:337 - SKIPPED irwinhall distribution (taking more than 60 seconds)\n",
      "2025-04-30 04:03:24.965 | WARNING  | fitter.fitter:_fit_single_distribution:337 - SKIPPED jf_skew_t distribution (taking more than 60 seconds)\n",
      "2025-04-30 04:03:24.966 | WARNING  | fitter.fitter:_fit_single_distribution:337 - SKIPPED exponweib distribution (taking more than 60 seconds)\n",
      "2025-04-30 04:03:24.969 | WARNING  | fitter.fitter:_fit_single_distribution:337 - SKIPPED f distribution (taking more than 60 seconds)\n",
      "2025-04-30 04:03:24.971 | WARNING  | fitter.fitter:_fit_single_distribution:337 - SKIPPED landau distribution (taking more than 60 seconds)\n",
      "2025-04-30 04:03:24.972 | INFO     | fitter.fitter:_fit_single_distribution:333 - Fitted laplace distribution with error=nan)\n",
      "2025-04-30 04:03:24.973 | WARNING  | fitter.fitter:_fit_single_distribution:337 - SKIPPED laplace_asymmetric distribution (taking more than 60 seconds)\n",
      "2025-04-30 04:03:24.974 | WARNING  | fitter.fitter:_fit_single_distribution:337 - SKIPPED levy distribution (taking more than 60 seconds)\n",
      "2025-04-30 04:03:24.976 | WARNING  | fitter.fitter:_fit_single_distribution:337 - SKIPPED levy_l distribution (taking more than 60 seconds)\n",
      "2025-04-30 04:03:24.977 | WARNING  | fitter.fitter:_fit_single_distribution:337 - SKIPPED levy_stable distribution (taking more than 60 seconds)\n",
      "2025-04-30 04:03:24.979 | WARNING  | fitter.fitter:_fit_single_distribution:337 - SKIPPED loggamma distribution (taking more than 60 seconds)\n",
      "2025-04-30 04:03:24.980 | WARNING  | fitter.fitter:_fit_single_distribution:337 - SKIPPED logistic distribution (taking more than 60 seconds)\n",
      "2025-04-30 04:03:24.981 | WARNING  | fitter.fitter:_fit_single_distribution:337 - SKIPPED loglaplace distribution (taking more than 60 seconds)\n",
      "2025-04-30 04:03:24.982 | WARNING  | fitter.fitter:_fit_single_distribution:337 - SKIPPED lognorm distribution (taking more than 60 seconds)\n",
      "2025-04-30 04:03:24.984 | WARNING  | fitter.fitter:_fit_single_distribution:337 - SKIPPED halfgennorm distribution (taking more than 60 seconds)\n",
      "2025-04-30 04:03:24.985 | WARNING  | fitter.fitter:_fit_single_distribution:337 - SKIPPED loguniform distribution (taking more than 60 seconds)\n",
      "2025-04-30 04:03:24.985 | WARNING  | fitter.fitter:_fit_single_distribution:337 - SKIPPED halflogistic distribution (taking more than 60 seconds)\n",
      "2025-04-30 04:03:24.986 | WARNING  | fitter.fitter:_fit_single_distribution:337 - SKIPPED kappa4 distribution (taking more than 60 seconds)\n",
      "2025-04-30 04:03:24.987 | WARNING  | fitter.fitter:_fit_single_distribution:337 - SKIPPED lomax distribution (taking more than 60 seconds)\n",
      "2025-04-30 04:03:24.991 | WARNING  | fitter.fitter:_fit_single_distribution:337 - SKIPPED ksone distribution (taking more than 60 seconds)\n",
      "2025-04-30 04:03:24.991 | WARNING  | fitter.fitter:_fit_single_distribution:337 - SKIPPED halfnorm distribution (taking more than 60 seconds)\n",
      "2025-04-30 04:03:24.993 | WARNING  | fitter.fitter:_fit_single_distribution:337 - SKIPPED maxwell distribution (taking more than 60 seconds)\n",
      "2025-04-30 04:03:24.993 | WARNING  | fitter.fitter:_fit_single_distribution:337 - SKIPPED hypsecant distribution (taking more than 60 seconds)\n",
      "2025-04-30 04:03:24.994 | WARNING  | fitter.fitter:_fit_single_distribution:337 - SKIPPED kstwo distribution (taking more than 60 seconds)\n",
      "2025-04-30 04:03:24.997 | WARNING  | fitter.fitter:_fit_single_distribution:337 - SKIPPED mielke distribution (taking more than 60 seconds)\n",
      "2025-04-30 04:03:24.997 | WARNING  | fitter.fitter:_fit_single_distribution:337 - SKIPPED gompertz distribution (taking more than 60 seconds)\n",
      "2025-04-30 04:03:24.998 | WARNING  | fitter.fitter:_fit_single_distribution:337 - SKIPPED nakagami distribution (taking more than 60 seconds)\n",
      "2025-04-30 04:03:24.999 | WARNING  | fitter.fitter:_fit_single_distribution:337 - SKIPPED moyal distribution (taking more than 60 seconds)\n",
      "2025-04-30 04:03:24.999 | WARNING  | fitter.fitter:_fit_single_distribution:337 - SKIPPED ncf distribution (taking more than 60 seconds)\n",
      "2025-04-30 04:03:25.000 | WARNING  | fitter.fitter:_fit_single_distribution:337 - SKIPPED gumbel_l distribution (taking more than 60 seconds)\n",
      "2025-04-30 04:03:25.001 | WARNING  | fitter.fitter:_fit_single_distribution:337 - SKIPPED nct distribution (taking more than 60 seconds)\n",
      "2025-04-30 04:03:25.002 | WARNING  | fitter.fitter:_fit_single_distribution:337 - SKIPPED multivariate_normal distribution (taking more than 60 seconds)\n",
      "2025-04-30 04:03:25.003 | WARNING  | fitter.fitter:_fit_single_distribution:337 - SKIPPED genexpon distribution (taking more than 60 seconds)\n",
      "2025-04-30 04:03:25.003 | WARNING  | fitter.fitter:_fit_single_distribution:337 - SKIPPED ncx2 distribution (taking more than 60 seconds)\n",
      "2025-04-30 04:03:25.004 | WARNING  | fitter.fitter:_fit_single_distribution:337 - SKIPPED gumbel_r distribution (taking more than 60 seconds)\n",
      "2025-04-30 04:03:25.006 | WARNING  | fitter.fitter:_fit_single_distribution:337 - SKIPPED genextreme distribution (taking more than 60 seconds)\n",
      "2025-04-30 04:03:25.006 | WARNING  | fitter.fitter:_fit_single_distribution:337 - SKIPPED halfcauchy distribution (taking more than 60 seconds)\n",
      "2025-04-30 04:03:25.007 | WARNING  | fitter.fitter:_fit_single_distribution:337 - SKIPPED powerlaw distribution (taking more than 60 seconds)\n",
      "2025-04-30 04:03:25.007 | INFO     | fitter.fitter:_fit_single_distribution:333 - Fitted norm distribution with error=nan)\n",
      "2025-04-30 04:03:25.011 | WARNING  | fitter.fitter:_fit_single_distribution:337 - SKIPPED rayleigh distribution (taking more than 60 seconds)\n",
      "2025-04-30 04:03:25.012 | WARNING  | fitter.fitter:_fit_single_distribution:337 - SKIPPED norminvgauss distribution (taking more than 60 seconds)\n",
      "2025-04-30 04:03:25.014 | WARNING  | fitter.fitter:_fit_single_distribution:337 - SKIPPED pareto distribution (taking more than 60 seconds)\n",
      "2025-04-30 04:03:25.016 | WARNING  | fitter.fitter:_fit_single_distribution:337 - SKIPPED pearson3 distribution (taking more than 60 seconds)\n",
      "2025-04-30 04:03:25.036 | WARNING  | fitter.fitter:_fit_single_distribution:337 - SKIPPED johnsonsb distribution (taking more than 60 seconds)\n",
      "2025-04-30 04:03:25.037 | WARNING  | fitter.fitter:_fit_single_distribution:337 - SKIPPED rdist distribution (taking more than 60 seconds)\n",
      "2025-04-30 04:03:25.039 | WARNING  | fitter.fitter:_fit_single_distribution:337 - SKIPPED johnsonsu distribution (taking more than 60 seconds)\n",
      "2025-04-30 04:03:25.042 | WARNING  | fitter.fitter:_fit_single_distribution:337 - SKIPPED reciprocal distribution (taking more than 60 seconds)\n",
      "2025-04-30 04:03:25.042 | WARNING  | fitter.fitter:_fit_single_distribution:337 - SKIPPED kappa3 distribution (taking more than 60 seconds)\n",
      "2025-04-30 04:03:25.045 | WARNING  | fitter.fitter:_fit_single_distribution:337 - SKIPPED rel_breitwigner distribution (taking more than 60 seconds)\n",
      "2025-04-30 04:03:25.049 | WARNING  | fitter.fitter:_fit_single_distribution:337 - SKIPPED rice distribution (taking more than 60 seconds)\n",
      "2025-04-30 04:03:25.053 | WARNING  | fitter.fitter:_fit_single_distribution:337 - SKIPPED rv_continuous distribution (taking more than 60 seconds)\n",
      "2025-04-30 04:03:25.060 | WARNING  | fitter.fitter:_fit_single_distribution:337 - SKIPPED rv_histogram distribution (taking more than 60 seconds)\n",
      "2025-04-30 04:03:25.060 | WARNING  | fitter.fitter:_fit_single_distribution:337 - SKIPPED semicircular distribution (taking more than 60 seconds)\n",
      "2025-04-30 04:03:25.060 | WARNING  | fitter.fitter:_fit_single_distribution:337 - SKIPPED powernorm distribution (taking more than 60 seconds)\n",
      "2025-04-30 04:03:25.065 | WARNING  | fitter.fitter:_fit_single_distribution:337 - SKIPPED skewcauchy distribution (taking more than 60 seconds)\n",
      "2025-04-30 04:03:25.065 | WARNING  | fitter.fitter:_fit_single_distribution:337 - SKIPPED kstwobign distribution (taking more than 60 seconds)\n",
      "2025-04-30 04:03:25.072 | WARNING  | fitter.fitter:_fit_single_distribution:337 - SKIPPED trapezoid distribution (taking more than 60 seconds)\n",
      "2025-04-30 04:03:25.073 | WARNING  | fitter.fitter:_fit_single_distribution:337 - SKIPPED t distribution (taking more than 60 seconds)\n",
      "2025-04-30 04:03:25.073 | WARNING  | fitter.fitter:_fit_single_distribution:337 - SKIPPED skewnorm distribution (taking more than 60 seconds)\n",
      "2025-04-30 04:03:25.078 | WARNING  | fitter.fitter:_fit_single_distribution:337 - SKIPPED triang distribution (taking more than 60 seconds)\n",
      "2025-04-30 04:03:25.079 | WARNING  | fitter.fitter:_fit_single_distribution:337 - SKIPPED truncexpon distribution (taking more than 60 seconds)\n",
      "2025-04-30 04:03:25.080 | WARNING  | fitter.fitter:_fit_single_distribution:337 - SKIPPED trapz distribution (taking more than 60 seconds)\n",
      "2025-04-30 04:03:25.085 | WARNING  | fitter.fitter:_fit_single_distribution:337 - SKIPPED truncnorm distribution (taking more than 60 seconds)\n",
      "2025-04-30 04:03:25.086 | WARNING  | fitter.fitter:_fit_single_distribution:337 - SKIPPED truncpareto distribution (taking more than 60 seconds)\n",
      "2025-04-30 04:03:25.087 | WARNING  | fitter.fitter:_fit_single_distribution:337 - SKIPPED truncweibull_min distribution (taking more than 60 seconds)\n",
      "2025-04-30 04:03:25.090 | WARNING  | fitter.fitter:_fit_single_distribution:337 - SKIPPED uniform distribution (taking more than 60 seconds)\n",
      "2025-04-30 04:03:25.091 | WARNING  | fitter.fitter:_fit_single_distribution:337 - SKIPPED tukeylambda distribution (taking more than 60 seconds)\n",
      "2025-04-30 04:03:25.094 | INFO     | fitter.fitter:_fit_single_distribution:333 - Fitted vonmises distribution with error=nan)\n",
      "2025-04-30 04:03:25.096 | WARNING  | fitter.fitter:_fit_single_distribution:337 - SKIPPED vonmises_fisher distribution (taking more than 60 seconds)\n",
      "2025-04-30 04:03:25.099 | WARNING  | fitter.fitter:_fit_single_distribution:337 - SKIPPED weibull_max distribution (taking more than 60 seconds)\n",
      "2025-04-30 04:03:25.099 | WARNING  | fitter.fitter:_fit_single_distribution:337 - SKIPPED wald distribution (taking more than 60 seconds)\n",
      "2025-04-30 04:03:25.110 | WARNING  | fitter.fitter:_fit_single_distribution:337 - SKIPPED wrapcauchy distribution (taking more than 60 seconds)\n",
      "2025-04-30 04:03:25.118 | WARNING  | fitter.fitter:_fit_single_distribution:337 - SKIPPED weibull_min distribution (taking more than 60 seconds)\n",
      "2025-04-30 04:03:25.122 | WARNING  | fitter.fitter:_fit_single_distribution:337 - SKIPPED powerlognorm distribution (taking more than 60 seconds)\n",
      "2025-04-30 04:03:25.313 | WARNING  | fitter.fitter:_fit_single_distribution:337 - SKIPPED vonmises_line distribution (taking more than 60 seconds)\n",
      "2025-04-30 04:03:25.881 | WARNING  | fitter.fitter:_fit_single_distribution:337 - SKIPPED recipinvgauss distribution (taking more than 60 seconds)\n",
      "/home/daniel/miniconda3/envs/simulacion/lib/python3.13/site-packages/scipy/integrate/_quadpack_py.py:1260: IntegrationWarning: The maximum number of subdivisions (50) has been achieved.\n",
      "  If increasing the limit yields no improvement it is advised to analyze \n",
      "  the integrand in order to determine the difficulties.  If the position of a \n",
      "  local difficulty can be determined (singularity, discontinuity) one will \n",
      "  probably gain from splitting up the interval and calling the integrator \n",
      "  on the subranges.  Perhaps a special-purpose integrator should be used.\n",
      "  quad_r = quad(f, low, high, args=args, full_output=self.full_output,\n",
      "/home/daniel/miniconda3/envs/simulacion/lib/python3.13/site-packages/scipy/integrate/_quadpack_py.py:1260: IntegrationWarning: The integral is probably divergent, or slowly convergent.\n",
      "  quad_r = quad(f, low, high, args=args, full_output=self.full_output,\n",
      "2025-04-30 04:03:30.518 | WARNING  | fitter.fitter:_fit_single_distribution:337 - SKIPPED studentized_range distribution (taking more than 60 seconds)\n",
      "/home/daniel/miniconda3/envs/simulacion/lib/python3.13/site-packages/numpy/lib/histograms.py:885: RuntimeWarning: invalid value encountered in divide\n",
      "  return n/db/n.sum(), bin_edges\n",
      "\u001b[32m2025-04-30 04:03:30.556\u001b[0m | \u001b[33m\u001b[1mWARNING \u001b[0m | \u001b[36mfitter.fitter\u001b[0m:\u001b[36mplot_pdf\u001b[0m:\u001b[36m419\u001b[0m - \u001b[33m\u001b[1m_fit was not fitted. no parameters available\u001b[0m\n",
      "\u001b[32m2025-04-30 04:03:30.558\u001b[0m | \u001b[33m\u001b[1mWARNING \u001b[0m | \u001b[36mfitter.fitter\u001b[0m:\u001b[36mplot_pdf\u001b[0m:\u001b[36m419\u001b[0m - \u001b[33m\u001b[1mpearson3 was not fitted. no parameters available\u001b[0m\n",
      "\u001b[32m2025-04-30 04:03:30.559\u001b[0m | \u001b[33m\u001b[1mWARNING \u001b[0m | \u001b[36mfitter.fitter\u001b[0m:\u001b[36mplot_pdf\u001b[0m:\u001b[36m419\u001b[0m - \u001b[33m\u001b[1mpareto was not fitted. no parameters available\u001b[0m\n",
      "\u001b[32m2025-04-30 04:03:30.560\u001b[0m | \u001b[33m\u001b[1mWARNING \u001b[0m | \u001b[36mfitter.fitter\u001b[0m:\u001b[36mplot_pdf\u001b[0m:\u001b[36m419\u001b[0m - \u001b[33m\u001b[1mnorminvgauss was not fitted. no parameters available\u001b[0m\n",
      "\u001b[32m2025-04-30 04:03:30.560\u001b[0m | \u001b[33m\u001b[1mWARNING \u001b[0m | \u001b[36mfitter.fitter\u001b[0m:\u001b[36mplot_pdf\u001b[0m:\u001b[36m419\u001b[0m - \u001b[33m\u001b[1mncx2 was not fitted. no parameters available\u001b[0m\n",
      "/home/daniel/miniconda3/envs/simulacion/lib/python3.13/site-packages/fitter/fitter.py:421: UserWarning: No artists with labels found to put in legend.  Note that artists whose label start with an underscore are ignored when legend() is called with no argument.\n",
      "  pylab.legend()\n"
     ]
    },
    {
     "data": {
      "text/html": [
       "<div>\n",
       "<style scoped>\n",
       "    .dataframe tbody tr th:only-of-type {\n",
       "        vertical-align: middle;\n",
       "    }\n",
       "\n",
       "    .dataframe tbody tr th {\n",
       "        vertical-align: top;\n",
       "    }\n",
       "\n",
       "    .dataframe thead th {\n",
       "        text-align: right;\n",
       "    }\n",
       "</style>\n",
       "<table border=\"1\" class=\"dataframe\">\n",
       "  <thead>\n",
       "    <tr style=\"text-align: right;\">\n",
       "      <th></th>\n",
       "      <th>sumsquare_error</th>\n",
       "      <th>aic</th>\n",
       "      <th>bic</th>\n",
       "      <th>kl_div</th>\n",
       "      <th>ks_statistic</th>\n",
       "      <th>ks_pvalue</th>\n",
       "    </tr>\n",
       "  </thead>\n",
       "  <tbody>\n",
       "    <tr>\n",
       "      <th>_fit</th>\n",
       "      <td>inf</td>\n",
       "      <td>inf</td>\n",
       "      <td>inf</td>\n",
       "      <td>inf</td>\n",
       "      <td>NaN</td>\n",
       "      <td>NaN</td>\n",
       "    </tr>\n",
       "    <tr>\n",
       "      <th>pearson3</th>\n",
       "      <td>inf</td>\n",
       "      <td>inf</td>\n",
       "      <td>inf</td>\n",
       "      <td>inf</td>\n",
       "      <td>NaN</td>\n",
       "      <td>NaN</td>\n",
       "    </tr>\n",
       "    <tr>\n",
       "      <th>pareto</th>\n",
       "      <td>inf</td>\n",
       "      <td>inf</td>\n",
       "      <td>inf</td>\n",
       "      <td>inf</td>\n",
       "      <td>NaN</td>\n",
       "      <td>NaN</td>\n",
       "    </tr>\n",
       "    <tr>\n",
       "      <th>norminvgauss</th>\n",
       "      <td>inf</td>\n",
       "      <td>inf</td>\n",
       "      <td>inf</td>\n",
       "      <td>inf</td>\n",
       "      <td>NaN</td>\n",
       "      <td>NaN</td>\n",
       "    </tr>\n",
       "    <tr>\n",
       "      <th>ncx2</th>\n",
       "      <td>inf</td>\n",
       "      <td>inf</td>\n",
       "      <td>inf</td>\n",
       "      <td>inf</td>\n",
       "      <td>NaN</td>\n",
       "      <td>NaN</td>\n",
       "    </tr>\n",
       "  </tbody>\n",
       "</table>\n",
       "</div>"
      ],
      "text/plain": [
       "              sumsquare_error  aic  bic  kl_div  ks_statistic  ks_pvalue\n",
       "_fit                      inf  inf  inf     inf           NaN        NaN\n",
       "pearson3                  inf  inf  inf     inf           NaN        NaN\n",
       "pareto                    inf  inf  inf     inf           NaN        NaN\n",
       "norminvgauss              inf  inf  inf     inf           NaN        NaN\n",
       "ncx2                      inf  inf  inf     inf           NaN        NaN"
      ]
     },
     "execution_count": 76,
     "metadata": {},
     "output_type": "execute_result"
    },
    {
     "data": {
      "image/png": "[encoded data removed]",
      "text/plain": [
       "<Figure size 640x480 with 1 Axes>"
      ]
     },
     "metadata": {},
     "output_type": "display_data"
    }
   ],
   "source": [
    "# En una variable preparar la columna del df que quiero ajustar\n",
    "# fdp_constitucion_hora = Fitter(productos.Product_Width_Cm)\n",
    "# Filtrar a algunas distribuciones típicas (cambiá esta lista según lo que necesites)\n",
    "# fdp_constitucion_hora = Fitter(productos['Product_Width_Cm'],\n",
    "        #    distributions=['norm', 'expon', 'gamma', 'lognorm', 'uniform'])\n",
    "fdp_constitucion_hora = Fitter(productos['Product_Width_Cm'].dropna().values)  # segundos\n",
    "# fdp_constitucion_hora.fit()\n",
    "# fdp_constitucion_hora.summary()\n"
   ]
  },
  {
   "cell_type": "code",
   "execution_count": 77,
   "metadata": {
    "id": "RnStYz_WBz5G"
   },
   "outputs": [
    {
     "name": "stderr",
     "output_type": "stream",
     "text": [
      "2025-04-30 04:03:30.649 | WARNING  | fitter.fitter:_fit_single_distribution:337 - SKIPPED anglit distribution (taking more than 60 seconds)\n",
      "2025-04-30 04:03:30.649 | WARNING  | fitter.fitter:_fit_single_distribution:337 - SKIPPED alpha distribution (taking more than 60 seconds)\n",
      "2025-04-30 04:03:30.651 | WARNING  | fitter.fitter:_fit_single_distribution:337 - SKIPPED _fit distribution (taking more than 60 seconds)\n",
      "2025-04-30 04:03:30.657 | WARNING  | fitter.fitter:_fit_single_distribution:337 - SKIPPED arcsine distribution (taking more than 60 seconds)\n",
      "2025-04-30 04:03:30.666 | WARNING  | fitter.fitter:_fit_single_distribution:337 - SKIPPED burr distribution (taking more than 60 seconds)\n",
      "2025-04-30 04:03:30.667 | WARNING  | fitter.fitter:_fit_single_distribution:337 - SKIPPED beta distribution (taking more than 60 seconds)\n",
      "2025-04-30 04:03:30.671 | WARNING  | fitter.fitter:_fit_single_distribution:337 - SKIPPED betaprime distribution (taking more than 60 seconds)\n",
      "2025-04-30 04:03:30.672 | WARNING  | fitter.fitter:_fit_single_distribution:337 - SKIPPED argus distribution (taking more than 60 seconds)\n",
      "2025-04-30 04:03:30.675 | WARNING  | fitter.fitter:_fit_single_distribution:337 - SKIPPED bradford distribution (taking more than 60 seconds)\n",
      "2025-04-30 04:03:30.679 | WARNING  | fitter.fitter:_fit_single_distribution:337 - SKIPPED burr12 distribution (taking more than 60 seconds)\n",
      "2025-04-30 04:03:30.682 | WARNING  | fitter.fitter:_fit_single_distribution:337 - SKIPPED dpareto_lognorm distribution (taking more than 60 seconds)\n",
      "2025-04-30 04:03:30.682 | WARNING  | fitter.fitter:_fit_single_distribution:337 - SKIPPED crystalball distribution (taking more than 60 seconds)\n",
      "2025-04-30 04:03:30.683 | WARNING  | fitter.fitter:_fit_single_distribution:337 - SKIPPED cauchy distribution (taking more than 60 seconds)\n",
      "2025-04-30 04:03:30.683 | WARNING  | fitter.fitter:_fit_single_distribution:337 - SKIPPED chi distribution (taking more than 60 seconds)\n",
      "2025-04-30 04:03:30.689 | WARNING  | fitter.fitter:_fit_single_distribution:337 - SKIPPED chi2 distribution (taking more than 60 seconds)\n",
      "2025-04-30 04:03:30.691 | WARNING  | fitter.fitter:_fit_single_distribution:337 - SKIPPED erlang distribution (taking more than 60 seconds)\n",
      "2025-04-30 04:03:30.691 | WARNING  | fitter.fitter:_fit_single_distribution:337 - SKIPPED dgamma distribution (taking more than 60 seconds)\n",
      "2025-04-30 04:03:30.693 | WARNING  | fitter.fitter:_fit_single_distribution:337 - SKIPPED dweibull distribution (taking more than 60 seconds)\n",
      "2025-04-30 04:03:30.694 | WARNING  | fitter.fitter:_fit_single_distribution:337 - SKIPPED exponnorm distribution (taking more than 60 seconds)\n",
      "2025-04-30 04:03:30.694 | WARNING  | fitter.fitter:_fit_single_distribution:337 - SKIPPED cosine distribution (taking more than 60 seconds)\n",
      "2025-04-30 04:03:30.694 | WARNING  | fitter.fitter:_fit_single_distribution:337 - SKIPPED fatiguelife distribution (taking more than 60 seconds)\n",
      "2025-04-30 04:03:30.696 | WARNING  | fitter.fitter:_fit_single_distribution:337 - SKIPPED expon distribution (taking more than 60 seconds)\n",
      "2025-04-30 04:03:30.697 | WARNING  | fitter.fitter:_fit_single_distribution:337 - SKIPPED fisk distribution (taking more than 60 seconds)\n",
      "2025-04-30 04:03:30.699 | WARNING  | fitter.fitter:_fit_single_distribution:337 - SKIPPED gamma distribution (taking more than 60 seconds)\n",
      "2025-04-30 04:03:30.699 | WARNING  | fitter.fitter:_fit_single_distribution:337 - SKIPPED foldcauchy distribution (taking more than 60 seconds)\n",
      "2025-04-30 04:03:30.700 | WARNING  | fitter.fitter:_fit_single_distribution:337 - SKIPPED gengamma distribution (taking more than 60 seconds)\n",
      "2025-04-30 04:03:30.704 | WARNING  | fitter.fitter:_fit_single_distribution:337 - SKIPPED gausshyper distribution (taking more than 60 seconds)\n",
      "2025-04-30 04:03:30.704 | WARNING  | fitter.fitter:_fit_single_distribution:337 - SKIPPED foldnorm distribution (taking more than 60 seconds)\n",
      "2025-04-30 04:03:30.707 | WARNING  | fitter.fitter:_fit_single_distribution:337 - SKIPPED genhyperbolic distribution (taking more than 60 seconds)\n",
      "2025-04-30 04:03:30.708 | WARNING  | fitter.fitter:_fit_single_distribution:337 - SKIPPED genlogistic distribution (taking more than 60 seconds)\n",
      "2025-04-30 04:03:30.709 | WARNING  | fitter.fitter:_fit_single_distribution:337 - SKIPPED genhalflogistic distribution (taking more than 60 seconds)\n",
      "2025-04-30 04:03:30.711 | WARNING  | fitter.fitter:_fit_single_distribution:337 - SKIPPED gennorm distribution (taking more than 60 seconds)\n",
      "2025-04-30 04:03:30.714 | WARNING  | fitter.fitter:_fit_single_distribution:337 - SKIPPED genpareto distribution (taking more than 60 seconds)\n"
     ]
    },
    {
     "name": "stderr",
     "output_type": "stream",
     "text": [
      "2025-04-30 04:03:30.716 | WARNING  | fitter.fitter:_fit_single_distribution:337 - SKIPPED geninvgauss distribution (taking more than 60 seconds)\n",
      "2025-04-30 04:03:30.717 | WARNING  | fitter.fitter:_fit_single_distribution:337 - SKIPPED gibrat distribution (taking more than 60 seconds)\n",
      "2025-04-30 04:03:30.722 | WARNING  | fitter.fitter:_fit_single_distribution:337 - SKIPPED invgamma distribution (taking more than 60 seconds)\n",
      "2025-04-30 04:03:30.735 | WARNING  | fitter.fitter:_fit_single_distribution:337 - SKIPPED invgauss distribution (taking more than 60 seconds)\n",
      "2025-04-30 04:03:30.736 | WARNING  | fitter.fitter:_fit_single_distribution:337 - SKIPPED exponpow distribution (taking more than 60 seconds)\n",
      "2025-04-30 04:03:30.745 | WARNING  | fitter.fitter:_fit_single_distribution:337 - SKIPPED exponweib distribution (taking more than 60 seconds)\n",
      "2025-04-30 04:03:30.747 | WARNING  | fitter.fitter:_fit_single_distribution:337 - SKIPPED jf_skew_t distribution (taking more than 60 seconds)\n",
      "2025-04-30 04:03:30.748 | WARNING  | fitter.fitter:_fit_single_distribution:337 - SKIPPED invweibull distribution (taking more than 60 seconds)\n",
      "2025-04-30 04:03:30.749 | WARNING  | fitter.fitter:_fit_single_distribution:337 - SKIPPED irwinhall distribution (taking more than 60 seconds)\n",
      "2025-04-30 04:03:30.751 | WARNING  | fitter.fitter:_fit_single_distribution:337 - SKIPPED gompertz distribution (taking more than 60 seconds)\n",
      "2025-04-30 04:03:30.752 | WARNING  | fitter.fitter:_fit_single_distribution:337 - SKIPPED f distribution (taking more than 60 seconds)\n",
      "2025-04-30 04:03:30.757 | WARNING  | fitter.fitter:_fit_single_distribution:337 - SKIPPED gumbel_l distribution (taking more than 60 seconds)\n",
      "2025-04-30 04:03:30.757 | WARNING  | fitter.fitter:_fit_single_distribution:337 - SKIPPED genexpon distribution (taking more than 60 seconds)\n",
      "2025-04-30 04:03:30.759 | WARNING  | fitter.fitter:_fit_single_distribution:337 - SKIPPED landau distribution (taking more than 60 seconds)\n",
      "2025-04-30 04:03:30.759 | WARNING  | fitter.fitter:_fit_single_distribution:337 - SKIPPED gumbel_r distribution (taking more than 60 seconds)\n",
      "2025-04-30 04:03:30.761 | WARNING  | fitter.fitter:_fit_single_distribution:337 - SKIPPED halfcauchy distribution (taking more than 60 seconds)\n",
      "2025-04-30 04:03:30.761 | INFO     | fitter.fitter:_fit_single_distribution:333 - Fitted laplace distribution with error=nan)\n",
      "2025-04-30 04:03:30.763 | WARNING  | fitter.fitter:_fit_single_distribution:337 - SKIPPED levy_l distribution (taking more than 60 seconds)\n",
      "2025-04-30 04:03:30.763 | WARNING  | fitter.fitter:_fit_single_distribution:337 - SKIPPED laplace_asymmetric distribution (taking more than 60 seconds)\n",
      "2025-04-30 04:03:30.768 | WARNING  | fitter.fitter:_fit_single_distribution:337 - SKIPPED levy distribution (taking more than 60 seconds)\n",
      "2025-04-30 04:03:30.770 | WARNING  | fitter.fitter:_fit_single_distribution:337 - SKIPPED levy_stable distribution (taking more than 60 seconds)\n",
      "2025-04-30 04:03:30.772 | WARNING  | fitter.fitter:_fit_single_distribution:337 - SKIPPED genextreme distribution (taking more than 60 seconds)\n",
      "2025-04-30 04:03:30.775 | WARNING  | fitter.fitter:_fit_single_distribution:337 - SKIPPED halfgennorm distribution (taking more than 60 seconds)\n",
      "2025-04-30 04:03:30.779 | WARNING  | fitter.fitter:_fit_single_distribution:337 - SKIPPED loggamma distribution (taking more than 60 seconds)\n",
      "2025-04-30 04:03:30.780 | WARNING  | fitter.fitter:_fit_single_distribution:337 - SKIPPED halflogistic distribution (taking more than 60 seconds)\n",
      "2025-04-30 04:03:30.780 | WARNING  | fitter.fitter:_fit_single_distribution:337 - SKIPPED loglaplace distribution (taking more than 60 seconds)\n",
      "2025-04-30 04:03:30.782 | WARNING  | fitter.fitter:_fit_single_distribution:337 - SKIPPED halfnorm distribution (taking more than 60 seconds)\n",
      "2025-04-30 04:03:30.783 | WARNING  | fitter.fitter:_fit_single_distribution:337 - SKIPPED kappa4 distribution (taking more than 60 seconds)\n",
      "2025-04-30 04:03:30.784 | WARNING  | fitter.fitter:_fit_single_distribution:337 - SKIPPED maxwell distribution (taking more than 60 seconds)\n",
      "2025-04-30 04:03:30.784 | WARNING  | fitter.fitter:_fit_single_distribution:337 - SKIPPED hypsecant distribution (taking more than 60 seconds)\n",
      "2025-04-30 04:03:30.784 | WARNING  | fitter.fitter:_fit_single_distribution:337 - SKIPPED logistic distribution (taking more than 60 seconds)\n",
      "2025-04-30 04:03:30.784 | WARNING  | fitter.fitter:_fit_single_distribution:337 - SKIPPED lognorm distribution (taking more than 60 seconds)\n",
      "2025-04-30 04:03:30.788 | WARNING  | fitter.fitter:_fit_single_distribution:337 - SKIPPED loguniform distribution (taking more than 60 seconds)\n",
      "2025-04-30 04:03:30.788 | WARNING  | fitter.fitter:_fit_single_distribution:337 - SKIPPED nakagami distribution (taking more than 60 seconds)\n",
      "2025-04-30 04:03:30.790 | WARNING  | fitter.fitter:_fit_single_distribution:337 - SKIPPED ksone distribution (taking more than 60 seconds)\n",
      "2025-04-30 04:03:30.790 | INFO     | fitter.fitter:_fit_single_distribution:333 - Fitted norm distribution with error=nan)\n",
      "2025-04-30 04:03:30.791 | WARNING  | fitter.fitter:_fit_single_distribution:337 - SKIPPED mielke distribution (taking more than 60 seconds)\n",
      "2025-04-30 04:03:30.792 | WARNING  | fitter.fitter:_fit_single_distribution:337 - SKIPPED lomax distribution (taking more than 60 seconds)\n",
      "2025-04-30 04:03:30.792 | WARNING  | fitter.fitter:_fit_single_distribution:337 - SKIPPED ncf distribution (taking more than 60 seconds)\n",
      "2025-04-30 04:03:30.794 | WARNING  | fitter.fitter:_fit_single_distribution:337 - SKIPPED moyal distribution (taking more than 60 seconds)\n",
      "2025-04-30 04:03:30.795 | WARNING  | fitter.fitter:_fit_single_distribution:337 - SKIPPED norminvgauss distribution (taking more than 60 seconds)\n",
      "2025-04-30 04:03:30.795 | WARNING  | fitter.fitter:_fit_single_distribution:337 - SKIPPED nct distribution (taking more than 60 seconds)\n",
      "2025-04-30 04:03:30.797 | WARNING  | fitter.fitter:_fit_single_distribution:337 - SKIPPED powerlaw distribution (taking more than 60 seconds)\n",
      "2025-04-30 04:03:30.797 | WARNING  | fitter.fitter:_fit_single_distribution:337 - SKIPPED kstwo distribution (taking more than 60 seconds)\n",
      "2025-04-30 04:03:30.797 | WARNING  | fitter.fitter:_fit_single_distribution:337 - SKIPPED multivariate_normal distribution (taking more than 60 seconds)\n",
      "2025-04-30 04:03:30.799 | WARNING  | fitter.fitter:_fit_single_distribution:337 - SKIPPED ncx2 distribution (taking more than 60 seconds)\n",
      "2025-04-30 04:03:30.800 | WARNING  | fitter.fitter:_fit_single_distribution:337 - SKIPPED pareto distribution (taking more than 60 seconds)\n",
      "2025-04-30 04:03:30.802 | WARNING  | fitter.fitter:_fit_single_distribution:337 - SKIPPED pearson3 distribution (taking more than 60 seconds)\n",
      "2025-04-30 04:03:30.803 | WARNING  | fitter.fitter:_fit_single_distribution:337 - SKIPPED rayleigh distribution (taking more than 60 seconds)\n",
      "2025-04-30 04:03:30.808 | WARNING  | fitter.fitter:_fit_single_distribution:337 - SKIPPED rdist distribution (taking more than 60 seconds)\n",
      "2025-04-30 04:03:30.816 | WARNING  | fitter.fitter:_fit_single_distribution:337 - SKIPPED reciprocal distribution (taking more than 60 seconds)\n",
      "2025-04-30 04:03:30.822 | WARNING  | fitter.fitter:_fit_single_distribution:337 - SKIPPED rel_breitwigner distribution (taking more than 60 seconds)\n",
      "2025-04-30 04:03:30.824 | WARNING  | fitter.fitter:_fit_single_distribution:337 - SKIPPED johnsonsb distribution (taking more than 60 seconds)\n",
      "2025-04-30 04:03:30.825 | WARNING  | fitter.fitter:_fit_single_distribution:337 - SKIPPED johnsonsu distribution (taking more than 60 seconds)\n",
      "2025-04-30 04:03:30.827 | WARNING  | fitter.fitter:_fit_single_distribution:337 - SKIPPED kappa3 distribution (taking more than 60 seconds)\n",
      "2025-04-30 04:03:30.829 | WARNING  | fitter.fitter:_fit_single_distribution:337 - SKIPPED rice distribution (taking more than 60 seconds)\n",
      "2025-04-30 04:03:30.829 | WARNING  | fitter.fitter:_fit_single_distribution:337 - SKIPPED rv_continuous distribution (taking more than 60 seconds)\n",
      "2025-04-30 04:03:30.834 | WARNING  | fitter.fitter:_fit_single_distribution:337 - SKIPPED rv_histogram distribution (taking more than 60 seconds)\n",
      "2025-04-30 04:03:30.836 | WARNING  | fitter.fitter:_fit_single_distribution:337 - SKIPPED skewcauchy distribution (taking more than 60 seconds)\n",
      "2025-04-30 04:03:30.837 | WARNING  | fitter.fitter:_fit_single_distribution:337 - SKIPPED semicircular distribution (taking more than 60 seconds)\n",
      "2025-04-30 04:03:30.842 | WARNING  | fitter.fitter:_fit_single_distribution:337 - SKIPPED powernorm distribution (taking more than 60 seconds)\n",
      "2025-04-30 04:03:30.855 | WARNING  | fitter.fitter:_fit_single_distribution:337 - SKIPPED kstwobign distribution (taking more than 60 seconds)\n",
      "2025-04-30 04:03:30.856 | WARNING  | fitter.fitter:_fit_single_distribution:337 - SKIPPED skewnorm distribution (taking more than 60 seconds)\n",
      "2025-04-30 04:03:30.857 | WARNING  | fitter.fitter:_fit_single_distribution:337 - SKIPPED t distribution (taking more than 60 seconds)\n",
      "2025-04-30 04:03:30.858 | WARNING  | fitter.fitter:_fit_single_distribution:337 - SKIPPED trapezoid distribution (taking more than 60 seconds)\n",
      "2025-04-30 04:03:30.858 | WARNING  | fitter.fitter:_fit_single_distribution:337 - SKIPPED trapz distribution (taking more than 60 seconds)\n",
      "2025-04-30 04:03:30.859 | WARNING  | fitter.fitter:_fit_single_distribution:337 - SKIPPED triang distribution (taking more than 60 seconds)\n",
      "2025-04-30 04:03:30.860 | WARNING  | fitter.fitter:_fit_single_distribution:337 - SKIPPED truncexpon distribution (taking more than 60 seconds)\n",
      "2025-04-30 04:03:30.861 | WARNING  | fitter.fitter:_fit_single_distribution:337 - SKIPPED truncnorm distribution (taking more than 60 seconds)\n",
      "2025-04-30 04:03:30.861 | WARNING  | fitter.fitter:_fit_single_distribution:337 - SKIPPED truncpareto distribution (taking more than 60 seconds)\n",
      "2025-04-30 04:03:30.863 | WARNING  | fitter.fitter:_fit_single_distribution:337 - SKIPPED uniform distribution (taking more than 60 seconds)\n",
      "2025-04-30 04:03:30.865 | WARNING  | fitter.fitter:_fit_single_distribution:337 - SKIPPED tukeylambda distribution (taking more than 60 seconds)\n",
      "2025-04-30 04:03:30.867 | WARNING  | fitter.fitter:_fit_single_distribution:337 - SKIPPED vonmises_fisher distribution (taking more than 60 seconds)\n",
      "2025-04-30 04:03:30.867 | INFO     | fitter.fitter:_fit_single_distribution:333 - Fitted vonmises distribution with error=nan)\n",
      "2025-04-30 04:03:30.878 | WARNING  | fitter.fitter:_fit_single_distribution:337 - SKIPPED wald distribution (taking more than 60 seconds)\n",
      "2025-04-30 04:03:30.879 | WARNING  | fitter.fitter:_fit_single_distribution:337 - SKIPPED truncweibull_min distribution (taking more than 60 seconds)\n",
      "2025-04-30 04:03:30.881 | WARNING  | fitter.fitter:_fit_single_distribution:337 - SKIPPED weibull_max distribution (taking more than 60 seconds)\n",
      "2025-04-30 04:03:30.883 | WARNING  | fitter.fitter:_fit_single_distribution:337 - SKIPPED wrapcauchy distribution (taking more than 60 seconds)\n",
      "2025-04-30 04:03:30.895 | WARNING  | fitter.fitter:_fit_single_distribution:337 - SKIPPED powerlognorm distribution (taking more than 60 seconds)\n",
      "2025-04-30 04:03:30.896 | WARNING  | fitter.fitter:_fit_single_distribution:337 - SKIPPED weibull_min distribution (taking more than 60 seconds)\n",
      "2025-04-30 04:03:31.080 | WARNING  | fitter.fitter:_fit_single_distribution:337 - SKIPPED vonmises_line distribution (taking more than 60 seconds)\n",
      "2025-04-30 04:03:31.617 | WARNING  | fitter.fitter:_fit_single_distribution:337 - SKIPPED recipinvgauss distribution (taking more than 60 seconds)\n",
      "/home/daniel/miniconda3/envs/simulacion/lib/python3.13/site-packages/scipy/integrate/_quadpack_py.py:1260: IntegrationWarning: The maximum number of subdivisions (50) has been achieved.\n",
      "  If increasing the limit yields no improvement it is advised to analyze \n",
      "  the integrand in order to determine the difficulties.  If the position of a \n",
      "  local difficulty can be determined (singularity, discontinuity) one will \n",
      "  probably gain from splitting up the interval and calling the integrator \n",
      "  on the subranges.  Perhaps a special-purpose integrator should be used.\n",
      "  quad_r = quad(f, low, high, args=args, full_output=self.full_output,\n",
      "/home/daniel/miniconda3/envs/simulacion/lib/python3.13/site-packages/scipy/integrate/_quadpack_py.py:1260: IntegrationWarning: The integral is probably divergent, or slowly convergent.\n",
      "  quad_r = quad(f, low, high, args=args, full_output=self.full_output,\n",
      "2025-04-30 04:03:36.363 | WARNING  | fitter.fitter:_fit_single_distribution:337 - SKIPPED studentized_range distribution (taking more than 60 seconds)\n"
     ]
    }
   ],
   "source": [
    "# Con el método fit() ajusta mis datos a las 80 distribuciones de SciPy\n",
    "fdp_constitucion_hora.fit()"
   ]
  },
  {
   "cell_type": "code",
   "execution_count": 78,
   "metadata": {
    "colab": {
     "base_uri": "https://localhost:8080/",
     "height": 776
    },
    "executionInfo": {
     "elapsed": 3154,
     "status": "ok",
     "timestamp": 1729799047470,
     "user": {
      "displayName": "Edgardo Rubén FLECHA",
      "userId": "15102767123563609240"
     },
     "user_tz": 180
    },
    "id": "X5RVOghgDqNl",
    "outputId": "48d8efb9-37af-4734-c794-b6e7b606000a"
   },
   "outputs": [
    {
     "name": "stderr",
     "output_type": "stream",
     "text": [
      "/home/daniel/miniconda3/envs/simulacion/lib/python3.13/site-packages/numpy/lib/histograms.py:885: RuntimeWarning: invalid value encountered in divide\n",
      "  return n/db/n.sum(), bin_edges\n",
      "\u001b[32m2025-04-30 04:03:36.425\u001b[0m | \u001b[33m\u001b[1mWARNING \u001b[0m | \u001b[36mfitter.fitter\u001b[0m:\u001b[36mplot_pdf\u001b[0m:\u001b[36m419\u001b[0m - \u001b[33m\u001b[1m_fit was not fitted. no parameters available\u001b[0m\n",
      "\u001b[32m2025-04-30 04:03:36.426\u001b[0m | \u001b[33m\u001b[1mWARNING \u001b[0m | \u001b[36mfitter.fitter\u001b[0m:\u001b[36mplot_pdf\u001b[0m:\u001b[36m419\u001b[0m - \u001b[33m\u001b[1mpearson3 was not fitted. no parameters available\u001b[0m\n",
      "\u001b[32m2025-04-30 04:03:36.427\u001b[0m | \u001b[33m\u001b[1mWARNING \u001b[0m | \u001b[36mfitter.fitter\u001b[0m:\u001b[36mplot_pdf\u001b[0m:\u001b[36m419\u001b[0m - \u001b[33m\u001b[1mpareto was not fitted. no parameters available\u001b[0m\n",
      "\u001b[32m2025-04-30 04:03:36.427\u001b[0m | \u001b[33m\u001b[1mWARNING \u001b[0m | \u001b[36mfitter.fitter\u001b[0m:\u001b[36mplot_pdf\u001b[0m:\u001b[36m419\u001b[0m - \u001b[33m\u001b[1mnorminvgauss was not fitted. no parameters available\u001b[0m\n",
      "\u001b[32m2025-04-30 04:03:36.428\u001b[0m | \u001b[33m\u001b[1mWARNING \u001b[0m | \u001b[36mfitter.fitter\u001b[0m:\u001b[36mplot_pdf\u001b[0m:\u001b[36m419\u001b[0m - \u001b[33m\u001b[1mncx2 was not fitted. no parameters available\u001b[0m\n",
      "\u001b[32m2025-04-30 04:03:36.428\u001b[0m | \u001b[33m\u001b[1mWARNING \u001b[0m | \u001b[36mfitter.fitter\u001b[0m:\u001b[36mplot_pdf\u001b[0m:\u001b[36m419\u001b[0m - \u001b[33m\u001b[1mnct was not fitted. no parameters available\u001b[0m\n",
      "\u001b[32m2025-04-30 04:03:36.429\u001b[0m | \u001b[33m\u001b[1mWARNING \u001b[0m | \u001b[36mfitter.fitter\u001b[0m:\u001b[36mplot_pdf\u001b[0m:\u001b[36m419\u001b[0m - \u001b[33m\u001b[1mncf was not fitted. no parameters available\u001b[0m\n",
      "\u001b[32m2025-04-30 04:03:36.429\u001b[0m | \u001b[33m\u001b[1mWARNING \u001b[0m | \u001b[36mfitter.fitter\u001b[0m:\u001b[36mplot_pdf\u001b[0m:\u001b[36m419\u001b[0m - \u001b[33m\u001b[1mnakagami was not fitted. no parameters available\u001b[0m\n",
      "\u001b[32m2025-04-30 04:03:36.429\u001b[0m | \u001b[33m\u001b[1mWARNING \u001b[0m | \u001b[36mfitter.fitter\u001b[0m:\u001b[36mplot_pdf\u001b[0m:\u001b[36m419\u001b[0m - \u001b[33m\u001b[1mmultivariate_normal was not fitted. no parameters available\u001b[0m\n",
      "\u001b[32m2025-04-30 04:03:36.430\u001b[0m | \u001b[33m\u001b[1mWARNING \u001b[0m | \u001b[36mfitter.fitter\u001b[0m:\u001b[36mplot_pdf\u001b[0m:\u001b[36m419\u001b[0m - \u001b[33m\u001b[1mmoyal was not fitted. no parameters available\u001b[0m\n",
      "/home/daniel/miniconda3/envs/simulacion/lib/python3.13/site-packages/fitter/fitter.py:421: UserWarning: No artists with labels found to put in legend.  Note that artists whose label start with an underscore are ignored when legend() is called with no argument.\n",
      "  pylab.legend()\n"
     ]
    },
    {
     "data": {
      "text/html": [
       "<div>\n",
       "<style scoped>\n",
       "    .dataframe tbody tr th:only-of-type {\n",
       "        vertical-align: middle;\n",
       "    }\n",
       "\n",
       "    .dataframe tbody tr th {\n",
       "        vertical-align: top;\n",
       "    }\n",
       "\n",
       "    .dataframe thead th {\n",
       "        text-align: right;\n",
       "    }\n",
       "</style>\n",
       "<table border=\"1\" class=\"dataframe\">\n",
       "  <thead>\n",
       "    <tr style=\"text-align: right;\">\n",
       "      <th></th>\n",
       "      <th>sumsquare_error</th>\n",
       "      <th>aic</th>\n",
       "      <th>bic</th>\n",
       "      <th>kl_div</th>\n",
       "      <th>ks_statistic</th>\n",
       "      <th>ks_pvalue</th>\n",
       "    </tr>\n",
       "  </thead>\n",
       "  <tbody>\n",
       "    <tr>\n",
       "      <th>_fit</th>\n",
       "      <td>inf</td>\n",
       "      <td>inf</td>\n",
       "      <td>inf</td>\n",
       "      <td>inf</td>\n",
       "      <td>NaN</td>\n",
       "      <td>NaN</td>\n",
       "    </tr>\n",
       "    <tr>\n",
       "      <th>pearson3</th>\n",
       "      <td>inf</td>\n",
       "      <td>inf</td>\n",
       "      <td>inf</td>\n",
       "      <td>inf</td>\n",
       "      <td>NaN</td>\n",
       "      <td>NaN</td>\n",
       "    </tr>\n",
       "    <tr>\n",
       "      <th>pareto</th>\n",
       "      <td>inf</td>\n",
       "      <td>inf</td>\n",
       "      <td>inf</td>\n",
       "      <td>inf</td>\n",
       "      <td>NaN</td>\n",
       "      <td>NaN</td>\n",
       "    </tr>\n",
       "    <tr>\n",
       "      <th>norminvgauss</th>\n",
       "      <td>inf</td>\n",
       "      <td>inf</td>\n",
       "      <td>inf</td>\n",
       "      <td>inf</td>\n",
       "      <td>NaN</td>\n",
       "      <td>NaN</td>\n",
       "    </tr>\n",
       "    <tr>\n",
       "      <th>ncx2</th>\n",
       "      <td>inf</td>\n",
       "      <td>inf</td>\n",
       "      <td>inf</td>\n",
       "      <td>inf</td>\n",
       "      <td>NaN</td>\n",
       "      <td>NaN</td>\n",
       "    </tr>\n",
       "    <tr>\n",
       "      <th>nct</th>\n",
       "      <td>inf</td>\n",
       "      <td>inf</td>\n",
       "      <td>inf</td>\n",
       "      <td>inf</td>\n",
       "      <td>NaN</td>\n",
       "      <td>NaN</td>\n",
       "    </tr>\n",
       "    <tr>\n",
       "      <th>ncf</th>\n",
       "      <td>inf</td>\n",
       "      <td>inf</td>\n",
       "      <td>inf</td>\n",
       "      <td>inf</td>\n",
       "      <td>NaN</td>\n",
       "      <td>NaN</td>\n",
       "    </tr>\n",
       "    <tr>\n",
       "      <th>nakagami</th>\n",
       "      <td>inf</td>\n",
       "      <td>inf</td>\n",
       "      <td>inf</td>\n",
       "      <td>inf</td>\n",
       "      <td>NaN</td>\n",
       "      <td>NaN</td>\n",
       "    </tr>\n",
       "    <tr>\n",
       "      <th>multivariate_normal</th>\n",
       "      <td>inf</td>\n",
       "      <td>inf</td>\n",
       "      <td>inf</td>\n",
       "      <td>inf</td>\n",
       "      <td>NaN</td>\n",
       "      <td>NaN</td>\n",
       "    </tr>\n",
       "    <tr>\n",
       "      <th>moyal</th>\n",
       "      <td>inf</td>\n",
       "      <td>inf</td>\n",
       "      <td>inf</td>\n",
       "      <td>inf</td>\n",
       "      <td>NaN</td>\n",
       "      <td>NaN</td>\n",
       "    </tr>\n",
       "  </tbody>\n",
       "</table>\n",
       "</div>"
      ],
      "text/plain": [
       "                     sumsquare_error  aic  bic  kl_div  ks_statistic  \\\n",
       "_fit                             inf  inf  inf     inf           NaN   \n",
       "pearson3                         inf  inf  inf     inf           NaN   \n",
       "pareto                           inf  inf  inf     inf           NaN   \n",
       "norminvgauss                     inf  inf  inf     inf           NaN   \n",
       "ncx2                             inf  inf  inf     inf           NaN   \n",
       "nct                              inf  inf  inf     inf           NaN   \n",
       "ncf                              inf  inf  inf     inf           NaN   \n",
       "nakagami                         inf  inf  inf     inf           NaN   \n",
       "multivariate_normal              inf  inf  inf     inf           NaN   \n",
       "moyal                            inf  inf  inf     inf           NaN   \n",
       "\n",
       "                     ks_pvalue  \n",
       "_fit                       NaN  \n",
       "pearson3                   NaN  \n",
       "pareto                     NaN  \n",
       "norminvgauss               NaN  \n",
       "ncx2                       NaN  \n",
       "nct                        NaN  \n",
       "ncf                        NaN  \n",
       "nakagami                   NaN  \n",
       "multivariate_normal        NaN  \n",
       "moyal                      NaN  "
      ]
     },
     "execution_count": 78,
     "metadata": {},
     "output_type": "execute_result"
    },
    {
     "data": {
      "image/png": "[encoded data removed]",
      "text/plain": [
       "<Figure size 640x480 with 1 Axes>"
      ]
     },
     "metadata": {},
     "output_type": "display_data"
    }
   ],
   "source": [
    "# Summary me muestra el resumen de los mejores ajustes\n",
    "fdp_constitucion_hora.summary(10)"
   ]
  },
  {
   "cell_type": "markdown",
   "metadata": {
    "id": "R2qalcH4BFRu"
   },
   "source": []
  },
  {
   "cell_type": "markdown",
   "metadata": {
    "id": "WpvSV5JNESIT"
   },
   "source": [
    "# 6. Simulacion"
   ]
  },
  {
   "cell_type": "code",
   "execution_count": 79,
   "metadata": {
    "colab": {
     "base_uri": "https://localhost:8080/"
    },
    "executionInfo": {
     "elapsed": 416,
     "status": "ok",
     "timestamp": 1729799273571,
     "user": {
      "displayName": "Edgardo Rubén FLECHA",
      "userId": "15102767123563609240"
     },
     "user_tz": 180
    },
    "id": "oudlShQ8EWqL",
    "outputId": "13029790-0bc6-4349-fc42-eceafcb95461"
   },
   "outputs": [
    {
     "ename": "KeyError",
     "evalue": "'_fit'",
     "output_type": "error",
     "traceback": [
      "\u001b[31m---------------------------------------------------------------------------\u001b[39m",
      "\u001b[31mKeyError\u001b[39m                                  Traceback (most recent call last)",
      "\u001b[36mCell\u001b[39m\u001b[36m \u001b[39m\u001b[32mIn[79]\u001b[39m\u001b[32m, line 2\u001b[39m\n\u001b[32m      1\u001b[39m \u001b[38;5;66;03m# get_best me devuelve la mejor distribución de acuerdo al criterio que le indico y sus parámetros\u001b[39;00m\n\u001b[32m----> \u001b[39m\u001b[32m2\u001b[39m \u001b[43mfdp_constitucion_hora\u001b[49m\u001b[43m.\u001b[49m\u001b[43mget_best\u001b[49m\u001b[43m(\u001b[49m\u001b[43mmethod\u001b[49m\u001b[43m=\u001b[49m\u001b[33;43m'\u001b[39;49m\u001b[33;43msumsquare_error\u001b[39;49m\u001b[33;43m'\u001b[39;49m\u001b[43m)\u001b[49m\n",
      "\u001b[36mFile \u001b[39m\u001b[32m~/miniconda3/envs/simulacion/lib/python3.13/site-packages/fitter/fitter.py:431\u001b[39m, in \u001b[36mFitter.get_best\u001b[39m\u001b[34m(self, method)\u001b[39m\n\u001b[32m    429\u001b[39m \u001b[38;5;66;03m# self.df should be sorted, so then us take the first one as the best\u001b[39;00m\n\u001b[32m    430\u001b[39m name = \u001b[38;5;28mself\u001b[39m.df_errors.sort_values(method).iloc[\u001b[32m0\u001b[39m].name\n\u001b[32m--> \u001b[39m\u001b[32m431\u001b[39m params = \u001b[38;5;28;43mself\u001b[39;49m\u001b[43m.\u001b[49m\u001b[43mfitted_param\u001b[49m\u001b[43m[\u001b[49m\u001b[43mname\u001b[49m\u001b[43m]\u001b[49m\n\u001b[32m    432\u001b[39m distribution = \u001b[38;5;28mgetattr\u001b[39m(scipy.stats, name)\n\u001b[32m    433\u001b[39m param_names = (distribution.shapes + \u001b[33m\"\u001b[39m\u001b[33m, loc, scale\u001b[39m\u001b[33m\"\u001b[39m).split(\u001b[33m\"\u001b[39m\u001b[33m, \u001b[39m\u001b[33m\"\u001b[39m) \u001b[38;5;28;01mif\u001b[39;00m distribution.shapes \u001b[38;5;28;01melse\u001b[39;00m [\u001b[33m\"\u001b[39m\u001b[33mloc\u001b[39m\u001b[33m\"\u001b[39m, \u001b[33m\"\u001b[39m\u001b[33mscale\u001b[39m\u001b[33m\"\u001b[39m]\n",
      "\u001b[31mKeyError\u001b[39m: '_fit'"
     ]
    }
   ],
   "source": [
    "# get_best me devuelve la mejor distribución de acuerdo al criterio que le indico y sus parámetros\n",
    "fdp_constitucion_hora.get_best(method='sumsquare_error')"
   ]
  },
  {
   "cell_type": "markdown",
   "metadata": {
    "id": "-VjpLixIJHRt"
   },
   "source": []
  },
  {
   "cell_type": "code",
   "execution_count": null,
   "metadata": {
    "colab": {
     "base_uri": "https://localhost:8080/"
    },
    "executionInfo": {
     "elapsed": 354,
     "status": "ok",
     "timestamp": 1729800476631,
     "user": {
      "displayName": "Edgardo Rubén FLECHA",
      "userId": "15102767123563609240"
     },
     "user_tz": 180
    },
    "id": "erYaoWSqJD5I",
    "outputId": "21a34aef-4184-425e-b27f-51c0ed0ebd30"
   },
   "outputs": [
    {
     "data": {
      "text/plain": [
       "{'laplace_asymmetric': {'kappa': 0.7251135824984483,\n",
       "  'loc': 11.516666854568195,\n",
       "  'scale': 7.233781792406836}}"
      ]
     },
     "execution_count": 111,
     "metadata": {},
     "output_type": "execute_result"
    }
   ],
   "source": [
    "fdp_constitucion_hora.get_best(method='ks_statistic')"
   ]
  },
  {
   "cell_type": "code",
   "execution_count": null,
   "metadata": {
    "id": "KW1s6Kk9Eu8m"
   },
   "outputs": [],
   "source": [
    "# Para simular, guardo los valores de los parámetros en 4 variables\n",
    "dfn = 10.210149046195188\n",
    "dfd = 24.449261873976212\n",
    "loc = -0.210629715477468\n",
    "scale =  15.900756775955681"
   ]
  },
  {
   "cell_type": "code",
   "execution_count": null,
   "metadata": {
    "id": "ORrhepOfFP2v"
   },
   "outputs": [],
   "source": [
    "# Gracias al método rvs del módulo stats de Scipy, puedo generar datos\n",
    "# con los parámetros que me dio Fitter\n",
    "fdp_f = stats.f.rvs(dfn, dfd, loc=loc, scale=scale, size=35000)"
   ]
  },
  {
   "cell_type": "code",
   "execution_count": null,
   "metadata": {
    "colab": {
     "base_uri": "https://localhost:8080/"
    },
    "executionInfo": {
     "elapsed": 362,
     "status": "ok",
     "timestamp": 1729799570370,
     "user": {
      "displayName": "Edgardo Rubén FLECHA",
      "userId": "15102767123563609240"
     },
     "user_tz": 180
    },
    "id": "N_oLygX_FlJF",
    "outputId": "b3269a29-7dfb-4eb7-d133-604f53fca5c6"
   },
   "outputs": [
    {
     "data": {
      "text/plain": [
       "array([26.21574143, 12.58754573,  9.59205569, ...,  5.64858393,\n",
       "       10.90266947, 18.84432123])"
      ]
     },
     "execution_count": 114,
     "metadata": {},
     "output_type": "execute_result"
    }
   ],
   "source": [
    "# Esta variable es un array de Numpy con valores similares a mis datos de origen\n",
    "fdp_f"
   ]
  },
  {
   "cell_type": "code",
   "execution_count": null,
   "metadata": {
    "colab": {
     "base_uri": "https://localhost:8080/",
     "height": 472
    },
    "executionInfo": {
     "elapsed": 1352,
     "status": "ok",
     "timestamp": 1729799742739,
     "user": {
      "displayName": "Edgardo Rubén FLECHA",
      "userId": "15102767123563609240"
     },
     "user_tz": 180
    },
    "id": "RflN2CuRF68i",
    "outputId": "f27163f5-d1f7-4b6c-e247-4b9fb07baa2b"
   },
   "outputs": [
    {
     "data": {
      "image/png": "[encoded data removed]",
      "text/plain": [
       "<Figure size 640x480 with 1 Axes>"
      ]
     },
     "metadata": {},
     "output_type": "display_data"
    }
   ],
   "source": [
    "# Histograma de datos de verificación\n",
    "plt.title(\"Histograma\")\n",
    "plt.xlabel(\"X axis\")\n",
    "plt.ylabel(\"Y axis\")\n",
    "plt.xlim(0, 60)\n",
    "plt.ylim(0, 1300)\n",
    "plt.hist(fdp_f, bins=150)\n",
    "plt.show()"
   ]
  },
  {
   "cell_type": "code",
   "execution_count": null,
   "metadata": {
    "id": "HfCkMErrKiOl"
   },
   "outputs": [],
   "source": []
  },
  {
   "cell_type": "code",
   "execution_count": null,
   "metadata": {},
   "outputs": [],
   "source": []
  },
  {
   "cell_type": "code",
   "execution_count": null,
   "metadata": {},
   "outputs": [],
   "source": []
  },
  {
   "cell_type": "code",
   "execution_count": null,
   "metadata": {},
   "outputs": [],
   "source": []
  }
 ],
 "metadata": {
  "colab": {
   "authorship_tag": "ABX9TyOId+MZ1t15zIsR/Lto862z",
   "mount_file_id": "15Pz3ACKIvs5NycDHgER7ScR7WYZibr0s",
   "provenance": [
    {
     "file_id": "15Pz3ACKIvs5NycDHgER7ScR7WYZibr0s",
     "timestamp": 1744167337553
    }
   ]
  },
  "kernelspec": {
   "display_name": "simulacion",
   "language": "python",
   "name": "python3"
  },
  "language_info": {
   "codemirror_mode": {
    "name": "ipython",
    "version": 3
   },
   "file_extension": ".py",
   "mimetype": "text/x-python",
   "name": "python",
   "nbconvert_exporter": "python",
   "pygments_lexer": "ipython3",
   "version": "3.13.2"
  }
 },
 "nbformat": 4,
 "nbformat_minor": 4
}
