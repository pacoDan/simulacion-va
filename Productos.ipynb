{
 "cells": [
  {
   "cell_type": "markdown",
   "metadata": {
    "id": "T0NlF9nHmdZX"
   },
   "source": [
    "# 1. Carga de bibliotetas\n",
    "\n",
    "Seccion para instalar e importar bibliotecas necesarias"
   ]
  },
  {
   "cell_type": "code",
   "execution_count": 80,
   "metadata": {
    "colab": {
     "base_uri": "https://localhost:8080/"
    },
    "executionInfo": {
     "elapsed": 16165,
     "status": "ok",
     "timestamp": 1729791660665,
     "user": {
      "displayName": "Edgardo Rubén FLECHA",
      "userId": "15102767123563609240"
     },
     "user_tz": 180
    },
    "id": "1AEhaS_8mr1l",
    "outputId": "15365a18-9877-4d0f-d23d-20d05e68b13e"
   },
   "outputs": [
    {
     "name": "stdout",
     "output_type": "stream",
     "text": [
      "Requirement already satisfied: fitter in /home/daniel/miniconda3/envs/simulacion/lib/python3.13/site-packages (1.7.1)\n",
      "Requirement already satisfied: click<9.0.0,>=8.1.6 in /home/daniel/miniconda3/envs/simulacion/lib/python3.13/site-packages (from fitter) (8.1.8)\n",
      "Requirement already satisfied: joblib<2.0.0,>=1.3.1 in /home/daniel/miniconda3/envs/simulacion/lib/python3.13/site-packages (from fitter) (1.4.2)\n",
      "Requirement already satisfied: loguru<0.8.0,>=0.7.2 in /home/daniel/miniconda3/envs/simulacion/lib/python3.13/site-packages (from fitter) (0.7.3)\n",
      "Requirement already satisfied: matplotlib<4.0.0,>=3.7.2 in /home/daniel/miniconda3/envs/simulacion/lib/python3.13/site-packages (from fitter) (3.10.1)\n",
      "Requirement already satisfied: numpy<2.0.0,>=1.20.0 in /home/daniel/miniconda3/envs/simulacion/lib/python3.13/site-packages (from fitter) (1.26.4)\n",
      "Requirement already satisfied: pandas<3.0.0,>=0.23.4 in /home/daniel/miniconda3/envs/simulacion/lib/python3.13/site-packages (from fitter) (2.2.3)\n",
      "Requirement already satisfied: rich-click<2.0.0,>=1.7.2 in /home/daniel/miniconda3/envs/simulacion/lib/python3.13/site-packages (from fitter) (1.8.8)\n",
      "Requirement already satisfied: scipy<2.0.0,>=0.18.0 in /home/daniel/miniconda3/envs/simulacion/lib/python3.13/site-packages (from fitter) (1.15.2)\n",
      "Requirement already satisfied: tqdm<5.0.0,>=4.65.1 in /home/daniel/miniconda3/envs/simulacion/lib/python3.13/site-packages (from fitter) (4.67.1)\n",
      "Requirement already satisfied: contourpy>=1.0.1 in /home/daniel/miniconda3/envs/simulacion/lib/python3.13/site-packages (from matplotlib<4.0.0,>=3.7.2->fitter) (1.3.2)\n",
      "Requirement already satisfied: cycler>=0.10 in /home/daniel/miniconda3/envs/simulacion/lib/python3.13/site-packages (from matplotlib<4.0.0,>=3.7.2->fitter) (0.12.1)\n",
      "Requirement already satisfied: fonttools>=4.22.0 in /home/daniel/miniconda3/envs/simulacion/lib/python3.13/site-packages (from matplotlib<4.0.0,>=3.7.2->fitter) (4.57.0)\n",
      "Requirement already satisfied: kiwisolver>=1.3.1 in /home/daniel/miniconda3/envs/simulacion/lib/python3.13/site-packages (from matplotlib<4.0.0,>=3.7.2->fitter) (1.4.8)\n",
      "Requirement already satisfied: packaging>=20.0 in /home/daniel/miniconda3/envs/simulacion/lib/python3.13/site-packages (from matplotlib<4.0.0,>=3.7.2->fitter) (25.0)\n",
      "Requirement already satisfied: pillow>=8 in /home/daniel/miniconda3/envs/simulacion/lib/python3.13/site-packages (from matplotlib<4.0.0,>=3.7.2->fitter) (11.2.1)\n",
      "Requirement already satisfied: pyparsing>=2.3.1 in /home/daniel/miniconda3/envs/simulacion/lib/python3.13/site-packages (from matplotlib<4.0.0,>=3.7.2->fitter) (3.2.3)\n",
      "Requirement already satisfied: python-dateutil>=2.7 in /home/daniel/miniconda3/envs/simulacion/lib/python3.13/site-packages (from matplotlib<4.0.0,>=3.7.2->fitter) (2.9.0.post0)\n",
      "Requirement already satisfied: pytz>=2020.1 in /home/daniel/miniconda3/envs/simulacion/lib/python3.13/site-packages (from pandas<3.0.0,>=0.23.4->fitter) (2025.2)\n",
      "Requirement already satisfied: tzdata>=2022.7 in /home/daniel/miniconda3/envs/simulacion/lib/python3.13/site-packages (from pandas<3.0.0,>=0.23.4->fitter) (2025.2)\n",
      "Requirement already satisfied: rich>=10.7 in /home/daniel/miniconda3/envs/simulacion/lib/python3.13/site-packages (from rich-click<2.0.0,>=1.7.2->fitter) (14.0.0)\n",
      "Requirement already satisfied: typing_extensions>=4 in /home/daniel/miniconda3/envs/simulacion/lib/python3.13/site-packages (from rich-click<2.0.0,>=1.7.2->fitter) (4.13.2)\n",
      "Requirement already satisfied: six>=1.5 in /home/daniel/miniconda3/envs/simulacion/lib/python3.13/site-packages (from python-dateutil>=2.7->matplotlib<4.0.0,>=3.7.2->fitter) (1.17.0)\n",
      "Requirement already satisfied: markdown-it-py>=2.2.0 in /home/daniel/miniconda3/envs/simulacion/lib/python3.13/site-packages (from rich>=10.7->rich-click<2.0.0,>=1.7.2->fitter) (3.0.0)\n",
      "Requirement already satisfied: pygments<3.0.0,>=2.13.0 in /home/daniel/miniconda3/envs/simulacion/lib/python3.13/site-packages (from rich>=10.7->rich-click<2.0.0,>=1.7.2->fitter) (2.19.1)\n",
      "Requirement already satisfied: mdurl~=0.1 in /home/daniel/miniconda3/envs/simulacion/lib/python3.13/site-packages (from markdown-it-py>=2.2.0->rich>=10.7->rich-click<2.0.0,>=1.7.2->fitter) (0.1.2)\n"
     ]
    }
   ],
   "source": [
    "# Acá instalamos la biblioteca fitter para el ajuste de funciones\n",
    "!pip install fitter"
   ]
  },
  {
   "cell_type": "code",
   "execution_count": 81,
   "metadata": {
    "id": "SzsbMMQPnqI0"
   },
   "outputs": [],
   "source": [
    "# Acá importarmos todas las bibliotecas necesarias: Pandas, Numpy, Scipy y Fitter\n",
    "from fitter import Fitter\n",
    "import pandas as pd\n",
    "import numpy as np\n",
    "import matplotlib.pyplot as plt\n",
    "from scipy import stats"
   ]
  },
  {
   "cell_type": "code",
   "execution_count": 82,
   "metadata": {
    "colab": {
     "base_uri": "https://localhost:8080/"
    },
    "executionInfo": {
     "elapsed": 2477,
     "status": "ok",
     "timestamp": 1729802620214,
     "user": {
      "displayName": "Edgardo Rubén FLECHA",
      "userId": "15102767123563609240"
     },
     "user_tz": 180
    },
    "id": "nmtJhWE7pLpg",
    "outputId": "4d27d0d7-4cec-4579-f0b9-8261b50c94ee"
   },
   "outputs": [],
   "source": [
    "# Esto se hace para montar el gogle drive y poder acceder datos alojados allí.\n",
    "# from google.colab import drive\n",
    "# drive.mount('/content/drive')"
   ]
  },
  {
   "cell_type": "markdown",
   "metadata": {
    "id": "c2vAl1XAp-rz"
   },
   "source": [
    "# 2. Carga de datos\n",
    "\n",
    "Utilizaremos los datos de recorrido de bicicletas públicas de la ciudad de Buenos Aires\n",
    "https://data.buenosaires.gob.ar/dataset/bicicletas-publicas\n",
    "\n",
    "Bajaremos el archivo \"Recorridos Realizados 2023 (ZIP)\", descomprimiremos el archivo csv presente (\"trips_2023.csv\")y lo alojamos dentro de la carpeta \"Colab Notebooks\" de nuestro Google Drive\n",
    "\n",
    "\n"
   ]
  },
  {
   "cell_type": "code",
   "execution_count": 83,
   "metadata": {
    "id": "Gq6t9H0zqK_b"
   },
   "outputs": [],
   "source": [
    "# En esta parte del código se debe modificar la ubicación correcta del google drive\n",
    "# bicis = pd.read_csv('/content/drive/MyDrive/Colab Notebooks/EPIO/Datos/trips_2023.csv')\n",
    "productos = pd.read_csv('./Fecom_Inc_Products.csv', sep=';')"
   ]
  },
  {
   "cell_type": "markdown",
   "metadata": {
    "id": "ZsFIfRt9u2E4"
   },
   "source": [
    "# 3. Análisis Exploratorio de Datos"
   ]
  },
  {
   "cell_type": "code",
   "execution_count": 84,
   "metadata": {
    "colab": {
     "base_uri": "https://localhost:8080/",
     "height": 604
    },
    "executionInfo": {
     "elapsed": 905,
     "status": "ok",
     "timestamp": 1729793773939,
     "user": {
      "displayName": "Edgardo Rubén FLECHA",
      "userId": "15102767123563609240"
     },
     "user_tz": 180
    },
    "id": "yeZH-wqUvgXW",
    "outputId": "5078cec5-c10a-4fae-8c9b-805b388631d3"
   },
   "outputs": [
    {
     "data": {
      "text/plain": [
       "pandas.core.frame.DataFrame"
      ]
     },
     "execution_count": 84,
     "metadata": {},
     "output_type": "execute_result"
    }
   ],
   "source": [
    "# Corroboramos que el tipo de dato de la variable \"bicis\" es un dataframe\n",
    "type(productos)"
   ]
  },
  {
   "cell_type": "code",
   "execution_count": 85,
   "metadata": {
    "colab": {
     "base_uri": "https://localhost:8080/",
     "height": 261
    },
    "executionInfo": {
     "elapsed": 383,
     "status": "ok",
     "timestamp": 1729803360817,
     "user": {
      "displayName": "Edgardo Rubén FLECHA",
      "userId": "15102767123563609240"
     },
     "user_tz": 180
    },
    "id": "X7Ltzoy-vxau",
    "outputId": "89710715-fefc-4fa8-c27a-e11c53b7a5aa"
   },
   "outputs": [
    {
     "data": {
      "text/html": [
       "<div>\n",
       "<style scoped>\n",
       "    .dataframe tbody tr th:only-of-type {\n",
       "        vertical-align: middle;\n",
       "    }\n",
       "\n",
       "    .dataframe tbody tr th {\n",
       "        vertical-align: top;\n",
       "    }\n",
       "\n",
       "    .dataframe thead th {\n",
       "        text-align: right;\n",
       "    }\n",
       "</style>\n",
       "<table border=\"1\" class=\"dataframe\">\n",
       "  <thead>\n",
       "    <tr style=\"text-align: right;\">\n",
       "      <th></th>\n",
       "      <th>Product_ID</th>\n",
       "      <th>Product_Category_Name</th>\n",
       "      <th>Product_Weight_Gr</th>\n",
       "      <th>Product_Length_Cm</th>\n",
       "      <th>Product_Height_Cm</th>\n",
       "      <th>Product_Width_Cm</th>\n",
       "    </tr>\n",
       "  </thead>\n",
       "  <tbody>\n",
       "    <tr>\n",
       "      <th>0</th>\n",
       "      <td>1e9e8ef04dbcff4541ed26657ea517e5</td>\n",
       "      <td>Perfumery</td>\n",
       "      <td>225.0</td>\n",
       "      <td>16.0</td>\n",
       "      <td>10.0</td>\n",
       "      <td>14.0</td>\n",
       "    </tr>\n",
       "    <tr>\n",
       "      <th>1</th>\n",
       "      <td>3aa071139cb16b67ca9e5dea641aaa2f</td>\n",
       "      <td>Art</td>\n",
       "      <td>1000.0</td>\n",
       "      <td>30.0</td>\n",
       "      <td>18.0</td>\n",
       "      <td>20.0</td>\n",
       "    </tr>\n",
       "    <tr>\n",
       "      <th>2</th>\n",
       "      <td>96bd76ec8810374ed1b65e291975717f</td>\n",
       "      <td>Sports_Leisure</td>\n",
       "      <td>154.0</td>\n",
       "      <td>18.0</td>\n",
       "      <td>9.0</td>\n",
       "      <td>15.0</td>\n",
       "    </tr>\n",
       "    <tr>\n",
       "      <th>3</th>\n",
       "      <td>cef67bcfe19066a932b7673e239eb23d</td>\n",
       "      <td>Baby</td>\n",
       "      <td>371.0</td>\n",
       "      <td>26.0</td>\n",
       "      <td>4.0</td>\n",
       "      <td>26.0</td>\n",
       "    </tr>\n",
       "    <tr>\n",
       "      <th>4</th>\n",
       "      <td>9dc1a7de274444849c219cff195d0b71</td>\n",
       "      <td>Housewares</td>\n",
       "      <td>625.0</td>\n",
       "      <td>20.0</td>\n",
       "      <td>17.0</td>\n",
       "      <td>13.0</td>\n",
       "    </tr>\n",
       "  </tbody>\n",
       "</table>\n",
       "</div>"
      ],
      "text/plain": [
       "                         Product_ID Product_Category_Name  Product_Weight_Gr  \\\n",
       "0  1e9e8ef04dbcff4541ed26657ea517e5             Perfumery              225.0   \n",
       "1  3aa071139cb16b67ca9e5dea641aaa2f                   Art             1000.0   \n",
       "2  96bd76ec8810374ed1b65e291975717f        Sports_Leisure              154.0   \n",
       "3  cef67bcfe19066a932b7673e239eb23d                  Baby              371.0   \n",
       "4  9dc1a7de274444849c219cff195d0b71            Housewares              625.0   \n",
       "\n",
       "   Product_Length_Cm  Product_Height_Cm  Product_Width_Cm  \n",
       "0               16.0               10.0              14.0  \n",
       "1               30.0               18.0              20.0  \n",
       "2               18.0                9.0              15.0  \n",
       "3               26.0                4.0              26.0  \n",
       "4               20.0               17.0              13.0  "
      ]
     },
     "execution_count": 85,
     "metadata": {},
     "output_type": "execute_result"
    }
   ],
   "source": [
    "# Primeras lineas de nuestro dataframe\n",
    "productos.head()"
   ]
  },
  {
   "cell_type": "code",
   "execution_count": null,
   "metadata": {
    "id": "29ZcswQTjJ3n"
   },
   "outputs": [],
   "source": []
  },
  {
   "cell_type": "code",
   "execution_count": 86,
   "metadata": {
    "colab": {
     "base_uri": "https://localhost:8080/"
    },
    "executionInfo": {
     "elapsed": 412,
     "status": "ok",
     "timestamp": 1729793920492,
     "user": {
      "displayName": "Edgardo Rubén FLECHA",
      "userId": "15102767123563609240"
     },
     "user_tz": 180
    },
    "id": "M3Wx6xmkwDrJ",
    "outputId": "44a9a770-2c3c-4bba-c953-1f92a7551b42"
   },
   "outputs": [
    {
     "data": {
      "text/plain": [
       "Index(['Product_ID', 'Product_Category_Name', 'Product_Weight_Gr',\n",
       "       'Product_Length_Cm', 'Product_Height_Cm', 'Product_Width_Cm'],\n",
       "      dtype='object')"
      ]
     },
     "execution_count": 86,
     "metadata": {},
     "output_type": "execute_result"
    }
   ],
   "source": [
    "# Si solo quiero los nombres de las columnas en formato lista\n",
    "productos.columns"
   ]
  },
  {
   "cell_type": "code",
   "execution_count": 87,
   "metadata": {
    "colab": {
     "base_uri": "https://localhost:8080/"
    },
    "executionInfo": {
     "elapsed": 362,
     "status": "ok",
     "timestamp": 1729793951323,
     "user": {
      "displayName": "Edgardo Rubén FLECHA",
      "userId": "15102767123563609240"
     },
     "user_tz": 180
    },
    "id": "mHXQW1FFwL_Z",
    "outputId": "482ca490-d489-491c-a47d-e63fcefbecfc"
   },
   "outputs": [
    {
     "data": {
      "text/plain": [
       "(32951, 6)"
      ]
     },
     "execution_count": 87,
     "metadata": {},
     "output_type": "execute_result"
    }
   ],
   "source": [
    "# Dimensionalidad del dataframe\n",
    "productos.shape"
   ]
  },
  {
   "cell_type": "code",
   "execution_count": 88,
   "metadata": {
    "colab": {
     "base_uri": "https://localhost:8080/",
     "height": 649
    },
    "executionInfo": {
     "elapsed": 422,
     "status": "ok",
     "timestamp": 1729794031786,
     "user": {
      "displayName": "Edgardo Rubén FLECHA",
      "userId": "15102767123563609240"
     },
     "user_tz": 180
    },
    "id": "DVv0WcpZwhRb",
    "outputId": "d19a0239-983c-49a2-cfce-cfc22cd8fa0b"
   },
   "outputs": [
    {
     "data": {
      "text/plain": [
       "Product_ID                object\n",
       "Product_Category_Name     object\n",
       "Product_Weight_Gr        float64\n",
       "Product_Length_Cm        float64\n",
       "Product_Height_Cm        float64\n",
       "Product_Width_Cm         float64\n",
       "dtype: object"
      ]
     },
     "execution_count": 88,
     "metadata": {},
     "output_type": "execute_result"
    }
   ],
   "source": [
    "# El tipo de dato de cada una de las columnas\n",
    "# Acá veo que 'duracion_recorrido', 'fecha_origen_recorrido' y 'fecha_destino_recorrido'\n",
    "# son de tipo object (texto) y no está bueno eso\n",
    "productos.dtypes"
   ]
  },
  {
   "cell_type": "markdown",
   "metadata": {
    "id": "C-rxg7E4BKWt"
   },
   "source": []
  },
  {
   "cell_type": "code",
   "execution_count": 89,
   "metadata": {
    "colab": {
     "base_uri": "https://localhost:8080/",
     "height": 458
    },
    "executionInfo": {
     "elapsed": 359,
     "status": "ok",
     "timestamp": 1729803553464,
     "user": {
      "displayName": "Edgardo Rubén FLECHA",
      "userId": "15102767123563609240"
     },
     "user_tz": 180
    },
    "id": "4DjyC_Tfw7aL",
    "outputId": "73c869f5-84b7-4e35-ebf3-22652163d647"
   },
   "outputs": [
    {
     "data": {
      "text/plain": [
       "0        14.0\n",
       "1        20.0\n",
       "2        15.0\n",
       "3        26.0\n",
       "4        13.0\n",
       "         ... \n",
       "32946    40.0\n",
       "32947    16.0\n",
       "32948    27.0\n",
       "32949    20.0\n",
       "32950     7.0\n",
       "Name: Product_Width_Cm, Length: 32951, dtype: float64"
      ]
     },
     "execution_count": 89,
     "metadata": {},
     "output_type": "execute_result"
    }
   ],
   "source": [
    "# Para acceder a una columna específica puedo usar el operador punto:\n",
    "productos.Product_Width_Cm"
   ]
  },
  {
   "cell_type": "code",
   "execution_count": 90,
   "metadata": {
    "id": "378tyPFPU6Qk"
   },
   "outputs": [
    {
     "data": {
      "text/plain": [
       "0        14.0\n",
       "1        20.0\n",
       "2        15.0\n",
       "3        26.0\n",
       "4        13.0\n",
       "         ... \n",
       "32946    40.0\n",
       "32947    16.0\n",
       "32948    27.0\n",
       "32949    20.0\n",
       "32950     7.0\n",
       "Name: Product_Width_Cm, Length: 32951, dtype: float64"
      ]
     },
     "execution_count": 90,
     "metadata": {},
     "output_type": "execute_result"
    }
   ],
   "source": [
    "# O el operador corchete:\n",
    "productos['Product_Width_Cm']"
   ]
  },
  {
   "cell_type": "markdown",
   "metadata": {
    "id": "szb9X_miBNJh"
   },
   "source": [
    "# 5. Cálculo de FDPS"
   ]
  },
  {
   "cell_type": "code",
   "execution_count": 91,
   "metadata": {
    "id": "mPCxdh79BVlB"
   },
   "outputs": [],
   "source": [
    "# En una variable preparar la columna del df que quiero ajustar\n",
    "# fdp_constitucion_hora = Fitter(productos.Product_Width_Cm)\n",
    "# Filtrar a algunas distribuciones típicas (cambiá esta lista según lo que necesites)\n",
    "# fdp_constitucion_hora = Fitter(productos['Product_Width_Cm'],\n",
    "        #    distributions=['norm', 'expon', 'gamma', 'lognorm', 'uniform'])\n",
    "fdp_constitucion_hora = Fitter(productos['Product_Width_Cm'].dropna().values)  # segundos\n",
    "# fdp_constitucion_hora.fit()\n",
    "# fdp_constitucion_hora.summary()\n"
   ]
  },
  {
   "cell_type": "code",
   "execution_count": 92,
   "metadata": {
    "id": "RnStYz_WBz5G"
   },
   "outputs": [
    {
     "name": "stderr",
     "output_type": "stream",
     "text": [
      "2025-04-30 04:05:52.544 | WARNING  | fitter.fitter:_fit_single_distribution:337 - SKIPPED _fit distribution (taking more than 30 seconds)\n",
      "2025-04-30 04:05:52.664 | INFO     | fitter.fitter:_fit_single_distribution:333 - Fitted anglit distribution with error=0.041718)\n",
      "2025-04-30 04:05:52.719 | INFO     | fitter.fitter:_fit_single_distribution:333 - Fitted arcsine distribution with error=0.045844)\n",
      "2025-04-30 04:05:52.832 | INFO     | fitter.fitter:_fit_single_distribution:333 - Fitted alpha distribution with error=0.020942)\n",
      "2025-04-30 04:05:52.883 | INFO     | fitter.fitter:_fit_single_distribution:333 - Fitted bradford distribution with error=0.03522)\n",
      "2025-04-30 04:05:52.888 | INFO     | fitter.fitter:_fit_single_distribution:333 - Fitted argus distribution with error=0.044967)\n",
      "2025-04-30 04:05:52.988 | INFO     | fitter.fitter:_fit_single_distribution:333 - Fitted cauchy distribution with error=0.024935)\n",
      "2025-04-30 04:05:53.055 | INFO     | fitter.fitter:_fit_single_distribution:333 - Fitted chi distribution with error=0.024626)\n",
      "2025-04-30 04:05:53.065 | INFO     | fitter.fitter:_fit_single_distribution:333 - Fitted beta distribution with error=0.022283)\n",
      "2025-04-30 04:05:53.185 | INFO     | fitter.fitter:_fit_single_distribution:333 - Fitted crystalball distribution with error=0.028229)\n",
      "2025-04-30 04:05:53.207 | INFO     | fitter.fitter:_fit_single_distribution:333 - Fitted chi2 distribution with error=0.079331)\n",
      "2025-04-30 04:05:53.248 | INFO     | fitter.fitter:_fit_single_distribution:333 - Fitted dgamma distribution with error=0.026447)\n",
      "2025-04-30 04:05:53.338 | INFO     | fitter.fitter:_fit_single_distribution:333 - Fitted cosine distribution with error=0.039385)\n",
      "2025-04-30 04:05:53.347 | INFO     | fitter.fitter:_fit_single_distribution:333 - Fitted betaprime distribution with error=0.021404)\n",
      "2025-04-30 04:05:53.458 | INFO     | fitter.fitter:_fit_single_distribution:333 - Fitted erlang distribution with error=0.022269)\n",
      "2025-04-30 04:05:53.459 | INFO     | fitter.fitter:_fit_single_distribution:333 - Fitted burr12 distribution with error=0.020957)\n",
      "2025-04-30 04:05:53.505 | INFO     | fitter.fitter:_fit_single_distribution:333 - Fitted expon distribution with error=0.031945)\n",
      "2025-04-30 04:05:53.763 | INFO     | fitter.fitter:_fit_single_distribution:333 - Fitted fatiguelife distribution with error=0.020377)\n",
      "2025-04-30 04:05:53.807 | INFO     | fitter.fitter:_fit_single_distribution:333 - Fitted foldcauchy distribution with error=0.024653)\n",
      "2025-04-30 04:05:53.819 | INFO     | fitter.fitter:_fit_single_distribution:333 - Fitted exponnorm distribution with error=0.018028)\n",
      "2025-04-30 04:05:53.967 | INFO     | fitter.fitter:_fit_single_distribution:333 - Fitted foldnorm distribution with error=0.027339)\n",
      "2025-04-30 04:05:54.032 | INFO     | fitter.fitter:_fit_single_distribution:333 - Fitted gamma distribution with error=0.033291)\n",
      "2025-04-30 04:05:54.188 | INFO     | fitter.fitter:_fit_single_distribution:333 - Fitted burr distribution with error=0.020533)\n",
      "2025-04-30 04:05:54.540 | INFO     | fitter.fitter:_fit_single_distribution:333 - Fitted exponpow distribution with error=0.086246)\n",
      "2025-04-30 04:05:54.740 | INFO     | fitter.fitter:_fit_single_distribution:333 - Fitted fisk distribution with error=0.021292)\n",
      "2025-04-30 04:05:54.867 | INFO     | fitter.fitter:_fit_single_distribution:333 - Fitted exponweib distribution with error=0.094297)\n",
      "2025-04-30 04:05:55.113 | INFO     | fitter.fitter:_fit_single_distribution:333 - Fitted genexpon distribution with error=0.023005)\n",
      "2025-04-30 04:05:55.416 | INFO     | fitter.fitter:_fit_single_distribution:333 - Fitted f distribution with error=0.020333)\n",
      "2025-04-30 04:05:55.532 | INFO     | fitter.fitter:_fit_single_distribution:333 - Fitted genextreme distribution with error=0.02045)\n",
      "2025-04-30 04:05:55.766 | INFO     | fitter.fitter:_fit_single_distribution:333 - Fitted gengamma distribution with error=0.021254)\n",
      "2025-04-30 04:05:55.801 | INFO     | fitter.fitter:_fit_single_distribution:333 - Fitted genlogistic distribution with error=0.023688)\n",
      "2025-04-30 04:05:55.924 | INFO     | fitter.fitter:_fit_single_distribution:333 - Fitted genpareto distribution with error=0.029999)\n",
      "2025-04-30 04:05:55.986 | INFO     | fitter.fitter:_fit_single_distribution:333 - Fitted gennorm distribution with error=0.02642)\n",
      "2025-04-30 04:05:56.123 | INFO     | fitter.fitter:_fit_single_distribution:333 - Fitted gibrat distribution with error=0.02434)\n",
      "2025-04-30 04:05:56.135 | INFO     | fitter.fitter:_fit_single_distribution:333 - Fitted gumbel_r distribution with error=0.023695)\n",
      "2025-04-30 04:05:56.140 | INFO     | fitter.fitter:_fit_single_distribution:333 - Fitted halfcauchy distribution with error=0.03094)\n",
      "2025-04-30 04:05:56.287 | INFO     | fitter.fitter:_fit_single_distribution:333 - Fitted gompertz distribution with error=0.029568)\n",
      "2025-04-30 04:05:56.297 | INFO     | fitter.fitter:_fit_single_distribution:333 - Fitted gumbel_l distribution with error=0.03337)\n",
      "2025-04-30 04:05:56.302 | INFO     | fitter.fitter:_fit_single_distribution:333 - Fitted halfnorm distribution with error=0.027339)\n",
      "2025-04-30 04:05:56.345 | INFO     | fitter.fitter:_fit_single_distribution:333 - Fitted hypsecant distribution with error=0.026445)\n",
      "2025-04-30 04:05:56.423 | INFO     | fitter.fitter:_fit_single_distribution:333 - Fitted genhalflogistic distribution with error=0.027598)\n",
      "2025-04-30 04:05:56.462 | INFO     | fitter.fitter:_fit_single_distribution:333 - Fitted halfgennorm distribution with error=0.049488)\n",
      "2025-04-30 04:05:56.470 | INFO     | fitter.fitter:_fit_single_distribution:333 - Fitted halflogistic distribution with error=0.027781)\n",
      "2025-04-30 04:05:56.566 | INFO     | fitter.fitter:_fit_single_distribution:333 - Fitted invgamma distribution with error=0.020325)\n",
      "2025-04-30 04:05:56.743 | INFO     | fitter.fitter:_fit_single_distribution:333 - Fitted invgauss distribution with error=0.020253)\n",
      "2025-04-30 04:05:57.018 | INFO     | fitter.fitter:_fit_single_distribution:333 - Fitted invweibull distribution with error=0.02045)\n",
      "2025-04-30 04:05:57.037 | WARNING  | fitter.fitter:_fit_single_distribution:337 - SKIPPED irwinhall distribution (taking more than 30 seconds)\n",
      "2025-04-30 04:05:57.096 | INFO     | fitter.fitter:_fit_single_distribution:333 - Fitted dpareto_lognorm distribution with error=0.020975)\n",
      "2025-04-30 04:05:57.232 | INFO     | fitter.fitter:_fit_single_distribution:333 - Fitted dweibull distribution with error=0.026568)\n",
      "2025-04-30 04:05:57.237 | WARNING  | fitter.fitter:_fit_single_distribution:337 - SKIPPED kstwo distribution (taking more than 30 seconds)\n",
      "2025-04-30 04:05:57.337 | INFO     | fitter.fitter:_fit_single_distribution:333 - Fitted johnsonsu distribution with error=0.019766)\n",
      "2025-04-30 04:05:57.447 | INFO     | fitter.fitter:_fit_single_distribution:333 - Fitted kstwobign distribution with error=0.023944)\n",
      "2025-04-30 04:05:57.580 | INFO     | fitter.fitter:_fit_single_distribution:333 - Fitted landau distribution with error=0.020578)\n",
      "2025-04-30 04:05:57.586 | INFO     | fitter.fitter:_fit_single_distribution:333 - Fitted laplace distribution with error=0.026507)\n",
      "2025-04-30 04:05:57.751 | INFO     | fitter.fitter:_fit_single_distribution:333 - Fitted laplace_asymmetric distribution with error=0.0176)\n",
      "2025-04-30 04:05:57.932 | INFO     | fitter.fitter:_fit_single_distribution:333 - Fitted jf_skew_t distribution with error=0.020894)\n",
      "2025-04-30 04:05:57.952 | INFO     | fitter.fitter:_fit_single_distribution:333 - Fitted kappa3 distribution with error=0.026817)\n",
      "2025-04-30 04:05:57.955 | INFO     | fitter.fitter:_fit_single_distribution:333 - Fitted levy distribution with error=0.029799)\n",
      "2025-04-30 04:05:58.055 | INFO     | fitter.fitter:_fit_single_distribution:333 - Fitted levy_l distribution with error=0.048251)\n",
      "2025-04-30 04:05:58.224 | INFO     | fitter.fitter:_fit_single_distribution:333 - Fitted loggamma distribution with error=0.02834)\n",
      "2025-04-30 04:05:58.239 | INFO     | fitter.fitter:_fit_single_distribution:333 - Fitted logistic distribution with error=0.026958)\n",
      "2025-04-30 04:05:58.429 | INFO     | fitter.fitter:_fit_single_distribution:333 - Fitted loglaplace distribution with error=0.025175)\n",
      "2025-04-30 04:05:58.492 | INFO     | fitter.fitter:_fit_single_distribution:333 - Fitted lognorm distribution with error=0.020614)\n",
      "2025-04-30 04:05:58.603 | INFO     | fitter.fitter:_fit_single_distribution:333 - Fitted johnsonsb distribution with error=0.02064)\n",
      "2025-04-30 04:05:58.689 | INFO     | fitter.fitter:_fit_single_distribution:333 - Fitted loguniform distribution with error=0.035669)\n",
      "2025-04-30 04:05:58.717 | INFO     | fitter.fitter:_fit_single_distribution:333 - Fitted maxwell distribution with error=0.026442)\n",
      "2025-04-30 04:05:58.792 | INFO     | fitter.fitter:_fit_single_distribution:333 - Fitted lomax distribution with error=0.032319)\n",
      "2025-04-30 04:05:58.977 | INFO     | fitter.fitter:_fit_single_distribution:333 - Fitted moyal distribution with error=0.022137)\n",
      "2025-04-30 04:05:58.991 | WARNING  | fitter.fitter:_fit_single_distribution:337 - SKIPPED multivariate_normal distribution (taking more than 30 seconds)\n",
      "2025-04-30 04:05:59.072 | INFO     | fitter.fitter:_fit_single_distribution:333 - Fitted nakagami distribution with error=0.02415)\n",
      "2025-04-30 04:05:59.839 | INFO     | fitter.fitter:_fit_single_distribution:333 - Fitted mielke distribution with error=nan)\n",
      "2025-04-30 04:05:59.863 | INFO     | fitter.fitter:_fit_single_distribution:333 - Fitted kappa4 distribution with error=0.036555)\n",
      "2025-04-30 04:05:59.896 | INFO     | fitter.fitter:_fit_single_distribution:333 - Fitted ksone distribution with error=0.043861)\n",
      "2025-04-30 04:06:04.792 | INFO     | fitter.fitter:_fit_single_distribution:333 - Fitted ncx2 distribution with error=0.02363)\n",
      "2025-04-30 04:06:04.802 | INFO     | fitter.fitter:_fit_single_distribution:333 - Fitted norm distribution with error=0.028229)\n",
      "/home/daniel/miniconda3/envs/simulacion/lib/python3.13/site-packages/scipy/stats/_continuous_distns.py:4112: IntegrationWarning: The integral is probably divergent, or slowly convergent.\n",
      "  intgrl = integrate.quad(llc, x0, x1,\n",
      "/home/daniel/miniconda3/envs/simulacion/lib/python3.13/site-packages/scipy/stats/_continuous_distns.py:4112: IntegrationWarning: The algorithm does not converge.  Roundoff error is detected\n",
      "  in the extrapolation table.  It is assumed that the requested tolerance\n",
      "  cannot be achieved, and that the returned result (if full_output = 1) is \n",
      "  the best which can be obtained.\n",
      "  intgrl = integrate.quad(llc, x0, x1,\n",
      "2025-04-30 04:06:26.947 | INFO     | fitter.fitter:_fit_single_distribution:333 - Fitted gausshyper distribution with error=0.042127)\n",
      "2025-04-30 04:06:26.999 | INFO     | fitter.fitter:_fit_single_distribution:333 - Fitted pareto distribution with error=0.031945)\n",
      "/home/daniel/miniconda3/envs/simulacion/lib/python3.13/site-packages/scipy/stats/_continuous_distns.py:4107: IntegrationWarning: The integral is probably divergent, or slowly convergent.\n",
      "  intgrl = (integrate.quad(llc, x0, mean,\n",
      "2025-04-30 04:06:27.464 | INFO     | fitter.fitter:_fit_single_distribution:333 - Fitted pearson3 distribution with error=0.022269)\n",
      "2025-04-30 04:06:27.618 | INFO     | fitter.fitter:_fit_single_distribution:333 - Fitted powerlaw distribution with error=0.041443)\n",
      "2025-04-30 04:06:28.162 | WARNING  | fitter.fitter:_fit_single_distribution:337 - SKIPPED levy_stable distribution (taking more than 30 seconds)\n",
      "2025-04-30 04:06:29.192 | WARNING  | fitter.fitter:_fit_single_distribution:337 - SKIPPED ncf distribution (taking more than 30 seconds)\n",
      "2025-04-30 04:06:29.337 | INFO     | fitter.fitter:_fit_single_distribution:333 - Fitted rayleigh distribution with error=0.025719)\n",
      "2025-04-30 04:06:29.429 | INFO     | fitter.fitter:_fit_single_distribution:333 - Fitted powerlognorm distribution with error=0.019927)\n",
      "2025-04-30 04:06:29.889 | WARNING  | fitter.fitter:_fit_single_distribution:337 - SKIPPED nct distribution (taking more than 30 seconds)\n",
      "2025-04-30 04:06:30.005 | INFO     | fitter.fitter:_fit_single_distribution:333 - Fitted rdist distribution with error=0.028226)\n",
      "2025-04-30 04:06:30.288 | INFO     | fitter.fitter:_fit_single_distribution:333 - Fitted reciprocal distribution with error=0.035669)\n",
      "2025-04-30 04:06:30.325 | INFO     | fitter.fitter:_fit_single_distribution:333 - Fitted rel_breitwigner distribution with error=0.026553)\n",
      "2025-04-30 04:06:30.364 | WARNING  | fitter.fitter:_fit_single_distribution:337 - SKIPPED rv_continuous distribution (taking more than 30 seconds)\n",
      "2025-04-30 04:06:30.371 | WARNING  | fitter.fitter:_fit_single_distribution:337 - SKIPPED rv_histogram distribution (taking more than 30 seconds)\n",
      "2025-04-30 04:06:30.468 | INFO     | fitter.fitter:_fit_single_distribution:333 - Fitted semicircular distribution with error=0.043464)\n",
      "2025-04-30 04:06:31.302 | INFO     | fitter.fitter:_fit_single_distribution:333 - Fitted recipinvgauss distribution with error=0.02064)\n",
      "2025-04-30 04:06:31.351 | INFO     | fitter.fitter:_fit_single_distribution:333 - Fitted rice distribution with error=0.025719)\n",
      "2025-04-30 04:06:31.385 | INFO     | fitter.fitter:_fit_single_distribution:333 - Fitted powernorm distribution with error=nan)\n",
      "2025-04-30 04:06:31.385 | INFO     | fitter.fitter:_fit_single_distribution:333 - Fitted skewcauchy distribution with error=0.018689)\n",
      "2025-04-30 04:06:31.625 | INFO     | fitter.fitter:_fit_single_distribution:333 - Fitted skewnorm distribution with error=0.020317)\n",
      "2025-04-30 04:06:31.720 | INFO     | fitter.fitter:_fit_single_distribution:333 - Fitted trapz distribution with error=0.052805)\n",
      "2025-04-30 04:06:31.768 | INFO     | fitter.fitter:_fit_single_distribution:333 - Fitted trapezoid distribution with error=0.052805)\n",
      "2025-04-30 04:06:32.038 | INFO     | fitter.fitter:_fit_single_distribution:333 - Fitted truncexpon distribution with error=0.038686)\n",
      "2025-04-30 04:06:32.049 | INFO     | fitter.fitter:_fit_single_distribution:333 - Fitted triang distribution with error=0.03528)\n",
      "2025-04-30 04:06:32.448 | INFO     | fitter.fitter:_fit_single_distribution:333 - Fitted truncpareto distribution with error=0.031954)\n",
      "2025-04-30 04:06:32.456 | INFO     | fitter.fitter:_fit_single_distribution:333 - Fitted truncnorm distribution with error=0.028229)\n",
      "2025-04-30 04:06:33.250 | INFO     | fitter.fitter:_fit_single_distribution:333 - Fitted truncweibull_min distribution with error=0.03756)\n",
      "2025-04-30 04:06:33.355 | INFO     | fitter.fitter:_fit_single_distribution:333 - Fitted uniform distribution with error=0.04364)\n",
      "2025-04-30 04:06:33.535 | INFO     | fitter.fitter:_fit_single_distribution:333 - Fitted vonmises distribution with error=2.315173)\n",
      "2025-04-30 04:06:33.732 | WARNING  | fitter.fitter:_fit_single_distribution:337 - SKIPPED vonmises_fisher distribution (taking more than 30 seconds)\n",
      "2025-04-30 04:06:34.519 | INFO     | fitter.fitter:_fit_single_distribution:333 - Fitted vonmises_line distribution with error=0.027854)\n",
      "2025-04-30 04:06:34.682 | INFO     | fitter.fitter:_fit_single_distribution:333 - Fitted wald distribution with error=0.021472)\n",
      "2025-04-30 04:06:35.217 | INFO     | fitter.fitter:_fit_single_distribution:333 - Fitted t distribution with error=0.02635)\n",
      "2025-04-30 04:06:36.192 | INFO     | fitter.fitter:_fit_single_distribution:333 - Fitted weibull_max distribution with error=0.070079)\n",
      "2025-04-30 04:06:36.236 | INFO     | fitter.fitter:_fit_single_distribution:333 - Fitted genhyperbolic distribution with error=0.025616)\n",
      "2025-04-30 04:06:36.642 | INFO     | fitter.fitter:_fit_single_distribution:333 - Fitted wrapcauchy distribution with error=0.040475)\n",
      "/home/daniel/miniconda3/envs/simulacion/lib/python3.13/site-packages/scipy/integrate/_quadpack_py.py:1260: IntegrationWarning: The maximum number of subdivisions (50) has been achieved.\n",
      "  If increasing the limit yields no improvement it is advised to analyze \n",
      "  the integrand in order to determine the difficulties.  If the position of a \n",
      "  local difficulty can be determined (singularity, discontinuity) one will \n",
      "  probably gain from splitting up the interval and calling the integrator \n",
      "  on the subranges.  Perhaps a special-purpose integrator should be used.\n",
      "  quad_r = quad(f, low, high, args=args, full_output=self.full_output,\n",
      "2025-04-30 04:06:37.390 | INFO     | fitter.fitter:_fit_single_distribution:333 - Fitted weibull_min distribution with error=0.018035)\n",
      "2025-04-30 04:06:38.960 | INFO     | fitter.fitter:_fit_single_distribution:333 - Fitted norminvgauss distribution with error=0.019819)\n",
      "/home/daniel/miniconda3/envs/simulacion/lib/python3.13/site-packages/scipy/integrate/_quadpack_py.py:1260: IntegrationWarning: The integral is probably divergent, or slowly convergent.\n",
      "  quad_r = quad(f, low, high, args=args, full_output=self.full_output,\n",
      "2025-04-30 04:06:51.626 | INFO     | fitter.fitter:_fit_single_distribution:333 - Fitted geninvgauss distribution with error=0.020172)\n",
      "2025-04-30 04:06:52.199 | INFO     | fitter.fitter:_fit_single_distribution:333 - Fitted tukeylambda distribution with error=0.03932)\n",
      "2025-04-30 04:07:01.458 | WARNING  | fitter.fitter:_fit_single_distribution:337 - SKIPPED studentized_range distribution (taking more than 30 seconds)\n"
     ]
    }
   ],
   "source": [
    "# Con el método fit() ajusta mis datos a las 80 distribuciones de SciPy\n",
    "fdp_constitucion_hora.fit()"
   ]
  },
  {
   "cell_type": "code",
   "execution_count": 93,
   "metadata": {
    "colab": {
     "base_uri": "https://localhost:8080/",
     "height": 776
    },
    "executionInfo": {
     "elapsed": 3154,
     "status": "ok",
     "timestamp": 1729799047470,
     "user": {
      "displayName": "Edgardo Rubén FLECHA",
      "userId": "15102767123563609240"
     },
     "user_tz": 180
    },
    "id": "X5RVOghgDqNl",
    "outputId": "48d8efb9-37af-4734-c794-b6e7b606000a"
   },
   "outputs": [
    {
     "data": {
      "text/html": [
       "<div>\n",
       "<style scoped>\n",
       "    .dataframe tbody tr th:only-of-type {\n",
       "        vertical-align: middle;\n",
       "    }\n",
       "\n",
       "    .dataframe tbody tr th {\n",
       "        vertical-align: top;\n",
       "    }\n",
       "\n",
       "    .dataframe thead th {\n",
       "        text-align: right;\n",
       "    }\n",
       "</style>\n",
       "<table border=\"1\" class=\"dataframe\">\n",
       "  <thead>\n",
       "    <tr style=\"text-align: right;\">\n",
       "      <th></th>\n",
       "      <th>sumsquare_error</th>\n",
       "      <th>aic</th>\n",
       "      <th>bic</th>\n",
       "      <th>kl_div</th>\n",
       "      <th>ks_statistic</th>\n",
       "      <th>ks_pvalue</th>\n",
       "    </tr>\n",
       "  </thead>\n",
       "  <tbody>\n",
       "    <tr>\n",
       "      <th>laplace_asymmetric</th>\n",
       "      <td>0.017600</td>\n",
       "      <td>1446.902009</td>\n",
       "      <td>1472.110157</td>\n",
       "      <td>inf</td>\n",
       "      <td>0.098471</td>\n",
       "      <td>1.464861e-278</td>\n",
       "    </tr>\n",
       "    <tr>\n",
       "      <th>exponnorm</th>\n",
       "      <td>0.018028</td>\n",
       "      <td>1492.284674</td>\n",
       "      <td>1517.492822</td>\n",
       "      <td>inf</td>\n",
       "      <td>0.074535</td>\n",
       "      <td>1.230346e-159</td>\n",
       "    </tr>\n",
       "    <tr>\n",
       "      <th>weibull_min</th>\n",
       "      <td>0.018035</td>\n",
       "      <td>inf</td>\n",
       "      <td>inf</td>\n",
       "      <td>inf</td>\n",
       "      <td>0.063215</td>\n",
       "      <td>6.517661e-115</td>\n",
       "    </tr>\n",
       "    <tr>\n",
       "      <th>skewcauchy</th>\n",
       "      <td>0.018689</td>\n",
       "      <td>1239.888799</td>\n",
       "      <td>1265.096947</td>\n",
       "      <td>inf</td>\n",
       "      <td>0.111234</td>\n",
       "      <td>0.000000e+00</td>\n",
       "    </tr>\n",
       "    <tr>\n",
       "      <th>johnsonsu</th>\n",
       "      <td>0.019766</td>\n",
       "      <td>1310.393606</td>\n",
       "      <td>1344.004471</td>\n",
       "      <td>inf</td>\n",
       "      <td>0.074255</td>\n",
       "      <td>1.941191e-158</td>\n",
       "    </tr>\n",
       "    <tr>\n",
       "      <th>norminvgauss</th>\n",
       "      <td>0.019819</td>\n",
       "      <td>1351.988018</td>\n",
       "      <td>1385.598883</td>\n",
       "      <td>inf</td>\n",
       "      <td>0.070000</td>\n",
       "      <td>7.869319e-141</td>\n",
       "    </tr>\n",
       "    <tr>\n",
       "      <th>powerlognorm</th>\n",
       "      <td>0.019927</td>\n",
       "      <td>1365.670966</td>\n",
       "      <td>1399.281831</td>\n",
       "      <td>inf</td>\n",
       "      <td>0.070281</td>\n",
       "      <td>5.801308e-142</td>\n",
       "    </tr>\n",
       "    <tr>\n",
       "      <th>geninvgauss</th>\n",
       "      <td>0.020172</td>\n",
       "      <td>1361.322254</td>\n",
       "      <td>1394.933119</td>\n",
       "      <td>inf</td>\n",
       "      <td>0.071267</td>\n",
       "      <td>5.756553e-146</td>\n",
       "    </tr>\n",
       "    <tr>\n",
       "      <th>invgauss</th>\n",
       "      <td>0.020253</td>\n",
       "      <td>1376.612517</td>\n",
       "      <td>1401.820666</td>\n",
       "      <td>inf</td>\n",
       "      <td>0.075607</td>\n",
       "      <td>2.972893e-164</td>\n",
       "    </tr>\n",
       "    <tr>\n",
       "      <th>skewnorm</th>\n",
       "      <td>0.020317</td>\n",
       "      <td>1937.718826</td>\n",
       "      <td>1962.926974</td>\n",
       "      <td>inf</td>\n",
       "      <td>0.151831</td>\n",
       "      <td>0.000000e+00</td>\n",
       "    </tr>\n",
       "  </tbody>\n",
       "</table>\n",
       "</div>"
      ],
      "text/plain": [
       "                    sumsquare_error          aic          bic  kl_div  \\\n",
       "laplace_asymmetric         0.017600  1446.902009  1472.110157     inf   \n",
       "exponnorm                  0.018028  1492.284674  1517.492822     inf   \n",
       "weibull_min                0.018035          inf          inf     inf   \n",
       "skewcauchy                 0.018689  1239.888799  1265.096947     inf   \n",
       "johnsonsu                  0.019766  1310.393606  1344.004471     inf   \n",
       "norminvgauss               0.019819  1351.988018  1385.598883     inf   \n",
       "powerlognorm               0.019927  1365.670966  1399.281831     inf   \n",
       "geninvgauss                0.020172  1361.322254  1394.933119     inf   \n",
       "invgauss                   0.020253  1376.612517  1401.820666     inf   \n",
       "skewnorm                   0.020317  1937.718826  1962.926974     inf   \n",
       "\n",
       "                    ks_statistic      ks_pvalue  \n",
       "laplace_asymmetric      0.098471  1.464861e-278  \n",
       "exponnorm               0.074535  1.230346e-159  \n",
       "weibull_min             0.063215  6.517661e-115  \n",
       "skewcauchy              0.111234   0.000000e+00  \n",
       "johnsonsu               0.074255  1.941191e-158  \n",
       "norminvgauss            0.070000  7.869319e-141  \n",
       "powerlognorm            0.070281  5.801308e-142  \n",
       "geninvgauss             0.071267  5.756553e-146  \n",
       "invgauss                0.075607  2.972893e-164  \n",
       "skewnorm                0.151831   0.000000e+00  "
      ]
     },
     "execution_count": 93,
     "metadata": {},
     "output_type": "execute_result"
    },
    {
     "data": {
      "image/png": "[encoded data removed]",
      "text/plain": [
       "<Figure size 640x480 with 1 Axes>"
      ]
     },
     "metadata": {},
     "output_type": "display_data"
    }
   ],
   "source": [
    "# Summary me muestra el resumen de los mejores ajustes\n",
    "fdp_constitucion_hora.summary(10)"
   ]
  },
  {
   "cell_type": "markdown",
   "metadata": {
    "id": "R2qalcH4BFRu"
   },
   "source": []
  },
  {
   "cell_type": "markdown",
   "metadata": {
    "id": "WpvSV5JNESIT"
   },
   "source": [
    "# 6. Simulacion"
   ]
  },
  {
   "cell_type": "code",
   "execution_count": 94,
   "metadata": {
    "colab": {
     "base_uri": "https://localhost:8080/"
    },
    "executionInfo": {
     "elapsed": 416,
     "status": "ok",
     "timestamp": 1729799273571,
     "user": {
      "displayName": "Edgardo Rubén FLECHA",
      "userId": "15102767123563609240"
     },
     "user_tz": 180
    },
    "id": "oudlShQ8EWqL",
    "outputId": "13029790-0bc6-4349-fc42-eceafcb95461"
   },
   "outputs": [
    {
     "data": {
      "text/plain": [
       "{'laplace_asymmetric': {'kappa': 0.1274280356430184,\n",
       "  'loc': 11.000000000003787,\n",
       "  'scale': 1.5798490704461043}}"
      ]
     },
     "execution_count": 94,
     "metadata": {},
     "output_type": "execute_result"
    }
   ],
   "source": [
    "# get_best me devuelve la mejor distribución de acuerdo al criterio que le indico y sus parámetros\n",
    "fdp_constitucion_hora.get_best(method='sumsquare_error')"
   ]
  },
  {
   "cell_type": "markdown",
   "metadata": {
    "id": "-VjpLixIJHRt"
   },
   "source": []
  },
  {
   "cell_type": "code",
   "execution_count": 95,
   "metadata": {
    "colab": {
     "base_uri": "https://localhost:8080/"
    },
    "executionInfo": {
     "elapsed": 354,
     "status": "ok",
     "timestamp": 1729800476631,
     "user": {
      "displayName": "Edgardo Rubén FLECHA",
      "userId": "15102767123563609240"
     },
     "user_tz": 180
    },
    "id": "erYaoWSqJD5I",
    "outputId": "21a34aef-4184-425e-b27f-51c0ed0ebd30"
   },
   "outputs": [
    {
     "data": {
      "text/plain": [
       "{'weibull_min': {'c': 1.1048044443877316,\n",
       "  'loc': 9.998618246946357,\n",
       "  'scale': 13.712298480670839}}"
      ]
     },
     "execution_count": 95,
     "metadata": {},
     "output_type": "execute_result"
    }
   ],
   "source": [
    "fdp_constitucion_hora.get_best(method='ks_statistic')"
   ]
  },
  {
   "cell_type": "code",
   "execution_count": 96,
   "metadata": {
    "id": "KW1s6Kk9Eu8m"
   },
   "outputs": [],
   "source": [
    "# Para simular, guardo los valores de los parámetros en 4 variables\n",
    "dfn = 10.210149046195188\n",
    "dfd = 24.449261873976212\n",
    "loc = -0.210629715477468\n",
    "scale =  15.900756775955681"
   ]
  },
  {
   "cell_type": "code",
   "execution_count": 97,
   "metadata": {
    "id": "ORrhepOfFP2v"
   },
   "outputs": [],
   "source": [
    "# Gracias al método rvs del módulo stats de Scipy, puedo generar datos\n",
    "# con los parámetros que me dio Fitter\n",
    "fdp_f = stats.f.rvs(dfn, dfd, loc=loc, scale=scale, size=35000)"
   ]
  },
  {
   "cell_type": "code",
   "execution_count": 98,
   "metadata": {
    "colab": {
     "base_uri": "https://localhost:8080/"
    },
    "executionInfo": {
     "elapsed": 362,
     "status": "ok",
     "timestamp": 1729799570370,
     "user": {
      "displayName": "Edgardo Rubén FLECHA",
      "userId": "15102767123563609240"
     },
     "user_tz": 180
    },
    "id": "N_oLygX_FlJF",
    "outputId": "b3269a29-7dfb-4eb7-d133-604f53fca5c6"
   },
   "outputs": [
    {
     "data": {
      "text/plain": [
       "array([11.58293159, 24.10440898, 26.46329338, ...,  6.8571842 ,\n",
       "       18.31153428, 14.20344816])"
      ]
     },
     "execution_count": 98,
     "metadata": {},
     "output_type": "execute_result"
    }
   ],
   "source": [
    "# Esta variable es un array de Numpy con valores similares a mis datos de origen\n",
    "fdp_f"
   ]
  },
  {
   "cell_type": "code",
   "execution_count": 99,
   "metadata": {
    "colab": {
     "base_uri": "https://localhost:8080/",
     "height": 472
    },
    "executionInfo": {
     "elapsed": 1352,
     "status": "ok",
     "timestamp": 1729799742739,
     "user": {
      "displayName": "Edgardo Rubén FLECHA",
      "userId": "15102767123563609240"
     },
     "user_tz": 180
    },
    "id": "RflN2CuRF68i",
    "outputId": "f27163f5-d1f7-4b6c-e247-4b9fb07baa2b"
   },
   "outputs": [
    {
     "data": {
      "image/png": "[encoded data removed]",
      "text/plain": [
       "<Figure size 640x480 with 1 Axes>"
      ]
     },
     "metadata": {},
     "output_type": "display_data"
    }
   ],
   "source": [
    "# Histograma de datos de verificación\n",
    "plt.title(\"Histograma\")\n",
    "plt.xlabel(\"X axis\")\n",
    "plt.ylabel(\"Y axis\")\n",
    "plt.xlim(0, 60)\n",
    "plt.ylim(0, 1300)\n",
    "plt.hist(fdp_f, bins=150)\n",
    "plt.show()"
   ]
  },
  {
   "cell_type": "code",
   "execution_count": null,
   "metadata": {
    "id": "HfCkMErrKiOl"
   },
   "outputs": [],
   "source": []
  },
  {
   "cell_type": "code",
   "execution_count": null,
   "metadata": {},
   "outputs": [],
   "source": []
  },
  {
   "cell_type": "code",
   "execution_count": null,
   "metadata": {},
   "outputs": [],
   "source": []
  },
  {
   "cell_type": "code",
   "execution_count": null,
   "metadata": {},
   "outputs": [],
   "source": []
  }
 ],
 "metadata": {
  "colab": {
   "authorship_tag": "ABX9TyOId+MZ1t15zIsR/Lto862z",
   "mount_file_id": "15Pz3ACKIvs5NycDHgER7ScR7WYZibr0s",
   "provenance": [
    {
     "file_id": "15Pz3ACKIvs5NycDHgER7ScR7WYZibr0s",
     "timestamp": 1744167337553
    }
   ]
  },
  "kernelspec": {
   "display_name": "simulacion",
   "language": "python",
   "name": "python3"
  },
  "language_info": {
   "codemirror_mode": {
    "name": "ipython",
    "version": 3
   },
   "file_extension": ".py",
   "mimetype": "text/x-python",
   "name": "python",
   "nbconvert_exporter": "python",
   "pygments_lexer": "ipython3",
   "version": "3.13.2"
  }
 },
 "nbformat": 4,
 "nbformat_minor": 4
}
