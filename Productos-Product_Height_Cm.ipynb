{
 "cells": [
  {
   "cell_type": "markdown",
   "metadata": {
    "id": "T0NlF9nHmdZX"
   },
   "source": [
    "# 1. Carga de bibliotetas\n",
    "\n",
    "Seccion para instalar e importar bibliotecas necesarias"
   ]
  },
  {
   "cell_type": "code",
   "execution_count": 22,
   "metadata": {
    "colab": {
     "base_uri": "https://localhost:8080/"
    },
    "executionInfo": {
     "elapsed": 16165,
     "status": "ok",
     "timestamp": 1729791660665,
     "user": {
      "displayName": "Edgardo Rubén FLECHA",
      "userId": "15102767123563609240"
     },
     "user_tz": 180
    },
    "id": "1AEhaS_8mr1l",
    "outputId": "15365a18-9877-4d0f-d23d-20d05e68b13e"
   },
   "outputs": [
    {
     "name": "stdout",
     "output_type": "stream",
     "text": [
      "Requirement already satisfied: fitter in /home/daniel/miniconda3/envs/simulacion/lib/python3.13/site-packages (1.7.1)\n",
      "Requirement already satisfied: click<9.0.0,>=8.1.6 in /home/daniel/miniconda3/envs/simulacion/lib/python3.13/site-packages (from fitter) (8.1.8)\n",
      "Requirement already satisfied: joblib<2.0.0,>=1.3.1 in /home/daniel/miniconda3/envs/simulacion/lib/python3.13/site-packages (from fitter) (1.4.2)\n",
      "Requirement already satisfied: loguru<0.8.0,>=0.7.2 in /home/daniel/miniconda3/envs/simulacion/lib/python3.13/site-packages (from fitter) (0.7.3)\n",
      "Requirement already satisfied: matplotlib<4.0.0,>=3.7.2 in /home/daniel/miniconda3/envs/simulacion/lib/python3.13/site-packages (from fitter) (3.10.1)\n",
      "Requirement already satisfied: numpy<2.0.0,>=1.20.0 in /home/daniel/miniconda3/envs/simulacion/lib/python3.13/site-packages (from fitter) (1.26.4)\n",
      "Requirement already satisfied: pandas<3.0.0,>=0.23.4 in /home/daniel/miniconda3/envs/simulacion/lib/python3.13/site-packages (from fitter) (2.2.3)\n",
      "Requirement already satisfied: rich-click<2.0.0,>=1.7.2 in /home/daniel/miniconda3/envs/simulacion/lib/python3.13/site-packages (from fitter) (1.8.8)\n",
      "Requirement already satisfied: scipy<2.0.0,>=0.18.0 in /home/daniel/miniconda3/envs/simulacion/lib/python3.13/site-packages (from fitter) (1.15.2)\n",
      "Requirement already satisfied: tqdm<5.0.0,>=4.65.1 in /home/daniel/miniconda3/envs/simulacion/lib/python3.13/site-packages (from fitter) (4.67.1)\n",
      "Requirement already satisfied: contourpy>=1.0.1 in /home/daniel/miniconda3/envs/simulacion/lib/python3.13/site-packages (from matplotlib<4.0.0,>=3.7.2->fitter) (1.3.2)\n",
      "Requirement already satisfied: cycler>=0.10 in /home/daniel/miniconda3/envs/simulacion/lib/python3.13/site-packages (from matplotlib<4.0.0,>=3.7.2->fitter) (0.12.1)\n",
      "Requirement already satisfied: fonttools>=4.22.0 in /home/daniel/miniconda3/envs/simulacion/lib/python3.13/site-packages (from matplotlib<4.0.0,>=3.7.2->fitter) (4.57.0)\n",
      "Requirement already satisfied: kiwisolver>=1.3.1 in /home/daniel/miniconda3/envs/simulacion/lib/python3.13/site-packages (from matplotlib<4.0.0,>=3.7.2->fitter) (1.4.8)\n",
      "Requirement already satisfied: packaging>=20.0 in /home/daniel/miniconda3/envs/simulacion/lib/python3.13/site-packages (from matplotlib<4.0.0,>=3.7.2->fitter) (25.0)\n",
      "Requirement already satisfied: pillow>=8 in /home/daniel/miniconda3/envs/simulacion/lib/python3.13/site-packages (from matplotlib<4.0.0,>=3.7.2->fitter) (11.2.1)\n",
      "Requirement already satisfied: pyparsing>=2.3.1 in /home/daniel/miniconda3/envs/simulacion/lib/python3.13/site-packages (from matplotlib<4.0.0,>=3.7.2->fitter) (3.2.3)\n",
      "Requirement already satisfied: python-dateutil>=2.7 in /home/daniel/miniconda3/envs/simulacion/lib/python3.13/site-packages (from matplotlib<4.0.0,>=3.7.2->fitter) (2.9.0.post0)\n",
      "Requirement already satisfied: pytz>=2020.1 in /home/daniel/miniconda3/envs/simulacion/lib/python3.13/site-packages (from pandas<3.0.0,>=0.23.4->fitter) (2025.2)\n",
      "Requirement already satisfied: tzdata>=2022.7 in /home/daniel/miniconda3/envs/simulacion/lib/python3.13/site-packages (from pandas<3.0.0,>=0.23.4->fitter) (2025.2)\n",
      "Requirement already satisfied: rich>=10.7 in /home/daniel/miniconda3/envs/simulacion/lib/python3.13/site-packages (from rich-click<2.0.0,>=1.7.2->fitter) (14.0.0)\n",
      "Requirement already satisfied: typing_extensions>=4 in /home/daniel/miniconda3/envs/simulacion/lib/python3.13/site-packages (from rich-click<2.0.0,>=1.7.2->fitter) (4.13.2)\n",
      "Requirement already satisfied: six>=1.5 in /home/daniel/miniconda3/envs/simulacion/lib/python3.13/site-packages (from python-dateutil>=2.7->matplotlib<4.0.0,>=3.7.2->fitter) (1.17.0)\n",
      "Requirement already satisfied: markdown-it-py>=2.2.0 in /home/daniel/miniconda3/envs/simulacion/lib/python3.13/site-packages (from rich>=10.7->rich-click<2.0.0,>=1.7.2->fitter) (3.0.0)\n",
      "Requirement already satisfied: pygments<3.0.0,>=2.13.0 in /home/daniel/miniconda3/envs/simulacion/lib/python3.13/site-packages (from rich>=10.7->rich-click<2.0.0,>=1.7.2->fitter) (2.19.1)\n",
      "Requirement already satisfied: mdurl~=0.1 in /home/daniel/miniconda3/envs/simulacion/lib/python3.13/site-packages (from markdown-it-py>=2.2.0->rich>=10.7->rich-click<2.0.0,>=1.7.2->fitter) (0.1.2)\n"
     ]
    }
   ],
   "source": [
    "# Acá instalamos la biblioteca fitter para el ajuste de funciones\n",
    "!pip install fitter"
   ]
  },
  {
   "cell_type": "code",
   "execution_count": 23,
   "metadata": {
    "id": "SzsbMMQPnqI0"
   },
   "outputs": [],
   "source": [
    "# Acá importarmos todas las bibliotecas necesarias: Pandas, Numpy, Scipy y Fitter\n",
    "from fitter import Fitter\n",
    "import pandas as pd\n",
    "import numpy as np\n",
    "import matplotlib.pyplot as plt\n",
    "from scipy import stats"
   ]
  },
  {
   "cell_type": "code",
   "execution_count": 24,
   "metadata": {
    "colab": {
     "base_uri": "https://localhost:8080/"
    },
    "executionInfo": {
     "elapsed": 2477,
     "status": "ok",
     "timestamp": 1729802620214,
     "user": {
      "displayName": "Edgardo Rubén FLECHA",
      "userId": "15102767123563609240"
     },
     "user_tz": 180
    },
    "id": "nmtJhWE7pLpg",
    "outputId": "4d27d0d7-4cec-4579-f0b9-8261b50c94ee"
   },
   "outputs": [],
   "source": [
    "# Esto se hace para montar el gogle drive y poder acceder datos alojados allí.\n",
    "# from google.colab import drive\n",
    "# drive.mount('/content/drive')"
   ]
  },
  {
   "cell_type": "markdown",
   "metadata": {
    "id": "c2vAl1XAp-rz"
   },
   "source": [
    "# 2. Carga de datos\n",
    "\n",
    "Utilizaremos los datos de recorrido de bicicletas públicas de la ciudad de Buenos Aires\n",
    "https://data.buenosaires.gob.ar/dataset/bicicletas-publicas\n",
    "\n",
    "Bajaremos el archivo \"Recorridos Realizados 2023 (ZIP)\", descomprimiremos el archivo csv presente (\"trips_2023.csv\")y lo alojamos dentro de la carpeta \"Colab Notebooks\" de nuestro Google Drive\n",
    "\n",
    "\n"
   ]
  },
  {
   "cell_type": "code",
   "execution_count": 25,
   "metadata": {
    "id": "Gq6t9H0zqK_b"
   },
   "outputs": [],
   "source": [
    "# En esta parte del código se debe modificar la ubicación correcta del google drive\n",
    "# bicis = pd.read_csv('/content/drive/MyDrive/Colab Notebooks/EPIO/Datos/trips_2023.csv')\n",
    "productos = pd.read_csv('./Fecom_Inc_Products.csv', sep=';')"
   ]
  },
  {
   "cell_type": "markdown",
   "metadata": {
    "id": "ZsFIfRt9u2E4"
   },
   "source": [
    "# 3. Análisis Exploratorio de Datos"
   ]
  },
  {
   "cell_type": "code",
   "execution_count": 26,
   "metadata": {
    "colab": {
     "base_uri": "https://localhost:8080/",
     "height": 604
    },
    "executionInfo": {
     "elapsed": 905,
     "status": "ok",
     "timestamp": 1729793773939,
     "user": {
      "displayName": "Edgardo Rubén FLECHA",
      "userId": "15102767123563609240"
     },
     "user_tz": 180
    },
    "id": "yeZH-wqUvgXW",
    "outputId": "5078cec5-c10a-4fae-8c9b-805b388631d3"
   },
   "outputs": [
    {
     "data": {
      "text/plain": [
       "pandas.core.frame.DataFrame"
      ]
     },
     "execution_count": 26,
     "metadata": {},
     "output_type": "execute_result"
    }
   ],
   "source": [
    "# Corroboramos que el tipo de dato de la variable \"bicis\" es un dataframe\n",
    "type(productos)"
   ]
  },
  {
   "cell_type": "code",
   "execution_count": 27,
   "metadata": {
    "colab": {
     "base_uri": "https://localhost:8080/",
     "height": 261
    },
    "executionInfo": {
     "elapsed": 383,
     "status": "ok",
     "timestamp": 1729803360817,
     "user": {
      "displayName": "Edgardo Rubén FLECHA",
      "userId": "15102767123563609240"
     },
     "user_tz": 180
    },
    "id": "X7Ltzoy-vxau",
    "outputId": "89710715-fefc-4fa8-c27a-e11c53b7a5aa"
   },
   "outputs": [
    {
     "data": {
      "text/html": [
       "<div>\n",
       "<style scoped>\n",
       "    .dataframe tbody tr th:only-of-type {\n",
       "        vertical-align: middle;\n",
       "    }\n",
       "\n",
       "    .dataframe tbody tr th {\n",
       "        vertical-align: top;\n",
       "    }\n",
       "\n",
       "    .dataframe thead th {\n",
       "        text-align: right;\n",
       "    }\n",
       "</style>\n",
       "<table border=\"1\" class=\"dataframe\">\n",
       "  <thead>\n",
       "    <tr style=\"text-align: right;\">\n",
       "      <th></th>\n",
       "      <th>Product_ID</th>\n",
       "      <th>Product_Category_Name</th>\n",
       "      <th>Product_Weight_Gr</th>\n",
       "      <th>Product_Length_Cm</th>\n",
       "      <th>Product_Height_Cm</th>\n",
       "      <th>Product_Width_Cm</th>\n",
       "    </tr>\n",
       "  </thead>\n",
       "  <tbody>\n",
       "    <tr>\n",
       "      <th>0</th>\n",
       "      <td>1e9e8ef04dbcff4541ed26657ea517e5</td>\n",
       "      <td>Perfumery</td>\n",
       "      <td>225.0</td>\n",
       "      <td>16.0</td>\n",
       "      <td>10.0</td>\n",
       "      <td>14.0</td>\n",
       "    </tr>\n",
       "    <tr>\n",
       "      <th>1</th>\n",
       "      <td>3aa071139cb16b67ca9e5dea641aaa2f</td>\n",
       "      <td>Art</td>\n",
       "      <td>1000.0</td>\n",
       "      <td>30.0</td>\n",
       "      <td>18.0</td>\n",
       "      <td>20.0</td>\n",
       "    </tr>\n",
       "    <tr>\n",
       "      <th>2</th>\n",
       "      <td>96bd76ec8810374ed1b65e291975717f</td>\n",
       "      <td>Sports_Leisure</td>\n",
       "      <td>154.0</td>\n",
       "      <td>18.0</td>\n",
       "      <td>9.0</td>\n",
       "      <td>15.0</td>\n",
       "    </tr>\n",
       "    <tr>\n",
       "      <th>3</th>\n",
       "      <td>cef67bcfe19066a932b7673e239eb23d</td>\n",
       "      <td>Baby</td>\n",
       "      <td>371.0</td>\n",
       "      <td>26.0</td>\n",
       "      <td>4.0</td>\n",
       "      <td>26.0</td>\n",
       "    </tr>\n",
       "    <tr>\n",
       "      <th>4</th>\n",
       "      <td>9dc1a7de274444849c219cff195d0b71</td>\n",
       "      <td>Housewares</td>\n",
       "      <td>625.0</td>\n",
       "      <td>20.0</td>\n",
       "      <td>17.0</td>\n",
       "      <td>13.0</td>\n",
       "    </tr>\n",
       "  </tbody>\n",
       "</table>\n",
       "</div>"
      ],
      "text/plain": [
       "                         Product_ID Product_Category_Name  Product_Weight_Gr  \\\n",
       "0  1e9e8ef04dbcff4541ed26657ea517e5             Perfumery              225.0   \n",
       "1  3aa071139cb16b67ca9e5dea641aaa2f                   Art             1000.0   \n",
       "2  96bd76ec8810374ed1b65e291975717f        Sports_Leisure              154.0   \n",
       "3  cef67bcfe19066a932b7673e239eb23d                  Baby              371.0   \n",
       "4  9dc1a7de274444849c219cff195d0b71            Housewares              625.0   \n",
       "\n",
       "   Product_Length_Cm  Product_Height_Cm  Product_Width_Cm  \n",
       "0               16.0               10.0              14.0  \n",
       "1               30.0               18.0              20.0  \n",
       "2               18.0                9.0              15.0  \n",
       "3               26.0                4.0              26.0  \n",
       "4               20.0               17.0              13.0  "
      ]
     },
     "execution_count": 27,
     "metadata": {},
     "output_type": "execute_result"
    }
   ],
   "source": [
    "# Primeras lineas de nuestro dataframe\n",
    "productos.head()"
   ]
  },
  {
   "cell_type": "code",
   "execution_count": null,
   "metadata": {
    "id": "29ZcswQTjJ3n"
   },
   "outputs": [],
   "source": []
  },
  {
   "cell_type": "code",
   "execution_count": 28,
   "metadata": {
    "colab": {
     "base_uri": "https://localhost:8080/"
    },
    "executionInfo": {
     "elapsed": 412,
     "status": "ok",
     "timestamp": 1729793920492,
     "user": {
      "displayName": "Edgardo Rubén FLECHA",
      "userId": "15102767123563609240"
     },
     "user_tz": 180
    },
    "id": "M3Wx6xmkwDrJ",
    "outputId": "44a9a770-2c3c-4bba-c953-1f92a7551b42"
   },
   "outputs": [
    {
     "data": {
      "text/plain": [
       "Index(['Product_ID', 'Product_Category_Name', 'Product_Weight_Gr',\n",
       "       'Product_Length_Cm', 'Product_Height_Cm', 'Product_Width_Cm'],\n",
       "      dtype='object')"
      ]
     },
     "execution_count": 28,
     "metadata": {},
     "output_type": "execute_result"
    }
   ],
   "source": [
    "# Si solo quiero los nombres de las columnas en formato lista\n",
    "productos.columns"
   ]
  },
  {
   "cell_type": "code",
   "execution_count": 29,
   "metadata": {
    "colab": {
     "base_uri": "https://localhost:8080/"
    },
    "executionInfo": {
     "elapsed": 362,
     "status": "ok",
     "timestamp": 1729793951323,
     "user": {
      "displayName": "Edgardo Rubén FLECHA",
      "userId": "15102767123563609240"
     },
     "user_tz": 180
    },
    "id": "mHXQW1FFwL_Z",
    "outputId": "482ca490-d489-491c-a47d-e63fcefbecfc"
   },
   "outputs": [
    {
     "data": {
      "text/plain": [
       "(32951, 6)"
      ]
     },
     "execution_count": 29,
     "metadata": {},
     "output_type": "execute_result"
    }
   ],
   "source": [
    "# Dimensionalidad del dataframe\n",
    "productos.shape"
   ]
  },
  {
   "cell_type": "code",
   "execution_count": 30,
   "metadata": {
    "colab": {
     "base_uri": "https://localhost:8080/",
     "height": 649
    },
    "executionInfo": {
     "elapsed": 422,
     "status": "ok",
     "timestamp": 1729794031786,
     "user": {
      "displayName": "Edgardo Rubén FLECHA",
      "userId": "15102767123563609240"
     },
     "user_tz": 180
    },
    "id": "DVv0WcpZwhRb",
    "outputId": "d19a0239-983c-49a2-cfce-cfc22cd8fa0b"
   },
   "outputs": [
    {
     "data": {
      "text/plain": [
       "Product_ID                object\n",
       "Product_Category_Name     object\n",
       "Product_Weight_Gr        float64\n",
       "Product_Length_Cm        float64\n",
       "Product_Height_Cm        float64\n",
       "Product_Width_Cm         float64\n",
       "dtype: object"
      ]
     },
     "execution_count": 30,
     "metadata": {},
     "output_type": "execute_result"
    }
   ],
   "source": [
    "# El tipo de dato de cada una de las columnas\n",
    "# Acá veo que 'duracion_recorrido', 'fecha_origen_recorrido' y 'fecha_destino_recorrido'\n",
    "# son de tipo object (texto) y no está bueno eso\n",
    "productos.dtypes"
   ]
  },
  {
   "cell_type": "markdown",
   "metadata": {
    "id": "C-rxg7E4BKWt"
   },
   "source": []
  },
  {
   "cell_type": "code",
   "execution_count": 31,
   "metadata": {
    "colab": {
     "base_uri": "https://localhost:8080/",
     "height": 458
    },
    "executionInfo": {
     "elapsed": 359,
     "status": "ok",
     "timestamp": 1729803553464,
     "user": {
      "displayName": "Edgardo Rubén FLECHA",
      "userId": "15102767123563609240"
     },
     "user_tz": 180
    },
    "id": "4DjyC_Tfw7aL",
    "outputId": "73c869f5-84b7-4e35-ebf3-22652163d647"
   },
   "outputs": [
    {
     "data": {
      "text/plain": [
       "0        14.0\n",
       "1        20.0\n",
       "2        15.0\n",
       "3        26.0\n",
       "4        13.0\n",
       "         ... \n",
       "32946    40.0\n",
       "32947    16.0\n",
       "32948    27.0\n",
       "32949    20.0\n",
       "32950     7.0\n",
       "Name: Product_Width_Cm, Length: 32951, dtype: float64"
      ]
     },
     "execution_count": 31,
     "metadata": {},
     "output_type": "execute_result"
    }
   ],
   "source": [
    "# Para acceder a una columna específica puedo usar el operador punto:\n",
    "productos.Product_Width_Cm"
   ]
  },
  {
   "cell_type": "code",
   "execution_count": 32,
   "metadata": {
    "id": "378tyPFPU6Qk"
   },
   "outputs": [
    {
     "data": {
      "text/plain": [
       "0        14.0\n",
       "1        20.0\n",
       "2        15.0\n",
       "3        26.0\n",
       "4        13.0\n",
       "         ... \n",
       "32946    40.0\n",
       "32947    16.0\n",
       "32948    27.0\n",
       "32949    20.0\n",
       "32950     7.0\n",
       "Name: Product_Width_Cm, Length: 32951, dtype: float64"
      ]
     },
     "execution_count": 32,
     "metadata": {},
     "output_type": "execute_result"
    }
   ],
   "source": [
    "# O el operador corchete:\n",
    "productos['Product_Width_Cm']"
   ]
  },
  {
   "cell_type": "markdown",
   "metadata": {
    "id": "szb9X_miBNJh"
   },
   "source": [
    "# 5. Cálculo de FDPS"
   ]
  },
  {
   "cell_type": "code",
   "execution_count": 33,
   "metadata": {
    "id": "mPCxdh79BVlB"
   },
   "outputs": [],
   "source": [
    "# En una variable preparar la columna del df que quiero ajustar\n",
    "# fdp_constitucion_hora = Fitter(productos.Product_Width_Cm)\n",
    "# Filtrar a algunas distribuciones típicas (cambiá esta lista según lo que necesites)\n",
    "# fdp_constitucion_hora = Fitter(productos['Product_Width_Cm'],\n",
    "        #    distributions=['norm', 'expon', 'gamma', 'lognorm', 'uniform'])\n",
    "fdp_constitucion_hora = Fitter(productos['Product_Height_Cm'].dropna().values)  # segundos\n",
    "# fdp_constitucion_hora.fit()\n",
    "# fdp_constitucion_hora.summary()\n"
   ]
  },
  {
   "cell_type": "code",
   "execution_count": 34,
   "metadata": {
    "id": "RnStYz_WBz5G"
   },
   "outputs": [
    {
     "name": "stderr",
     "output_type": "stream",
     "text": [
      "2025-04-30 04:29:28.855 | WARNING  | fitter.fitter:_fit_single_distribution:337 - SKIPPED _fit distribution (taking more than 30 seconds)\n",
      "2025-04-30 04:29:28.926 | INFO     | fitter.fitter:_fit_single_distribution:333 - Fitted alpha distribution with error=0.016397)\n",
      "2025-04-30 04:29:28.960 | INFO     | fitter.fitter:_fit_single_distribution:333 - Fitted anglit distribution with error=0.026128)\n",
      "2025-04-30 04:29:29.130 | INFO     | fitter.fitter:_fit_single_distribution:333 - Fitted arcsine distribution with error=0.02381)\n",
      "2025-04-30 04:29:29.360 | INFO     | fitter.fitter:_fit_single_distribution:333 - Fitted bradford distribution with error=0.010984)\n",
      "2025-04-30 04:29:29.452 | INFO     | fitter.fitter:_fit_single_distribution:333 - Fitted cauchy distribution with error=0.010185)\n",
      "2025-04-30 04:29:29.776 | INFO     | fitter.fitter:_fit_single_distribution:333 - Fitted chi distribution with error=0.007045)\n",
      "2025-04-30 04:29:29.850 | INFO     | fitter.fitter:_fit_single_distribution:333 - Fitted betaprime distribution with error=0.006688)\n",
      "2025-04-30 04:29:30.047 | INFO     | fitter.fitter:_fit_single_distribution:333 - Fitted crystalball distribution with error=0.012779)\n",
      "2025-04-30 04:29:30.082 | INFO     | fitter.fitter:_fit_single_distribution:333 - Fitted chi2 distribution with error=0.006652)\n",
      "2025-04-30 04:29:30.157 | INFO     | fitter.fitter:_fit_single_distribution:333 - Fitted dgamma distribution with error=0.009158)\n",
      "2025-04-30 04:29:30.226 | INFO     | fitter.fitter:_fit_single_distribution:333 - Fitted cosine distribution with error=0.023561)\n",
      "2025-04-30 04:29:30.374 | INFO     | fitter.fitter:_fit_single_distribution:333 - Fitted argus distribution with error=0.029793)\n",
      "2025-04-30 04:29:30.534 | INFO     | fitter.fitter:_fit_single_distribution:333 - Fitted burr12 distribution with error=0.006561)\n",
      "2025-04-30 04:29:30.585 | INFO     | fitter.fitter:_fit_single_distribution:333 - Fitted erlang distribution with error=0.006652)\n",
      "2025-04-30 04:29:30.589 | INFO     | fitter.fitter:_fit_single_distribution:333 - Fitted expon distribution with error=0.007189)\n",
      "2025-04-30 04:29:31.024 | INFO     | fitter.fitter:_fit_single_distribution:333 - Fitted fatiguelife distribution with error=0.007312)\n",
      "2025-04-30 04:29:31.654 | INFO     | fitter.fitter:_fit_single_distribution:333 - Fitted burr distribution with error=0.006156)\n",
      "2025-04-30 04:29:31.782 | INFO     | fitter.fitter:_fit_single_distribution:333 - Fitted fisk distribution with error=0.007577)\n",
      "2025-04-30 04:29:31.976 | INFO     | fitter.fitter:_fit_single_distribution:333 - Fitted gamma distribution with error=0.006652)\n",
      "2025-04-30 04:29:31.983 | INFO     | fitter.fitter:_fit_single_distribution:333 - Fitted foldcauchy distribution with error=0.006626)\n",
      "2025-04-30 04:29:31.989 | INFO     | fitter.fitter:_fit_single_distribution:333 - Fitted exponweib distribution with error=0.038027)\n",
      "2025-04-30 04:29:32.230 | INFO     | fitter.fitter:_fit_single_distribution:333 - Fitted foldnorm distribution with error=0.007076)\n",
      "2025-04-30 04:29:32.607 | INFO     | fitter.fitter:_fit_single_distribution:333 - Fitted beta distribution with error=0.007129)\n",
      "2025-04-30 04:29:32.711 | INFO     | fitter.fitter:_fit_single_distribution:333 - Fitted f distribution with error=0.006652)\n",
      "2025-04-30 04:29:32.951 | INFO     | fitter.fitter:_fit_single_distribution:333 - Fitted exponnorm distribution with error=0.00803)\n",
      "2025-04-30 04:29:33.095 | INFO     | fitter.fitter:_fit_single_distribution:333 - Fitted genexpon distribution with error=0.006284)\n",
      "2025-04-30 04:29:33.589 | INFO     | fitter.fitter:_fit_single_distribution:333 - Fitted dpareto_lognorm distribution with error=0.007376)\n",
      "2025-04-30 04:29:33.742 | INFO     | fitter.fitter:_fit_single_distribution:333 - Fitted dweibull distribution with error=0.009869)\n",
      "2025-04-30 04:29:34.124 | INFO     | fitter.fitter:_fit_single_distribution:333 - Fitted genextreme distribution with error=0.007594)\n",
      "2025-04-30 04:29:34.262 | INFO     | fitter.fitter:_fit_single_distribution:333 - Fitted genlogistic distribution with error=0.008294)\n",
      "2025-04-30 04:29:34.623 | INFO     | fitter.fitter:_fit_single_distribution:333 - Fitted gennorm distribution with error=0.010367)\n",
      "2025-04-30 04:29:34.909 | INFO     | fitter.fitter:_fit_single_distribution:333 - Fitted gompertz distribution with error=0.006785)\n",
      "2025-04-30 04:29:35.029 | INFO     | fitter.fitter:_fit_single_distribution:333 - Fitted exponpow distribution with error=0.008348)\n",
      "2025-04-30 04:29:35.034 | INFO     | fitter.fitter:_fit_single_distribution:333 - Fitted gumbel_l distribution with error=0.019744)\n",
      "2025-04-30 04:29:35.090 | INFO     | fitter.fitter:_fit_single_distribution:333 - Fitted genpareto distribution with error=0.006863)\n",
      "2025-04-30 04:29:35.171 | INFO     | fitter.fitter:_fit_single_distribution:333 - Fitted gibrat distribution with error=0.008119)\n",
      "2025-04-30 04:29:35.179 | INFO     | fitter.fitter:_fit_single_distribution:333 - Fitted halfnorm distribution with error=0.007076)\n",
      "2025-04-30 04:29:35.237 | INFO     | fitter.fitter:_fit_single_distribution:333 - Fitted hypsecant distribution with error=0.009829)\n",
      "2025-04-30 04:29:35.462 | INFO     | fitter.fitter:_fit_single_distribution:333 - Fitted halfgennorm distribution with error=0.012489)\n",
      "2025-04-30 04:29:35.520 | INFO     | fitter.fitter:_fit_single_distribution:333 - Fitted invgamma distribution with error=0.007515)\n",
      "2025-04-30 04:29:35.652 | INFO     | fitter.fitter:_fit_single_distribution:333 - Fitted halflogistic distribution with error=0.006205)\n",
      "2025-04-30 04:29:35.701 | INFO     | fitter.fitter:_fit_single_distribution:333 - Fitted gumbel_r distribution with error=0.008291)\n",
      "2025-04-30 04:29:35.798 | INFO     | fitter.fitter:_fit_single_distribution:333 - Fitted invgauss distribution with error=0.007367)\n",
      "2025-04-30 04:29:35.804 | INFO     | fitter.fitter:_fit_single_distribution:333 - Fitted halfcauchy distribution with error=0.008001)\n",
      "2025-04-30 04:29:35.900 | WARNING  | fitter.fitter:_fit_single_distribution:337 - SKIPPED irwinhall distribution (taking more than 30 seconds)\n",
      "2025-04-30 04:29:36.411 | INFO     | fitter.fitter:_fit_single_distribution:333 - Fitted johnsonsb distribution with error=0.007298)\n",
      "2025-04-30 04:29:36.580 | INFO     | fitter.fitter:_fit_single_distribution:333 - Fitted invweibull distribution with error=0.007594)\n",
      "2025-04-30 04:29:37.420 | INFO     | fitter.fitter:_fit_single_distribution:333 - Fitted johnsonsu distribution with error=0.007377)\n",
      "2025-04-30 04:29:37.423 | INFO     | fitter.fitter:_fit_single_distribution:333 - Fitted kappa3 distribution with error=0.006009)\n",
      "2025-04-30 04:29:37.479 | INFO     | fitter.fitter:_fit_single_distribution:333 - Fitted ksone distribution with error=0.028355)\n",
      "2025-04-30 04:29:37.584 | WARNING  | fitter.fitter:_fit_single_distribution:337 - SKIPPED kstwo distribution (taking more than 30 seconds)\n",
      "2025-04-30 04:29:37.875 | INFO     | fitter.fitter:_fit_single_distribution:333 - Fitted kstwobign distribution with error=0.00884)\n",
      "2025-04-30 04:29:38.068 | INFO     | fitter.fitter:_fit_single_distribution:333 - Fitted landau distribution with error=0.008163)\n",
      "2025-04-30 04:29:38.073 | INFO     | fitter.fitter:_fit_single_distribution:333 - Fitted laplace distribution with error=0.00955)\n",
      "2025-04-30 04:29:38.173 | INFO     | fitter.fitter:_fit_single_distribution:333 - Fitted laplace_asymmetric distribution with error=0.009197)\n",
      "2025-04-30 04:29:38.335 | INFO     | fitter.fitter:_fit_single_distribution:333 - Fitted levy distribution with error=0.012157)\n",
      "2025-04-30 04:29:38.430 | INFO     | fitter.fitter:_fit_single_distribution:333 - Fitted levy_l distribution with error=0.033758)\n",
      "2025-04-30 04:29:38.996 | INFO     | fitter.fitter:_fit_single_distribution:333 - Fitted kappa4 distribution with error=0.025009)\n",
      "2025-04-30 04:29:39.195 | INFO     | fitter.fitter:_fit_single_distribution:333 - Fitted loggamma distribution with error=0.013063)\n",
      "2025-04-30 04:29:39.279 | INFO     | fitter.fitter:_fit_single_distribution:333 - Fitted logistic distribution with error=0.010397)\n",
      "2025-04-30 04:29:39.597 | INFO     | fitter.fitter:_fit_single_distribution:333 - Fitted loglaplace distribution with error=0.008561)\n",
      "2025-04-30 04:29:39.724 | INFO     | fitter.fitter:_fit_single_distribution:333 - Fitted lognorm distribution with error=0.007376)\n",
      "2025-04-30 04:29:39.915 | INFO     | fitter.fitter:_fit_single_distribution:333 - Fitted loguniform distribution with error=0.011532)\n",
      "2025-04-30 04:29:39.986 | INFO     | fitter.fitter:_fit_single_distribution:333 - Fitted gengamma distribution with error=0.014123)\n",
      "2025-04-30 04:29:40.140 | INFO     | fitter.fitter:_fit_single_distribution:333 - Fitted lomax distribution with error=0.007353)\n",
      "2025-04-30 04:29:40.167 | INFO     | fitter.fitter:_fit_single_distribution:333 - Fitted maxwell distribution with error=0.010863)\n",
      "2025-04-30 04:29:41.519 | INFO     | fitter.fitter:_fit_single_distribution:333 - Fitted mielke distribution with error=0.006219)\n",
      "2025-04-30 04:29:41.635 | INFO     | fitter.fitter:_fit_single_distribution:333 - Fitted moyal distribution with error=0.007673)\n",
      "2025-04-30 04:29:41.643 | WARNING  | fitter.fitter:_fit_single_distribution:337 - SKIPPED multivariate_normal distribution (taking more than 30 seconds)\n",
      "2025-04-30 04:29:41.926 | INFO     | fitter.fitter:_fit_single_distribution:333 - Fitted nakagami distribution with error=0.007151)\n",
      "2025-04-30 04:29:45.933 | INFO     | fitter.fitter:_fit_single_distribution:333 - Fitted genhalflogistic distribution with error=0.00629)\n",
      "2025-04-30 04:29:46.308 | INFO     | fitter.fitter:_fit_single_distribution:333 - Fitted jf_skew_t distribution with error=0.007597)\n",
      "2025-04-30 04:29:48.948 | INFO     | fitter.fitter:_fit_single_distribution:333 - Fitted ncf distribution with error=0.006283)\n",
      "2025-04-30 04:29:48.984 | INFO     | fitter.fitter:_fit_single_distribution:333 - Fitted norm distribution with error=0.012779)\n",
      "/home/daniel/miniconda3/envs/simulacion/lib/python3.13/site-packages/scipy/stats/_continuous_distns.py:4112: IntegrationWarning: The integral is probably divergent, or slowly convergent.\n",
      "  intgrl = integrate.quad(llc, x0, x1,\n",
      "/home/daniel/miniconda3/envs/simulacion/lib/python3.13/site-packages/scipy/stats/_continuous_distns.py:4107: IntegrationWarning: The integral is probably divergent, or slowly convergent.\n",
      "  intgrl = (integrate.quad(llc, x0, mean,\n",
      "2025-04-30 04:30:05.553 | INFO     | fitter.fitter:_fit_single_distribution:333 - Fitted gausshyper distribution with error=0.015425)\n",
      "2025-04-30 04:30:05.646 | INFO     | fitter.fitter:_fit_single_distribution:333 - Fitted pareto distribution with error=0.007189)\n",
      "2025-04-30 04:30:06.124 | INFO     | fitter.fitter:_fit_single_distribution:333 - Fitted pearson3 distribution with error=0.006652)\n",
      "2025-04-30 04:30:06.281 | INFO     | fitter.fitter:_fit_single_distribution:333 - Fitted powerlaw distribution with error=0.018611)\n",
      "2025-04-30 04:30:08.173 | INFO     | fitter.fitter:_fit_single_distribution:333 - Fitted powerlognorm distribution with error=0.006995)\n",
      "2025-04-30 04:30:08.770 | WARNING  | fitter.fitter:_fit_single_distribution:337 - SKIPPED levy_stable distribution (taking more than 30 seconds)\n",
      "2025-04-30 04:30:08.825 | INFO     | fitter.fitter:_fit_single_distribution:333 - Fitted powernorm distribution with error=nan)\n",
      "2025-04-30 04:30:09.010 | INFO     | fitter.fitter:_fit_single_distribution:333 - Fitted rayleigh distribution with error=0.010314)\n",
      "2025-04-30 04:30:09.432 | INFO     | fitter.fitter:_fit_single_distribution:333 - Fitted rdist distribution with error=0.012798)\n",
      "2025-04-30 04:30:09.550 | INFO     | fitter.fitter:_fit_single_distribution:333 - Fitted reciprocal distribution with error=0.011532)\n",
      "2025-04-30 04:30:09.575 | INFO     | fitter.fitter:_fit_single_distribution:333 - Fitted genhyperbolic distribution with error=0.006649)\n",
      "2025-04-30 04:30:10.122 | INFO     | fitter.fitter:_fit_single_distribution:333 - Fitted rel_breitwigner distribution with error=0.006153)\n",
      "2025-04-30 04:30:10.493 | INFO     | fitter.fitter:_fit_single_distribution:333 - Fitted rice distribution with error=0.010314)\n",
      "2025-04-30 04:30:10.495 | WARNING  | fitter.fitter:_fit_single_distribution:337 - SKIPPED rv_continuous distribution (taking more than 30 seconds)\n",
      "2025-04-30 04:30:10.497 | WARNING  | fitter.fitter:_fit_single_distribution:337 - SKIPPED rv_histogram distribution (taking more than 30 seconds)\n",
      "2025-04-30 04:30:10.582 | INFO     | fitter.fitter:_fit_single_distribution:333 - Fitted semicircular distribution with error=0.028055)\n",
      "2025-04-30 04:30:10.738 | INFO     | fitter.fitter:_fit_single_distribution:333 - Fitted skewcauchy distribution with error=0.009785)\n",
      "2025-04-30 04:30:11.655 | INFO     | fitter.fitter:_fit_single_distribution:333 - Fitted skewnorm distribution with error=0.007077)\n",
      "2025-04-30 04:30:13.184 | INFO     | fitter.fitter:_fit_single_distribution:333 - Fitted recipinvgauss distribution with error=0.007228)\n",
      "2025-04-30 04:30:16.315 | WARNING  | fitter.fitter:_fit_single_distribution:337 - SKIPPED nct distribution (taking more than 30 seconds)\n",
      "/home/daniel/miniconda3/envs/simulacion/lib/python3.13/site-packages/scipy/integrate/_quadpack_py.py:1260: IntegrationWarning: The maximum number of subdivisions (50) has been achieved.\n",
      "  If increasing the limit yields no improvement it is advised to analyze \n",
      "  the integrand in order to determine the difficulties.  If the position of a \n",
      "  local difficulty can be determined (singularity, discontinuity) one will \n",
      "  probably gain from splitting up the interval and calling the integrator \n",
      "  on the subranges.  Perhaps a special-purpose integrator should be used.\n",
      "  quad_r = quad(f, low, high, args=args, full_output=self.full_output,\n",
      "2025-04-30 04:30:16.990 | WARNING  | fitter.fitter:_fit_single_distribution:337 - SKIPPED ncx2 distribution (taking more than 30 seconds)\n",
      "2025-04-30 04:30:18.664 | INFO     | fitter.fitter:_fit_single_distribution:333 - Fitted t distribution with error=0.009422)\n",
      "2025-04-30 04:30:18.992 | INFO     | fitter.fitter:_fit_single_distribution:333 - Fitted trapz distribution with error=0.039176)\n",
      "2025-04-30 04:30:18.993 | INFO     | fitter.fitter:_fit_single_distribution:333 - Fitted trapezoid distribution with error=0.039176)\n",
      "2025-04-30 04:30:19.815 | INFO     | fitter.fitter:_fit_single_distribution:333 - Fitted triang distribution with error=0.01787)\n",
      "/home/daniel/miniconda3/envs/simulacion/lib/python3.13/site-packages/scipy/integrate/_quadpack_py.py:1260: IntegrationWarning: The integral is probably divergent, or slowly convergent.\n",
      "  quad_r = quad(f, low, high, args=args, full_output=self.full_output,\n",
      "2025-04-30 04:30:20.744 | INFO     | fitter.fitter:_fit_single_distribution:333 - Fitted truncpareto distribution with error=0.007191)\n",
      "2025-04-30 04:30:21.200 | INFO     | fitter.fitter:_fit_single_distribution:333 - Fitted truncexpon distribution with error=0.021045)\n",
      "2025-04-30 04:30:22.469 | INFO     | fitter.fitter:_fit_single_distribution:333 - Fitted geninvgauss distribution with error=0.006652)\n",
      "2025-04-30 04:30:22.520 | INFO     | fitter.fitter:_fit_single_distribution:333 - Fitted uniform distribution with error=0.028093)\n",
      "2025-04-30 04:30:22.544 | INFO     | fitter.fitter:_fit_single_distribution:333 - Fitted vonmises distribution with error=2.296782)\n",
      "2025-04-30 04:30:22.546 | WARNING  | fitter.fitter:_fit_single_distribution:337 - SKIPPED vonmises_fisher distribution (taking more than 30 seconds)\n",
      "2025-04-30 04:30:23.028 | INFO     | fitter.fitter:_fit_single_distribution:333 - Fitted vonmises_line distribution with error=0.011777)\n",
      "2025-04-30 04:30:23.415 | INFO     | fitter.fitter:_fit_single_distribution:333 - Fitted wald distribution with error=0.008187)\n",
      "2025-04-30 04:30:23.504 | INFO     | fitter.fitter:_fit_single_distribution:333 - Fitted truncweibull_min distribution with error=0.01255)\n",
      "2025-04-30 04:30:23.551 | INFO     | fitter.fitter:_fit_single_distribution:333 - Fitted truncnorm distribution with error=0.006654)\n",
      "2025-04-30 04:30:24.087 | INFO     | fitter.fitter:_fit_single_distribution:333 - Fitted weibull_max distribution with error=0.0608)\n",
      "2025-04-30 04:30:24.323 | INFO     | fitter.fitter:_fit_single_distribution:333 - Fitted wrapcauchy distribution with error=0.022132)\n",
      "2025-04-30 04:30:26.645 | INFO     | fitter.fitter:_fit_single_distribution:333 - Fitted weibull_min distribution with error=0.015303)\n",
      "2025-04-30 04:30:28.423 | INFO     | fitter.fitter:_fit_single_distribution:333 - Fitted norminvgauss distribution with error=0.007358)\n",
      "2025-04-30 04:30:41.695 | WARNING  | fitter.fitter:_fit_single_distribution:337 - SKIPPED studentized_range distribution (taking more than 30 seconds)\n",
      "2025-04-30 04:30:51.998 | WARNING  | fitter.fitter:_fit_single_distribution:337 - SKIPPED tukeylambda distribution (taking more than 30 seconds)\n"
     ]
    }
   ],
   "source": [
    "# Con el método fit() ajusta mis datos a las 80 distribuciones de SciPy\n",
    "fdp_constitucion_hora.fit()"
   ]
  },
  {
   "cell_type": "code",
   "execution_count": 35,
   "metadata": {
    "colab": {
     "base_uri": "https://localhost:8080/",
     "height": 776
    },
    "executionInfo": {
     "elapsed": 3154,
     "status": "ok",
     "timestamp": 1729799047470,
     "user": {
      "displayName": "Edgardo Rubén FLECHA",
      "userId": "15102767123563609240"
     },
     "user_tz": 180
    },
    "id": "X5RVOghgDqNl",
    "outputId": "48d8efb9-37af-4734-c794-b6e7b606000a"
   },
   "outputs": [
    {
     "data": {
      "text/html": [
       "<div>\n",
       "<style scoped>\n",
       "    .dataframe tbody tr th:only-of-type {\n",
       "        vertical-align: middle;\n",
       "    }\n",
       "\n",
       "    .dataframe tbody tr th {\n",
       "        vertical-align: top;\n",
       "    }\n",
       "\n",
       "    .dataframe thead th {\n",
       "        text-align: right;\n",
       "    }\n",
       "</style>\n",
       "<table border=\"1\" class=\"dataframe\">\n",
       "  <thead>\n",
       "    <tr style=\"text-align: right;\">\n",
       "      <th></th>\n",
       "      <th>sumsquare_error</th>\n",
       "      <th>aic</th>\n",
       "      <th>bic</th>\n",
       "      <th>kl_div</th>\n",
       "      <th>ks_statistic</th>\n",
       "      <th>ks_pvalue</th>\n",
       "    </tr>\n",
       "  </thead>\n",
       "  <tbody>\n",
       "    <tr>\n",
       "      <th>kappa3</th>\n",
       "      <td>0.006009</td>\n",
       "      <td>1264.560216</td>\n",
       "      <td>1289.768365</td>\n",
       "      <td>inf</td>\n",
       "      <td>0.060821</td>\n",
       "      <td>2.140812e-106</td>\n",
       "    </tr>\n",
       "    <tr>\n",
       "      <th>rel_breitwigner</th>\n",
       "      <td>0.006153</td>\n",
       "      <td>1291.834661</td>\n",
       "      <td>1317.042810</td>\n",
       "      <td>inf</td>\n",
       "      <td>0.057291</td>\n",
       "      <td>1.912684e-94</td>\n",
       "    </tr>\n",
       "    <tr>\n",
       "      <th>burr</th>\n",
       "      <td>0.006156</td>\n",
       "      <td>1387.901571</td>\n",
       "      <td>1421.512436</td>\n",
       "      <td>inf</td>\n",
       "      <td>0.110686</td>\n",
       "      <td>0.000000e+00</td>\n",
       "    </tr>\n",
       "    <tr>\n",
       "      <th>halflogistic</th>\n",
       "      <td>0.006205</td>\n",
       "      <td>1334.697507</td>\n",
       "      <td>1351.502940</td>\n",
       "      <td>inf</td>\n",
       "      <td>0.063979</td>\n",
       "      <td>1.073541e-117</td>\n",
       "    </tr>\n",
       "    <tr>\n",
       "      <th>mielke</th>\n",
       "      <td>0.006219</td>\n",
       "      <td>1255.832526</td>\n",
       "      <td>1289.443390</td>\n",
       "      <td>inf</td>\n",
       "      <td>0.101974</td>\n",
       "      <td>9.603125e-299</td>\n",
       "    </tr>\n",
       "    <tr>\n",
       "      <th>ncf</th>\n",
       "      <td>0.006283</td>\n",
       "      <td>1224.149924</td>\n",
       "      <td>1266.163505</td>\n",
       "      <td>inf</td>\n",
       "      <td>0.101487</td>\n",
       "      <td>6.756811e-296</td>\n",
       "    </tr>\n",
       "    <tr>\n",
       "      <th>genexpon</th>\n",
       "      <td>0.006284</td>\n",
       "      <td>1299.787683</td>\n",
       "      <td>1341.801264</td>\n",
       "      <td>inf</td>\n",
       "      <td>0.063861</td>\n",
       "      <td>2.905072e-117</td>\n",
       "    </tr>\n",
       "    <tr>\n",
       "      <th>genhalflogistic</th>\n",
       "      <td>0.006290</td>\n",
       "      <td>1314.661183</td>\n",
       "      <td>1339.869331</td>\n",
       "      <td>inf</td>\n",
       "      <td>0.077795</td>\n",
       "      <td>6.920483e-174</td>\n",
       "    </tr>\n",
       "    <tr>\n",
       "      <th>burr12</th>\n",
       "      <td>0.006561</td>\n",
       "      <td>1277.643802</td>\n",
       "      <td>1311.254666</td>\n",
       "      <td>inf</td>\n",
       "      <td>0.076933</td>\n",
       "      <td>4.648831e-170</td>\n",
       "    </tr>\n",
       "    <tr>\n",
       "      <th>foldcauchy</th>\n",
       "      <td>0.006626</td>\n",
       "      <td>1183.308174</td>\n",
       "      <td>1208.516322</td>\n",
       "      <td>inf</td>\n",
       "      <td>0.062136</td>\n",
       "      <td>4.942881e-111</td>\n",
       "    </tr>\n",
       "  </tbody>\n",
       "</table>\n",
       "</div>"
      ],
      "text/plain": [
       "                 sumsquare_error          aic          bic  kl_div  \\\n",
       "kappa3                  0.006009  1264.560216  1289.768365     inf   \n",
       "rel_breitwigner         0.006153  1291.834661  1317.042810     inf   \n",
       "burr                    0.006156  1387.901571  1421.512436     inf   \n",
       "halflogistic            0.006205  1334.697507  1351.502940     inf   \n",
       "mielke                  0.006219  1255.832526  1289.443390     inf   \n",
       "ncf                     0.006283  1224.149924  1266.163505     inf   \n",
       "genexpon                0.006284  1299.787683  1341.801264     inf   \n",
       "genhalflogistic         0.006290  1314.661183  1339.869331     inf   \n",
       "burr12                  0.006561  1277.643802  1311.254666     inf   \n",
       "foldcauchy              0.006626  1183.308174  1208.516322     inf   \n",
       "\n",
       "                 ks_statistic      ks_pvalue  \n",
       "kappa3               0.060821  2.140812e-106  \n",
       "rel_breitwigner      0.057291   1.912684e-94  \n",
       "burr                 0.110686   0.000000e+00  \n",
       "halflogistic         0.063979  1.073541e-117  \n",
       "mielke               0.101974  9.603125e-299  \n",
       "ncf                  0.101487  6.756811e-296  \n",
       "genexpon             0.063861  2.905072e-117  \n",
       "genhalflogistic      0.077795  6.920483e-174  \n",
       "burr12               0.076933  4.648831e-170  \n",
       "foldcauchy           0.062136  4.942881e-111  "
      ]
     },
     "execution_count": 35,
     "metadata": {},
     "output_type": "execute_result"
    },
    {
     "data": {
      "image/png": "[encoded data removed]",
      "text/plain": [
       "<Figure size 640x480 with 1 Axes>"
      ]
     },
     "metadata": {},
     "output_type": "display_data"
    }
   ],
   "source": [
    "# Summary me muestra el resumen de los mejores ajustes\n",
    "fdp_constitucion_hora.summary(10)"
   ]
  },
  {
   "cell_type": "markdown",
   "metadata": {
    "id": "R2qalcH4BFRu"
   },
   "source": []
  },
  {
   "cell_type": "markdown",
   "metadata": {
    "id": "WpvSV5JNESIT"
   },
   "source": [
    "# 6. Simulacion"
   ]
  },
  {
   "cell_type": "code",
   "execution_count": 36,
   "metadata": {
    "colab": {
     "base_uri": "https://localhost:8080/"
    },
    "executionInfo": {
     "elapsed": 416,
     "status": "ok",
     "timestamp": 1729799273571,
     "user": {
      "displayName": "Edgardo Rubén FLECHA",
      "userId": "15102767123563609240"
     },
     "user_tz": 180
    },
    "id": "oudlShQ8EWqL",
    "outputId": "13029790-0bc6-4349-fc42-eceafcb95461"
   },
   "outputs": [
    {
     "data": {
      "text/plain": [
       "{'kappa3': {'a': 2.9822833513253957,\n",
       "  'loc': 1.999999998627227,\n",
       "  'scale': 15.155271423211087}}"
      ]
     },
     "execution_count": 36,
     "metadata": {},
     "output_type": "execute_result"
    }
   ],
   "source": [
    "# get_best me devuelve la mejor distribución de acuerdo al criterio que le indico y sus parámetros\n",
    "fdp_constitucion_hora.get_best(method='sumsquare_error')"
   ]
  },
  {
   "cell_type": "markdown",
   "metadata": {
    "id": "-VjpLixIJHRt"
   },
   "source": []
  },
  {
   "cell_type": "code",
   "execution_count": 37,
   "metadata": {
    "colab": {
     "base_uri": "https://localhost:8080/"
    },
    "executionInfo": {
     "elapsed": 354,
     "status": "ok",
     "timestamp": 1729800476631,
     "user": {
      "displayName": "Edgardo Rubén FLECHA",
      "userId": "15102767123563609240"
     },
     "user_tz": 180
    },
    "id": "erYaoWSqJD5I",
    "outputId": "21a34aef-4184-425e-b27f-51c0ed0ebd30"
   },
   "outputs": [
    {
     "data": {
      "text/plain": [
       "{'fisk': {'c': 2.3184590230603397,\n",
       "  'loc': -0.28515922151568746,\n",
       "  'scale': 13.40184052191875}}"
      ]
     },
     "execution_count": 37,
     "metadata": {},
     "output_type": "execute_result"
    }
   ],
   "source": [
    "fdp_constitucion_hora.get_best(method='ks_statistic')"
   ]
  },
  {
   "cell_type": "code",
   "execution_count": 38,
   "metadata": {
    "id": "KW1s6Kk9Eu8m"
   },
   "outputs": [],
   "source": [
    "# Para simular, guardo los valores de los parámetros en 4 variables\n",
    "dfn = 10.210149046195188\n",
    "dfd = 24.449261873976212\n",
    "loc = -0.210629715477468\n",
    "scale =  15.900756775955681"
   ]
  },
  {
   "cell_type": "code",
   "execution_count": 39,
   "metadata": {
    "id": "ORrhepOfFP2v"
   },
   "outputs": [],
   "source": [
    "# Gracias al método rvs del módulo stats de Scipy, puedo generar datos\n",
    "# con los parámetros que me dio Fitter\n",
    "fdp_f = stats.f.rvs(dfn, dfd, loc=loc, scale=scale, size=35000)"
   ]
  },
  {
   "cell_type": "code",
   "execution_count": 40,
   "metadata": {
    "colab": {
     "base_uri": "https://localhost:8080/"
    },
    "executionInfo": {
     "elapsed": 362,
     "status": "ok",
     "timestamp": 1729799570370,
     "user": {
      "displayName": "Edgardo Rubén FLECHA",
      "userId": "15102767123563609240"
     },
     "user_tz": 180
    },
    "id": "N_oLygX_FlJF",
    "outputId": "b3269a29-7dfb-4eb7-d133-604f53fca5c6"
   },
   "outputs": [
    {
     "data": {
      "text/plain": [
       "array([22.27406215, 17.37614748, 10.09498598, ..., 36.28481935,\n",
       "       44.22828299, 24.82309087])"
      ]
     },
     "execution_count": 40,
     "metadata": {},
     "output_type": "execute_result"
    }
   ],
   "source": [
    "# Esta variable es un array de Numpy con valores similares a mis datos de origen\n",
    "fdp_f"
   ]
  },
  {
   "cell_type": "code",
   "execution_count": 41,
   "metadata": {
    "colab": {
     "base_uri": "https://localhost:8080/",
     "height": 472
    },
    "executionInfo": {
     "elapsed": 1352,
     "status": "ok",
     "timestamp": 1729799742739,
     "user": {
      "displayName": "Edgardo Rubén FLECHA",
      "userId": "15102767123563609240"
     },
     "user_tz": 180
    },
    "id": "RflN2CuRF68i",
    "outputId": "f27163f5-d1f7-4b6c-e247-4b9fb07baa2b"
   },
   "outputs": [
    {
     "data": {
      "image/png": "[encoded data removed]",
      "text/plain": [
       "<Figure size 640x480 with 1 Axes>"
      ]
     },
     "metadata": {},
     "output_type": "display_data"
    }
   ],
   "source": [
    "# Histograma de datos de verificación\n",
    "plt.title(\"Histograma\")\n",
    "plt.xlabel(\"X axis\")\n",
    "plt.ylabel(\"Y axis\")\n",
    "plt.xlim(0, 60)\n",
    "plt.ylim(0, 1300)\n",
    "plt.hist(fdp_f, bins=150)\n",
    "plt.show()"
   ]
  },
  {
   "cell_type": "code",
   "execution_count": null,
   "metadata": {
    "id": "HfCkMErrKiOl"
   },
   "outputs": [],
   "source": []
  },
  {
   "cell_type": "code",
   "execution_count": null,
   "metadata": {},
   "outputs": [],
   "source": []
  },
  {
   "cell_type": "code",
   "execution_count": null,
   "metadata": {},
   "outputs": [],
   "source": []
  },
  {
   "cell_type": "code",
   "execution_count": null,
   "metadata": {},
   "outputs": [],
   "source": []
  }
 ],
 "metadata": {
  "colab": {
   "authorship_tag": "ABX9TyOId+MZ1t15zIsR/Lto862z",
   "mount_file_id": "15Pz3ACKIvs5NycDHgER7ScR7WYZibr0s",
   "provenance": [
    {
     "file_id": "15Pz3ACKIvs5NycDHgER7ScR7WYZibr0s",
     "timestamp": 1744167337553
    }
   ]
  },
  "kernelspec": {
   "display_name": "simulacion",
   "language": "python",
   "name": "python3"
  },
  "language_info": {
   "codemirror_mode": {
    "name": "ipython",
    "version": 3
   },
   "file_extension": ".py",
   "mimetype": "text/x-python",
   "name": "python",
   "nbconvert_exporter": "python",
   "pygments_lexer": "ipython3",
   "version": "3.13.2"
  }
 },
 "nbformat": 4,
 "nbformat_minor": 4
}
