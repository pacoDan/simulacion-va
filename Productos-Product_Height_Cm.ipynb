{
 "cells": [
  {
   "cell_type": "markdown",
   "metadata": {
    "id": "T0NlF9nHmdZX"
   },
   "source": [
    "# 1. Carga de bibliotetas\n",
    "\n",
    "Seccion para instalar e importar bibliotecas necesarias"
   ]
  },
  {
   "cell_type": "code",
   "execution_count": 102,
   "metadata": {
    "colab": {
     "base_uri": "https://localhost:8080/"
    },
    "executionInfo": {
     "elapsed": 16165,
     "status": "ok",
     "timestamp": 1729791660665,
     "user": {
      "displayName": "Edgardo Rubén FLECHA",
      "userId": "15102767123563609240"
     },
     "user_tz": 180
    },
    "id": "1AEhaS_8mr1l",
    "outputId": "15365a18-9877-4d0f-d23d-20d05e68b13e"
   },
   "outputs": [
    {
     "name": "stdout",
     "output_type": "stream",
     "text": [
      "Requirement already satisfied: fitter in /home/daniel/miniconda3/envs/simulacion/lib/python3.13/site-packages (1.7.1)\n",
      "Requirement already satisfied: click<9.0.0,>=8.1.6 in /home/daniel/miniconda3/envs/simulacion/lib/python3.13/site-packages (from fitter) (8.1.8)\n",
      "Requirement already satisfied: joblib<2.0.0,>=1.3.1 in /home/daniel/miniconda3/envs/simulacion/lib/python3.13/site-packages (from fitter) (1.4.2)\n",
      "Requirement already satisfied: loguru<0.8.0,>=0.7.2 in /home/daniel/miniconda3/envs/simulacion/lib/python3.13/site-packages (from fitter) (0.7.3)\n",
      "Requirement already satisfied: matplotlib<4.0.0,>=3.7.2 in /home/daniel/miniconda3/envs/simulacion/lib/python3.13/site-packages (from fitter) (3.10.1)\n",
      "Requirement already satisfied: numpy<2.0.0,>=1.20.0 in /home/daniel/miniconda3/envs/simulacion/lib/python3.13/site-packages (from fitter) (1.26.4)\n",
      "Requirement already satisfied: pandas<3.0.0,>=0.23.4 in /home/daniel/miniconda3/envs/simulacion/lib/python3.13/site-packages (from fitter) (2.2.3)\n",
      "Requirement already satisfied: rich-click<2.0.0,>=1.7.2 in /home/daniel/miniconda3/envs/simulacion/lib/python3.13/site-packages (from fitter) (1.8.8)\n",
      "Requirement already satisfied: scipy<2.0.0,>=0.18.0 in /home/daniel/miniconda3/envs/simulacion/lib/python3.13/site-packages (from fitter) (1.15.2)\n",
      "Requirement already satisfied: tqdm<5.0.0,>=4.65.1 in /home/daniel/miniconda3/envs/simulacion/lib/python3.13/site-packages (from fitter) (4.67.1)\n",
      "Requirement already satisfied: contourpy>=1.0.1 in /home/daniel/miniconda3/envs/simulacion/lib/python3.13/site-packages (from matplotlib<4.0.0,>=3.7.2->fitter) (1.3.2)\n",
      "Requirement already satisfied: cycler>=0.10 in /home/daniel/miniconda3/envs/simulacion/lib/python3.13/site-packages (from matplotlib<4.0.0,>=3.7.2->fitter) (0.12.1)\n",
      "Requirement already satisfied: fonttools>=4.22.0 in /home/daniel/miniconda3/envs/simulacion/lib/python3.13/site-packages (from matplotlib<4.0.0,>=3.7.2->fitter) (4.57.0)\n",
      "Requirement already satisfied: kiwisolver>=1.3.1 in /home/daniel/miniconda3/envs/simulacion/lib/python3.13/site-packages (from matplotlib<4.0.0,>=3.7.2->fitter) (1.4.8)\n",
      "Requirement already satisfied: packaging>=20.0 in /home/daniel/miniconda3/envs/simulacion/lib/python3.13/site-packages (from matplotlib<4.0.0,>=3.7.2->fitter) (25.0)\n",
      "Requirement already satisfied: pillow>=8 in /home/daniel/miniconda3/envs/simulacion/lib/python3.13/site-packages (from matplotlib<4.0.0,>=3.7.2->fitter) (11.2.1)\n",
      "Requirement already satisfied: pyparsing>=2.3.1 in /home/daniel/miniconda3/envs/simulacion/lib/python3.13/site-packages (from matplotlib<4.0.0,>=3.7.2->fitter) (3.2.3)\n",
      "Requirement already satisfied: python-dateutil>=2.7 in /home/daniel/miniconda3/envs/simulacion/lib/python3.13/site-packages (from matplotlib<4.0.0,>=3.7.2->fitter) (2.9.0.post0)\n",
      "Requirement already satisfied: pytz>=2020.1 in /home/daniel/miniconda3/envs/simulacion/lib/python3.13/site-packages (from pandas<3.0.0,>=0.23.4->fitter) (2025.2)\n",
      "Requirement already satisfied: tzdata>=2022.7 in /home/daniel/miniconda3/envs/simulacion/lib/python3.13/site-packages (from pandas<3.0.0,>=0.23.4->fitter) (2025.2)\n",
      "Requirement already satisfied: rich>=10.7 in /home/daniel/miniconda3/envs/simulacion/lib/python3.13/site-packages (from rich-click<2.0.0,>=1.7.2->fitter) (14.0.0)\n",
      "Requirement already satisfied: typing_extensions>=4 in /home/daniel/miniconda3/envs/simulacion/lib/python3.13/site-packages (from rich-click<2.0.0,>=1.7.2->fitter) (4.13.2)\n",
      "Requirement already satisfied: six>=1.5 in /home/daniel/miniconda3/envs/simulacion/lib/python3.13/site-packages (from python-dateutil>=2.7->matplotlib<4.0.0,>=3.7.2->fitter) (1.17.0)\n",
      "Requirement already satisfied: markdown-it-py>=2.2.0 in /home/daniel/miniconda3/envs/simulacion/lib/python3.13/site-packages (from rich>=10.7->rich-click<2.0.0,>=1.7.2->fitter) (3.0.0)\n",
      "Requirement already satisfied: pygments<3.0.0,>=2.13.0 in /home/daniel/miniconda3/envs/simulacion/lib/python3.13/site-packages (from rich>=10.7->rich-click<2.0.0,>=1.7.2->fitter) (2.19.1)\n",
      "Requirement already satisfied: mdurl~=0.1 in /home/daniel/miniconda3/envs/simulacion/lib/python3.13/site-packages (from markdown-it-py>=2.2.0->rich>=10.7->rich-click<2.0.0,>=1.7.2->fitter) (0.1.2)\n"
     ]
    }
   ],
   "source": [
    "# Acá instalamos la biblioteca fitter para el ajuste de funciones\n",
    "!pip install fitter"
   ]
  },
  {
   "cell_type": "code",
   "execution_count": 103,
   "metadata": {
    "id": "SzsbMMQPnqI0"
   },
   "outputs": [],
   "source": [
    "# Acá importarmos todas las bibliotecas necesarias: Pandas, Numpy, Scipy y Fitter\n",
    "from fitter import Fitter\n",
    "import pandas as pd\n",
    "import numpy as np\n",
    "import matplotlib.pyplot as plt\n",
    "from scipy import stats"
   ]
  },
  {
   "cell_type": "code",
   "execution_count": 104,
   "metadata": {
    "colab": {
     "base_uri": "https://localhost:8080/"
    },
    "executionInfo": {
     "elapsed": 2477,
     "status": "ok",
     "timestamp": 1729802620214,
     "user": {
      "displayName": "Edgardo Rubén FLECHA",
      "userId": "15102767123563609240"
     },
     "user_tz": 180
    },
    "id": "nmtJhWE7pLpg",
    "outputId": "4d27d0d7-4cec-4579-f0b9-8261b50c94ee"
   },
   "outputs": [],
   "source": [
    "# Esto se hace para montar el gogle drive y poder acceder datos alojados allí.\n",
    "# from google.colab import drive\n",
    "# drive.mount('/content/drive')"
   ]
  },
  {
   "cell_type": "markdown",
   "metadata": {
    "id": "c2vAl1XAp-rz"
   },
   "source": [
    "# 2. Carga de datos\n",
    "\n",
    "Utilizaremos los datos de recorrido de bicicletas públicas de la ciudad de Buenos Aires\n",
    "https://data.buenosaires.gob.ar/dataset/bicicletas-publicas\n",
    "\n",
    "Bajaremos el archivo \"Recorridos Realizados 2023 (ZIP)\", descomprimiremos el archivo csv presente (\"trips_2023.csv\")y lo alojamos dentro de la carpeta \"Colab Notebooks\" de nuestro Google Drive\n",
    "\n",
    "\n"
   ]
  },
  {
   "cell_type": "code",
   "execution_count": 105,
   "metadata": {
    "id": "Gq6t9H0zqK_b"
   },
   "outputs": [],
   "source": [
    "# En esta parte del código se debe modificar la ubicación correcta del google drive\n",
    "# bicis = pd.read_csv('/content/drive/MyDrive/Colab Notebooks/EPIO/Datos/trips_2023.csv')\n",
    "productos = pd.read_csv('./Fecom_Inc_Products.csv', sep=';')"
   ]
  },
  {
   "cell_type": "markdown",
   "metadata": {
    "id": "ZsFIfRt9u2E4"
   },
   "source": [
    "# 3. Análisis Exploratorio de Datos"
   ]
  },
  {
   "cell_type": "code",
   "execution_count": 106,
   "metadata": {
    "colab": {
     "base_uri": "https://localhost:8080/",
     "height": 604
    },
    "executionInfo": {
     "elapsed": 905,
     "status": "ok",
     "timestamp": 1729793773939,
     "user": {
      "displayName": "Edgardo Rubén FLECHA",
      "userId": "15102767123563609240"
     },
     "user_tz": 180
    },
    "id": "yeZH-wqUvgXW",
    "outputId": "5078cec5-c10a-4fae-8c9b-805b388631d3"
   },
   "outputs": [
    {
     "data": {
      "text/plain": [
       "pandas.core.frame.DataFrame"
      ]
     },
     "execution_count": 106,
     "metadata": {},
     "output_type": "execute_result"
    }
   ],
   "source": [
    "# Corroboramos que el tipo de dato de la variable \"bicis\" es un dataframe\n",
    "type(productos)"
   ]
  },
  {
   "cell_type": "code",
   "execution_count": 107,
   "metadata": {
    "colab": {
     "base_uri": "https://localhost:8080/",
     "height": 261
    },
    "executionInfo": {
     "elapsed": 383,
     "status": "ok",
     "timestamp": 1729803360817,
     "user": {
      "displayName": "Edgardo Rubén FLECHA",
      "userId": "15102767123563609240"
     },
     "user_tz": 180
    },
    "id": "X7Ltzoy-vxau",
    "outputId": "89710715-fefc-4fa8-c27a-e11c53b7a5aa"
   },
   "outputs": [
    {
     "data": {
      "text/html": [
       "<div>\n",
       "<style scoped>\n",
       "    .dataframe tbody tr th:only-of-type {\n",
       "        vertical-align: middle;\n",
       "    }\n",
       "\n",
       "    .dataframe tbody tr th {\n",
       "        vertical-align: top;\n",
       "    }\n",
       "\n",
       "    .dataframe thead th {\n",
       "        text-align: right;\n",
       "    }\n",
       "</style>\n",
       "<table border=\"1\" class=\"dataframe\">\n",
       "  <thead>\n",
       "    <tr style=\"text-align: right;\">\n",
       "      <th></th>\n",
       "      <th>Product_ID</th>\n",
       "      <th>Product_Category_Name</th>\n",
       "      <th>Product_Weight_Gr</th>\n",
       "      <th>Product_Length_Cm</th>\n",
       "      <th>Product_Height_Cm</th>\n",
       "      <th>Product_Width_Cm</th>\n",
       "    </tr>\n",
       "  </thead>\n",
       "  <tbody>\n",
       "    <tr>\n",
       "      <th>0</th>\n",
       "      <td>1e9e8ef04dbcff4541ed26657ea517e5</td>\n",
       "      <td>Perfumery</td>\n",
       "      <td>225.0</td>\n",
       "      <td>16.0</td>\n",
       "      <td>10.0</td>\n",
       "      <td>14.0</td>\n",
       "    </tr>\n",
       "    <tr>\n",
       "      <th>1</th>\n",
       "      <td>3aa071139cb16b67ca9e5dea641aaa2f</td>\n",
       "      <td>Art</td>\n",
       "      <td>1000.0</td>\n",
       "      <td>30.0</td>\n",
       "      <td>18.0</td>\n",
       "      <td>20.0</td>\n",
       "    </tr>\n",
       "    <tr>\n",
       "      <th>2</th>\n",
       "      <td>96bd76ec8810374ed1b65e291975717f</td>\n",
       "      <td>Sports_Leisure</td>\n",
       "      <td>154.0</td>\n",
       "      <td>18.0</td>\n",
       "      <td>9.0</td>\n",
       "      <td>15.0</td>\n",
       "    </tr>\n",
       "    <tr>\n",
       "      <th>3</th>\n",
       "      <td>cef67bcfe19066a932b7673e239eb23d</td>\n",
       "      <td>Baby</td>\n",
       "      <td>371.0</td>\n",
       "      <td>26.0</td>\n",
       "      <td>4.0</td>\n",
       "      <td>26.0</td>\n",
       "    </tr>\n",
       "    <tr>\n",
       "      <th>4</th>\n",
       "      <td>9dc1a7de274444849c219cff195d0b71</td>\n",
       "      <td>Housewares</td>\n",
       "      <td>625.0</td>\n",
       "      <td>20.0</td>\n",
       "      <td>17.0</td>\n",
       "      <td>13.0</td>\n",
       "    </tr>\n",
       "  </tbody>\n",
       "</table>\n",
       "</div>"
      ],
      "text/plain": [
       "                         Product_ID Product_Category_Name  Product_Weight_Gr  \\\n",
       "0  1e9e8ef04dbcff4541ed26657ea517e5             Perfumery              225.0   \n",
       "1  3aa071139cb16b67ca9e5dea641aaa2f                   Art             1000.0   \n",
       "2  96bd76ec8810374ed1b65e291975717f        Sports_Leisure              154.0   \n",
       "3  cef67bcfe19066a932b7673e239eb23d                  Baby              371.0   \n",
       "4  9dc1a7de274444849c219cff195d0b71            Housewares              625.0   \n",
       "\n",
       "   Product_Length_Cm  Product_Height_Cm  Product_Width_Cm  \n",
       "0               16.0               10.0              14.0  \n",
       "1               30.0               18.0              20.0  \n",
       "2               18.0                9.0              15.0  \n",
       "3               26.0                4.0              26.0  \n",
       "4               20.0               17.0              13.0  "
      ]
     },
     "execution_count": 107,
     "metadata": {},
     "output_type": "execute_result"
    }
   ],
   "source": [
    "# Primeras lineas de nuestro dataframe\n",
    "productos.head()"
   ]
  },
  {
   "cell_type": "code",
   "execution_count": null,
   "metadata": {
    "id": "29ZcswQTjJ3n"
   },
   "outputs": [],
   "source": []
  },
  {
   "cell_type": "code",
   "execution_count": 108,
   "metadata": {
    "colab": {
     "base_uri": "https://localhost:8080/"
    },
    "executionInfo": {
     "elapsed": 412,
     "status": "ok",
     "timestamp": 1729793920492,
     "user": {
      "displayName": "Edgardo Rubén FLECHA",
      "userId": "15102767123563609240"
     },
     "user_tz": 180
    },
    "id": "M3Wx6xmkwDrJ",
    "outputId": "44a9a770-2c3c-4bba-c953-1f92a7551b42"
   },
   "outputs": [
    {
     "data": {
      "text/plain": [
       "Index(['Product_ID', 'Product_Category_Name', 'Product_Weight_Gr',\n",
       "       'Product_Length_Cm', 'Product_Height_Cm', 'Product_Width_Cm'],\n",
       "      dtype='object')"
      ]
     },
     "execution_count": 108,
     "metadata": {},
     "output_type": "execute_result"
    }
   ],
   "source": [
    "# Si solo quiero los nombres de las columnas en formato lista\n",
    "productos.columns"
   ]
  },
  {
   "cell_type": "code",
   "execution_count": 109,
   "metadata": {
    "colab": {
     "base_uri": "https://localhost:8080/"
    },
    "executionInfo": {
     "elapsed": 362,
     "status": "ok",
     "timestamp": 1729793951323,
     "user": {
      "displayName": "Edgardo Rubén FLECHA",
      "userId": "15102767123563609240"
     },
     "user_tz": 180
    },
    "id": "mHXQW1FFwL_Z",
    "outputId": "482ca490-d489-491c-a47d-e63fcefbecfc"
   },
   "outputs": [
    {
     "data": {
      "text/plain": [
       "(32951, 6)"
      ]
     },
     "execution_count": 109,
     "metadata": {},
     "output_type": "execute_result"
    }
   ],
   "source": [
    "# Dimensionalidad del dataframe\n",
    "productos.shape"
   ]
  },
  {
   "cell_type": "code",
   "execution_count": 110,
   "metadata": {
    "colab": {
     "base_uri": "https://localhost:8080/",
     "height": 649
    },
    "executionInfo": {
     "elapsed": 422,
     "status": "ok",
     "timestamp": 1729794031786,
     "user": {
      "displayName": "Edgardo Rubén FLECHA",
      "userId": "15102767123563609240"
     },
     "user_tz": 180
    },
    "id": "DVv0WcpZwhRb",
    "outputId": "d19a0239-983c-49a2-cfce-cfc22cd8fa0b"
   },
   "outputs": [
    {
     "data": {
      "text/plain": [
       "Product_ID                object\n",
       "Product_Category_Name     object\n",
       "Product_Weight_Gr        float64\n",
       "Product_Length_Cm        float64\n",
       "Product_Height_Cm        float64\n",
       "Product_Width_Cm         float64\n",
       "dtype: object"
      ]
     },
     "execution_count": 110,
     "metadata": {},
     "output_type": "execute_result"
    }
   ],
   "source": [
    "# El tipo de dato de cada una de las columnas\n",
    "# Acá veo que 'duracion_recorrido', 'fecha_origen_recorrido' y 'fecha_destino_recorrido'\n",
    "# son de tipo object (texto) y no está bueno eso\n",
    "productos.dtypes"
   ]
  },
  {
   "cell_type": "markdown",
   "metadata": {
    "id": "C-rxg7E4BKWt"
   },
   "source": []
  },
  {
   "cell_type": "code",
   "execution_count": 111,
   "metadata": {
    "colab": {
     "base_uri": "https://localhost:8080/",
     "height": 458
    },
    "executionInfo": {
     "elapsed": 359,
     "status": "ok",
     "timestamp": 1729803553464,
     "user": {
      "displayName": "Edgardo Rubén FLECHA",
      "userId": "15102767123563609240"
     },
     "user_tz": 180
    },
    "id": "4DjyC_Tfw7aL",
    "outputId": "73c869f5-84b7-4e35-ebf3-22652163d647"
   },
   "outputs": [
    {
     "data": {
      "text/plain": [
       "0        14.0\n",
       "1        20.0\n",
       "2        15.0\n",
       "3        26.0\n",
       "4        13.0\n",
       "         ... \n",
       "32946    40.0\n",
       "32947    16.0\n",
       "32948    27.0\n",
       "32949    20.0\n",
       "32950     7.0\n",
       "Name: Product_Width_Cm, Length: 32951, dtype: float64"
      ]
     },
     "execution_count": 111,
     "metadata": {},
     "output_type": "execute_result"
    }
   ],
   "source": [
    "# Para acceder a una columna específica puedo usar el operador punto:\n",
    "productos.Product_Width_Cm"
   ]
  },
  {
   "cell_type": "code",
   "execution_count": 112,
   "metadata": {
    "id": "378tyPFPU6Qk"
   },
   "outputs": [
    {
     "data": {
      "text/plain": [
       "0        14.0\n",
       "1        20.0\n",
       "2        15.0\n",
       "3        26.0\n",
       "4        13.0\n",
       "         ... \n",
       "32946    40.0\n",
       "32947    16.0\n",
       "32948    27.0\n",
       "32949    20.0\n",
       "32950     7.0\n",
       "Name: Product_Width_Cm, Length: 32951, dtype: float64"
      ]
     },
     "execution_count": 112,
     "metadata": {},
     "output_type": "execute_result"
    }
   ],
   "source": [
    "# O el operador corchete:\n",
    "productos['Product_Width_Cm']"
   ]
  },
  {
   "cell_type": "markdown",
   "metadata": {
    "id": "szb9X_miBNJh"
   },
   "source": [
    "# 5. Cálculo de FDPS"
   ]
  },
  {
   "cell_type": "code",
   "execution_count": 113,
   "metadata": {
    "id": "mPCxdh79BVlB"
   },
   "outputs": [],
   "source": [
    "# En una variable preparar la columna del df que quiero ajustar\n",
    "# fdp_constitucion_hora = Fitter(productos.Product_Width_Cm)\n",
    "# Filtrar a algunas distribuciones típicas (cambiá esta lista según lo que necesites)\n",
    "# fdp_constitucion_hora = Fitter(productos['Product_Width_Cm'],\n",
    "        #    distributions=['norm', 'expon', 'gamma', 'lognorm', 'uniform'])\n",
    "fdp_constitucion_hora = Fitter(productos['Product_Height_Cm'].dropna().values)  # segundos\n",
    "# fdp_constitucion_hora.fit()\n",
    "# fdp_constitucion_hora.summary()\n"
   ]
  },
  {
   "cell_type": "code",
   "execution_count": 114,
   "metadata": {
    "id": "RnStYz_WBz5G"
   },
   "outputs": [
    {
     "name": "stderr",
     "output_type": "stream",
     "text": [
      "2025-04-30 05:15:42.986 | WARNING  | fitter.fitter:_fit_single_distribution:337 - SKIPPED _fit distribution (taking more than 30 seconds)\n",
      "2025-04-30 05:15:43.088 | INFO     | fitter.fitter:_fit_single_distribution:333 - Fitted anglit distribution with error=0.026128)\n",
      "2025-04-30 05:15:43.252 | INFO     | fitter.fitter:_fit_single_distribution:333 - Fitted argus distribution with error=0.029793)\n",
      "2025-04-30 05:15:43.332 | INFO     | fitter.fitter:_fit_single_distribution:333 - Fitted bradford distribution with error=0.010984)\n",
      "2025-04-30 05:15:43.358 | INFO     | fitter.fitter:_fit_single_distribution:333 - Fitted arcsine distribution with error=0.02381)\n",
      "2025-04-30 05:15:43.627 | INFO     | fitter.fitter:_fit_single_distribution:333 - Fitted alpha distribution with error=0.016397)\n",
      "2025-04-30 05:15:44.339 | INFO     | fitter.fitter:_fit_single_distribution:333 - Fitted cauchy distribution with error=0.010185)\n",
      "2025-04-30 05:15:44.717 | INFO     | fitter.fitter:_fit_single_distribution:333 - Fitted betaprime distribution with error=0.006688)\n",
      "2025-04-30 05:15:44.724 | INFO     | fitter.fitter:_fit_single_distribution:333 - Fitted burr12 distribution with error=0.006561)\n",
      "2025-04-30 05:15:44.786 | INFO     | fitter.fitter:_fit_single_distribution:333 - Fitted beta distribution with error=0.007129)\n",
      "2025-04-30 05:15:45.057 | INFO     | fitter.fitter:_fit_single_distribution:333 - Fitted burr distribution with error=0.006156)\n",
      "2025-04-30 05:15:45.324 | INFO     | fitter.fitter:_fit_single_distribution:333 - Fitted chi2 distribution with error=0.006652)\n",
      "2025-04-30 05:15:45.477 | INFO     | fitter.fitter:_fit_single_distribution:333 - Fitted exponnorm distribution with error=0.00803)\n",
      "2025-04-30 05:15:45.609 | INFO     | fitter.fitter:_fit_single_distribution:333 - Fitted crystalball distribution with error=0.012779)\n",
      "2025-04-30 05:15:45.771 | INFO     | fitter.fitter:_fit_single_distribution:333 - Fitted chi distribution with error=0.007045)\n",
      "2025-04-30 05:15:45.991 | INFO     | fitter.fitter:_fit_single_distribution:333 - Fitted cosine distribution with error=0.023561)\n",
      "2025-04-30 05:15:46.014 | INFO     | fitter.fitter:_fit_single_distribution:333 - Fitted exponpow distribution with error=0.008348)\n",
      "2025-04-30 05:15:46.409 | INFO     | fitter.fitter:_fit_single_distribution:333 - Fitted erlang distribution with error=0.006652)\n",
      "2025-04-30 05:15:46.424 | INFO     | fitter.fitter:_fit_single_distribution:333 - Fitted foldcauchy distribution with error=0.006626)\n",
      "2025-04-30 05:15:46.518 | INFO     | fitter.fitter:_fit_single_distribution:333 - Fitted expon distribution with error=0.007189)\n",
      "2025-04-30 05:15:46.542 | INFO     | fitter.fitter:_fit_single_distribution:333 - Fitted dgamma distribution with error=0.009158)\n",
      "2025-04-30 05:15:46.636 | INFO     | fitter.fitter:_fit_single_distribution:333 - Fitted foldnorm distribution with error=0.007076)\n",
      "2025-04-30 05:15:47.205 | INFO     | fitter.fitter:_fit_single_distribution:333 - Fitted dpareto_lognorm distribution with error=0.007376)\n",
      "2025-04-30 05:15:47.249 | INFO     | fitter.fitter:_fit_single_distribution:333 - Fitted gamma distribution with error=0.006652)\n",
      "2025-04-30 05:15:47.372 | INFO     | fitter.fitter:_fit_single_distribution:333 - Fitted dweibull distribution with error=0.009869)\n",
      "2025-04-30 05:15:47.577 | INFO     | fitter.fitter:_fit_single_distribution:333 - Fitted fatiguelife distribution with error=0.007312)\n",
      "2025-04-30 05:15:47.924 | INFO     | fitter.fitter:_fit_single_distribution:333 - Fitted gengamma distribution with error=0.014123)\n",
      "2025-04-30 05:15:48.483 | INFO     | fitter.fitter:_fit_single_distribution:333 - Fitted genhalflogistic distribution with error=0.00629)\n",
      "2025-04-30 05:15:48.776 | INFO     | fitter.fitter:_fit_single_distribution:333 - Fitted genexpon distribution with error=0.006284)\n",
      "2025-04-30 05:15:49.013 | INFO     | fitter.fitter:_fit_single_distribution:333 - Fitted genlogistic distribution with error=0.008294)\n",
      "2025-04-30 05:15:49.218 | INFO     | fitter.fitter:_fit_single_distribution:333 - Fitted gennorm distribution with error=0.010367)\n",
      "2025-04-30 05:15:49.589 | INFO     | fitter.fitter:_fit_single_distribution:333 - Fitted genpareto distribution with error=0.006863)\n",
      "2025-04-30 05:15:49.655 | INFO     | fitter.fitter:_fit_single_distribution:333 - Fitted gibrat distribution with error=0.008119)\n",
      "2025-04-30 05:15:49.909 | INFO     | fitter.fitter:_fit_single_distribution:333 - Fitted gompertz distribution with error=0.006785)\n",
      "2025-04-30 05:15:49.920 | INFO     | fitter.fitter:_fit_single_distribution:333 - Fitted gumbel_l distribution with error=0.019744)\n",
      "2025-04-30 05:15:49.981 | INFO     | fitter.fitter:_fit_single_distribution:333 - Fitted gumbel_r distribution with error=0.008291)\n",
      "2025-04-30 05:15:49.987 | INFO     | fitter.fitter:_fit_single_distribution:333 - Fitted halfcauchy distribution with error=0.008001)\n",
      "2025-04-30 05:15:50.025 | INFO     | fitter.fitter:_fit_single_distribution:333 - Fitted fisk distribution with error=0.007577)\n",
      "2025-04-30 05:15:50.296 | INFO     | fitter.fitter:_fit_single_distribution:333 - Fitted halfgennorm distribution with error=0.012489)\n",
      "2025-04-30 05:15:50.307 | INFO     | fitter.fitter:_fit_single_distribution:333 - Fitted halfnorm distribution with error=0.007076)\n",
      "2025-04-30 05:15:50.371 | INFO     | fitter.fitter:_fit_single_distribution:333 - Fitted hypsecant distribution with error=0.009829)\n",
      "2025-04-30 05:15:50.493 | INFO     | fitter.fitter:_fit_single_distribution:333 - Fitted halflogistic distribution with error=0.006205)\n",
      "2025-04-30 05:15:50.630 | INFO     | fitter.fitter:_fit_single_distribution:333 - Fitted invgamma distribution with error=0.007515)\n",
      "2025-04-30 05:15:50.939 | INFO     | fitter.fitter:_fit_single_distribution:333 - Fitted invgauss distribution with error=0.007367)\n",
      "2025-04-30 05:15:51.121 | WARNING  | fitter.fitter:_fit_single_distribution:337 - SKIPPED irwinhall distribution (taking more than 30 seconds)\n",
      "2025-04-30 05:15:51.282 | INFO     | fitter.fitter:_fit_single_distribution:333 - Fitted genextreme distribution with error=0.007594)\n",
      "2025-04-30 05:15:51.450 | INFO     | fitter.fitter:_fit_single_distribution:333 - Fitted invweibull distribution with error=0.007594)\n",
      "2025-04-30 05:15:52.477 | INFO     | fitter.fitter:_fit_single_distribution:333 - Fitted exponweib distribution with error=0.038027)\n",
      "2025-04-30 05:15:52.540 | INFO     | fitter.fitter:_fit_single_distribution:333 - Fitted johnsonsu distribution with error=0.007377)\n",
      "2025-04-30 05:15:52.793 | INFO     | fitter.fitter:_fit_single_distribution:333 - Fitted johnsonsb distribution with error=0.007298)\n",
      "2025-04-30 05:15:53.411 | INFO     | fitter.fitter:_fit_single_distribution:333 - Fitted kappa3 distribution with error=0.006009)\n",
      "2025-04-30 05:15:53.474 | INFO     | fitter.fitter:_fit_single_distribution:333 - Fitted ksone distribution with error=0.028355)\n",
      "2025-04-30 05:15:53.480 | WARNING  | fitter.fitter:_fit_single_distribution:337 - SKIPPED kstwo distribution (taking more than 30 seconds)\n",
      "2025-04-30 05:15:53.735 | INFO     | fitter.fitter:_fit_single_distribution:333 - Fitted kstwobign distribution with error=0.00884)\n",
      "2025-04-30 05:15:53.904 | INFO     | fitter.fitter:_fit_single_distribution:333 - Fitted landau distribution with error=0.008163)\n",
      "2025-04-30 05:15:53.942 | INFO     | fitter.fitter:_fit_single_distribution:333 - Fitted laplace distribution with error=0.00955)\n",
      "2025-04-30 05:15:54.042 | INFO     | fitter.fitter:_fit_single_distribution:333 - Fitted laplace_asymmetric distribution with error=0.009197)\n",
      "2025-04-30 05:15:54.167 | INFO     | fitter.fitter:_fit_single_distribution:333 - Fitted levy distribution with error=0.012157)\n",
      "2025-04-30 05:15:54.270 | INFO     | fitter.fitter:_fit_single_distribution:333 - Fitted jf_skew_t distribution with error=0.007597)\n",
      "2025-04-30 05:15:54.277 | INFO     | fitter.fitter:_fit_single_distribution:333 - Fitted levy_l distribution with error=0.033758)\n",
      "2025-04-30 05:15:54.464 | INFO     | fitter.fitter:_fit_single_distribution:333 - Fitted loggamma distribution with error=0.013063)\n",
      "2025-04-30 05:15:54.482 | INFO     | fitter.fitter:_fit_single_distribution:333 - Fitted logistic distribution with error=0.010397)\n",
      "2025-04-30 05:15:54.742 | INFO     | fitter.fitter:_fit_single_distribution:333 - Fitted kappa4 distribution with error=0.025009)\n",
      "2025-04-30 05:15:54.856 | INFO     | fitter.fitter:_fit_single_distribution:333 - Fitted loglaplace distribution with error=0.008561)\n",
      "2025-04-30 05:15:54.971 | INFO     | fitter.fitter:_fit_single_distribution:333 - Fitted f distribution with error=0.006652)\n",
      "2025-04-30 05:15:54.986 | INFO     | fitter.fitter:_fit_single_distribution:333 - Fitted loguniform distribution with error=0.011532)\n",
      "2025-04-30 05:15:55.033 | INFO     | fitter.fitter:_fit_single_distribution:333 - Fitted maxwell distribution with error=0.010863)\n",
      "2025-04-30 05:15:55.255 | INFO     | fitter.fitter:_fit_single_distribution:333 - Fitted lognorm distribution with error=0.007376)\n",
      "2025-04-30 05:15:55.852 | INFO     | fitter.fitter:_fit_single_distribution:333 - Fitted lomax distribution with error=0.007353)\n",
      "2025-04-30 05:15:55.960 | WARNING  | fitter.fitter:_fit_single_distribution:337 - SKIPPED multivariate_normal distribution (taking more than 30 seconds)\n",
      "2025-04-30 05:15:56.284 | INFO     | fitter.fitter:_fit_single_distribution:333 - Fitted mielke distribution with error=0.006219)\n",
      "2025-04-30 05:15:57.753 | INFO     | fitter.fitter:_fit_single_distribution:333 - Fitted moyal distribution with error=0.007673)\n",
      "2025-04-30 05:15:59.353 | INFO     | fitter.fitter:_fit_single_distribution:333 - Fitted nakagami distribution with error=0.007151)\n",
      "2025-04-30 05:16:03.011 | INFO     | fitter.fitter:_fit_single_distribution:333 - Fitted ncf distribution with error=0.006283)\n",
      "2025-04-30 05:16:03.016 | INFO     | fitter.fitter:_fit_single_distribution:333 - Fitted norm distribution with error=0.012779)\n",
      "/home/daniel/miniconda3/envs/simulacion/lib/python3.13/site-packages/scipy/stats/_continuous_distns.py:4112: IntegrationWarning: The integral is probably divergent, or slowly convergent.\n",
      "  intgrl = integrate.quad(llc, x0, x1,\n",
      "/home/daniel/miniconda3/envs/simulacion/lib/python3.13/site-packages/scipy/stats/_continuous_distns.py:4107: IntegrationWarning: The integral is probably divergent, or slowly convergent.\n",
      "  intgrl = (integrate.quad(llc, x0, mean,\n",
      "2025-04-30 05:16:26.189 | WARNING  | fitter.fitter:_fit_single_distribution:337 - SKIPPED levy_stable distribution (taking more than 30 seconds)\n",
      "2025-04-30 05:16:26.657 | INFO     | fitter.fitter:_fit_single_distribution:333 - Fitted genhyperbolic distribution with error=0.006649)\n",
      "2025-04-30 05:16:26.746 | INFO     | fitter.fitter:_fit_single_distribution:333 - Fitted pareto distribution with error=0.007189)\n",
      "2025-04-30 05:16:28.311 | WARNING  | fitter.fitter:_fit_single_distribution:337 - SKIPPED nct distribution (taking more than 30 seconds)\n",
      "2025-04-30 05:16:28.709 | INFO     | fitter.fitter:_fit_single_distribution:333 - Fitted powerlaw distribution with error=0.018611)\n",
      "2025-04-30 05:16:29.083 | INFO     | fitter.fitter:_fit_single_distribution:333 - Fitted pearson3 distribution with error=0.006652)\n",
      "2025-04-30 05:16:29.623 | WARNING  | fitter.fitter:_fit_single_distribution:337 - SKIPPED ncx2 distribution (taking more than 30 seconds)\n",
      "2025-04-30 05:16:30.716 | INFO     | fitter.fitter:_fit_single_distribution:333 - Fitted rayleigh distribution with error=0.010314)\n",
      "2025-04-30 05:16:31.824 | INFO     | fitter.fitter:_fit_single_distribution:333 - Fitted powernorm distribution with error=nan)\n",
      "2025-04-30 05:16:36.285 | INFO     | fitter.fitter:_fit_single_distribution:333 - Fitted rdist distribution with error=0.012798)\n",
      "2025-04-30 05:16:36.337 | INFO     | fitter.fitter:_fit_single_distribution:333 - Fitted powerlognorm distribution with error=0.006995)\n",
      "2025-04-30 05:16:37.216 | INFO     | fitter.fitter:_fit_single_distribution:333 - Fitted recipinvgauss distribution with error=0.007228)\n",
      "2025-04-30 05:16:37.682 | INFO     | fitter.fitter:_fit_single_distribution:333 - Fitted reciprocal distribution with error=0.011532)\n",
      "2025-04-30 05:16:38.006 | INFO     | fitter.fitter:_fit_single_distribution:333 - Fitted rel_breitwigner distribution with error=0.006153)\n",
      "2025-04-30 05:16:38.204 | WARNING  | fitter.fitter:_fit_single_distribution:337 - SKIPPED rv_continuous distribution (taking more than 30 seconds)\n",
      "2025-04-30 05:16:38.265 | INFO     | fitter.fitter:_fit_single_distribution:333 - Fitted rice distribution with error=0.010314)\n",
      "2025-04-30 05:16:38.268 | WARNING  | fitter.fitter:_fit_single_distribution:337 - SKIPPED rv_histogram distribution (taking more than 30 seconds)\n",
      "2025-04-30 05:16:38.823 | INFO     | fitter.fitter:_fit_single_distribution:333 - Fitted geninvgauss distribution with error=0.006652)\n",
      "2025-04-30 05:16:39.366 | INFO     | fitter.fitter:_fit_single_distribution:333 - Fitted skewcauchy distribution with error=0.009785)\n",
      "2025-04-30 05:16:39.373 | INFO     | fitter.fitter:_fit_single_distribution:333 - Fitted semicircular distribution with error=0.028055)\n",
      "2025-04-30 05:16:40.746 | INFO     | fitter.fitter:_fit_single_distribution:333 - Fitted skewnorm distribution with error=0.007077)\n",
      "2025-04-30 05:16:41.383 | INFO     | fitter.fitter:_fit_single_distribution:333 - Fitted trapezoid distribution with error=0.039176)\n",
      "2025-04-30 05:16:41.997 | INFO     | fitter.fitter:_fit_single_distribution:333 - Fitted norminvgauss distribution with error=0.007358)\n",
      "2025-04-30 05:16:42.267 | INFO     | fitter.fitter:_fit_single_distribution:333 - Fitted truncexpon distribution with error=0.021045)\n",
      "2025-04-30 05:16:42.315 | INFO     | fitter.fitter:_fit_single_distribution:333 - Fitted trapz distribution with error=0.039176)\n",
      "2025-04-30 05:16:42.646 | INFO     | fitter.fitter:_fit_single_distribution:333 - Fitted triang distribution with error=0.01787)\n",
      "2025-04-30 05:16:42.688 | INFO     | fitter.fitter:_fit_single_distribution:333 - Fitted truncnorm distribution with error=0.006654)\n",
      "/home/daniel/miniconda3/envs/simulacion/lib/python3.13/site-packages/scipy/integrate/_quadpack_py.py:1260: IntegrationWarning: The maximum number of subdivisions (50) has been achieved.\n",
      "  If increasing the limit yields no improvement it is advised to analyze \n",
      "  the integrand in order to determine the difficulties.  If the position of a \n",
      "  local difficulty can be determined (singularity, discontinuity) one will \n",
      "  probably gain from splitting up the interval and calling the integrator \n",
      "  on the subranges.  Perhaps a special-purpose integrator should be used.\n",
      "  quad_r = quad(f, low, high, args=args, full_output=self.full_output,\n",
      "2025-04-30 05:16:43.585 | INFO     | fitter.fitter:_fit_single_distribution:333 - Fitted truncpareto distribution with error=0.007191)\n",
      "2025-04-30 05:16:43.983 | INFO     | fitter.fitter:_fit_single_distribution:333 - Fitted truncweibull_min distribution with error=0.01255)\n",
      "2025-04-30 05:16:44.037 | INFO     | fitter.fitter:_fit_single_distribution:333 - Fitted vonmises distribution with error=2.296782)\n",
      "2025-04-30 05:16:44.058 | WARNING  | fitter.fitter:_fit_single_distribution:337 - SKIPPED vonmises_fisher distribution (taking more than 30 seconds)\n",
      "2025-04-30 05:16:44.155 | INFO     | fitter.fitter:_fit_single_distribution:333 - Fitted uniform distribution with error=0.028093)\n",
      "2025-04-30 05:16:44.455 | INFO     | fitter.fitter:_fit_single_distribution:333 - Fitted vonmises_line distribution with error=0.011777)\n",
      "2025-04-30 05:16:44.554 | INFO     | fitter.fitter:_fit_single_distribution:333 - Fitted wald distribution with error=0.008187)\n",
      "2025-04-30 05:16:45.101 | INFO     | fitter.fitter:_fit_single_distribution:333 - Fitted weibull_max distribution with error=0.0608)\n",
      "2025-04-30 05:16:45.167 | INFO     | fitter.fitter:_fit_single_distribution:333 - Fitted t distribution with error=0.009422)\n",
      "2025-04-30 05:16:45.344 | INFO     | fitter.fitter:_fit_single_distribution:333 - Fitted wrapcauchy distribution with error=0.022132)\n",
      "2025-04-30 05:16:46.473 | INFO     | fitter.fitter:_fit_single_distribution:333 - Fitted weibull_min distribution with error=0.015303)\n",
      "/home/daniel/miniconda3/envs/simulacion/lib/python3.13/site-packages/scipy/integrate/_quadpack_py.py:1260: IntegrationWarning: The integral is probably divergent, or slowly convergent.\n",
      "  quad_r = quad(f, low, high, args=args, full_output=self.full_output,\n",
      "2025-04-30 05:16:57.965 | INFO     | fitter.fitter:_fit_single_distribution:333 - Fitted gausshyper distribution with error=0.015425)\n",
      "2025-04-30 05:17:08.855 | WARNING  | fitter.fitter:_fit_single_distribution:337 - SKIPPED studentized_range distribution (taking more than 30 seconds)\n",
      "2025-04-30 05:17:13.221 | WARNING  | fitter.fitter:_fit_single_distribution:337 - SKIPPED tukeylambda distribution (taking more than 30 seconds)\n"
     ]
    }
   ],
   "source": [
    "# Con el método fit() ajusta mis datos a las 80 distribuciones de SciPy\n",
    "fdp_constitucion_hora.fit()"
   ]
  },
  {
   "cell_type": "code",
   "execution_count": 115,
   "metadata": {
    "colab": {
     "base_uri": "https://localhost:8080/",
     "height": 776
    },
    "executionInfo": {
     "elapsed": 3154,
     "status": "ok",
     "timestamp": 1729799047470,
     "user": {
      "displayName": "Edgardo Rubén FLECHA",
      "userId": "15102767123563609240"
     },
     "user_tz": 180
    },
    "id": "X5RVOghgDqNl",
    "outputId": "48d8efb9-37af-4734-c794-b6e7b606000a"
   },
   "outputs": [
    {
     "data": {
      "text/html": [
       "<div>\n",
       "<style scoped>\n",
       "    .dataframe tbody tr th:only-of-type {\n",
       "        vertical-align: middle;\n",
       "    }\n",
       "\n",
       "    .dataframe tbody tr th {\n",
       "        vertical-align: top;\n",
       "    }\n",
       "\n",
       "    .dataframe thead th {\n",
       "        text-align: right;\n",
       "    }\n",
       "</style>\n",
       "<table border=\"1\" class=\"dataframe\">\n",
       "  <thead>\n",
       "    <tr style=\"text-align: right;\">\n",
       "      <th></th>\n",
       "      <th>sumsquare_error</th>\n",
       "      <th>aic</th>\n",
       "      <th>bic</th>\n",
       "      <th>kl_div</th>\n",
       "      <th>ks_statistic</th>\n",
       "      <th>ks_pvalue</th>\n",
       "    </tr>\n",
       "  </thead>\n",
       "  <tbody>\n",
       "    <tr>\n",
       "      <th>kappa3</th>\n",
       "      <td>0.006009</td>\n",
       "      <td>1264.560216</td>\n",
       "      <td>1289.768365</td>\n",
       "      <td>inf</td>\n",
       "      <td>0.060821</td>\n",
       "      <td>2.140812e-106</td>\n",
       "    </tr>\n",
       "    <tr>\n",
       "      <th>rel_breitwigner</th>\n",
       "      <td>0.006153</td>\n",
       "      <td>1291.834661</td>\n",
       "      <td>1317.042810</td>\n",
       "      <td>inf</td>\n",
       "      <td>0.057291</td>\n",
       "      <td>1.912684e-94</td>\n",
       "    </tr>\n",
       "    <tr>\n",
       "      <th>burr</th>\n",
       "      <td>0.006156</td>\n",
       "      <td>1387.901571</td>\n",
       "      <td>1421.512436</td>\n",
       "      <td>inf</td>\n",
       "      <td>0.110686</td>\n",
       "      <td>0.000000e+00</td>\n",
       "    </tr>\n",
       "    <tr>\n",
       "      <th>halflogistic</th>\n",
       "      <td>0.006205</td>\n",
       "      <td>1334.697507</td>\n",
       "      <td>1351.502940</td>\n",
       "      <td>inf</td>\n",
       "      <td>0.063979</td>\n",
       "      <td>1.073541e-117</td>\n",
       "    </tr>\n",
       "    <tr>\n",
       "      <th>mielke</th>\n",
       "      <td>0.006219</td>\n",
       "      <td>1255.832526</td>\n",
       "      <td>1289.443390</td>\n",
       "      <td>inf</td>\n",
       "      <td>0.101974</td>\n",
       "      <td>9.603125e-299</td>\n",
       "    </tr>\n",
       "    <tr>\n",
       "      <th>ncf</th>\n",
       "      <td>0.006283</td>\n",
       "      <td>1224.149924</td>\n",
       "      <td>1266.163505</td>\n",
       "      <td>inf</td>\n",
       "      <td>0.101487</td>\n",
       "      <td>6.756811e-296</td>\n",
       "    </tr>\n",
       "    <tr>\n",
       "      <th>genexpon</th>\n",
       "      <td>0.006284</td>\n",
       "      <td>1299.787683</td>\n",
       "      <td>1341.801264</td>\n",
       "      <td>inf</td>\n",
       "      <td>0.063861</td>\n",
       "      <td>2.905072e-117</td>\n",
       "    </tr>\n",
       "    <tr>\n",
       "      <th>genhalflogistic</th>\n",
       "      <td>0.006290</td>\n",
       "      <td>1314.661183</td>\n",
       "      <td>1339.869331</td>\n",
       "      <td>inf</td>\n",
       "      <td>0.077795</td>\n",
       "      <td>6.920483e-174</td>\n",
       "    </tr>\n",
       "    <tr>\n",
       "      <th>burr12</th>\n",
       "      <td>0.006561</td>\n",
       "      <td>1277.643802</td>\n",
       "      <td>1311.254666</td>\n",
       "      <td>inf</td>\n",
       "      <td>0.076933</td>\n",
       "      <td>4.648831e-170</td>\n",
       "    </tr>\n",
       "    <tr>\n",
       "      <th>foldcauchy</th>\n",
       "      <td>0.006626</td>\n",
       "      <td>1183.308174</td>\n",
       "      <td>1208.516322</td>\n",
       "      <td>inf</td>\n",
       "      <td>0.062136</td>\n",
       "      <td>4.942881e-111</td>\n",
       "    </tr>\n",
       "  </tbody>\n",
       "</table>\n",
       "</div>"
      ],
      "text/plain": [
       "                 sumsquare_error          aic          bic  kl_div  \\\n",
       "kappa3                  0.006009  1264.560216  1289.768365     inf   \n",
       "rel_breitwigner         0.006153  1291.834661  1317.042810     inf   \n",
       "burr                    0.006156  1387.901571  1421.512436     inf   \n",
       "halflogistic            0.006205  1334.697507  1351.502940     inf   \n",
       "mielke                  0.006219  1255.832526  1289.443390     inf   \n",
       "ncf                     0.006283  1224.149924  1266.163505     inf   \n",
       "genexpon                0.006284  1299.787683  1341.801264     inf   \n",
       "genhalflogistic         0.006290  1314.661183  1339.869331     inf   \n",
       "burr12                  0.006561  1277.643802  1311.254666     inf   \n",
       "foldcauchy              0.006626  1183.308174  1208.516322     inf   \n",
       "\n",
       "                 ks_statistic      ks_pvalue  \n",
       "kappa3               0.060821  2.140812e-106  \n",
       "rel_breitwigner      0.057291   1.912684e-94  \n",
       "burr                 0.110686   0.000000e+00  \n",
       "halflogistic         0.063979  1.073541e-117  \n",
       "mielke               0.101974  9.603125e-299  \n",
       "ncf                  0.101487  6.756811e-296  \n",
       "genexpon             0.063861  2.905072e-117  \n",
       "genhalflogistic      0.077795  6.920483e-174  \n",
       "burr12               0.076933  4.648831e-170  \n",
       "foldcauchy           0.062136  4.942881e-111  "
      ]
     },
     "execution_count": 115,
     "metadata": {},
     "output_type": "execute_result"
    },
    {
     "data": {
      "image/png": "[encoded data removed]",
      "text/plain": [
       "<Figure size 640x480 with 1 Axes>"
      ]
     },
     "metadata": {},
     "output_type": "display_data"
    }
   ],
   "source": [
    "# Summary me muestra el resumen de los mejores ajustes\n",
    "fdp_constitucion_hora.summary(10)"
   ]
  },
  {
   "cell_type": "markdown",
   "metadata": {
    "id": "R2qalcH4BFRu"
   },
   "source": []
  },
  {
   "cell_type": "markdown",
   "metadata": {
    "id": "WpvSV5JNESIT"
   },
   "source": [
    "# 6. Simulacion"
   ]
  },
  {
   "cell_type": "code",
   "execution_count": 116,
   "metadata": {
    "colab": {
     "base_uri": "https://localhost:8080/"
    },
    "executionInfo": {
     "elapsed": 416,
     "status": "ok",
     "timestamp": 1729799273571,
     "user": {
      "displayName": "Edgardo Rubén FLECHA",
      "userId": "15102767123563609240"
     },
     "user_tz": 180
    },
    "id": "oudlShQ8EWqL",
    "outputId": "13029790-0bc6-4349-fc42-eceafcb95461"
   },
   "outputs": [
    {
     "data": {
      "text/plain": [
       "{'kappa3': {'a': 2.9822833513253957,\n",
       "  'loc': 1.999999998627227,\n",
       "  'scale': 15.155271423211087}}"
      ]
     },
     "execution_count": 116,
     "metadata": {},
     "output_type": "execute_result"
    }
   ],
   "source": [
    "# get_best me devuelve la mejor distribución de acuerdo al criterio que le indico y sus parámetros\n",
    "fdp_constitucion_hora.get_best(method='sumsquare_error')"
   ]
  },
  {
   "cell_type": "markdown",
   "metadata": {
    "id": "-VjpLixIJHRt"
   },
   "source": []
  },
  {
   "cell_type": "code",
   "execution_count": 117,
   "metadata": {
    "colab": {
     "base_uri": "https://localhost:8080/"
    },
    "executionInfo": {
     "elapsed": 354,
     "status": "ok",
     "timestamp": 1729800476631,
     "user": {
      "displayName": "Edgardo Rubén FLECHA",
      "userId": "15102767123563609240"
     },
     "user_tz": 180
    },
    "id": "erYaoWSqJD5I",
    "outputId": "21a34aef-4184-425e-b27f-51c0ed0ebd30"
   },
   "outputs": [
    {
     "data": {
      "text/plain": [
       "{'fisk': {'c': 2.3184590230603397,\n",
       "  'loc': -0.28515922151568746,\n",
       "  'scale': 13.40184052191875}}"
      ]
     },
     "execution_count": 117,
     "metadata": {},
     "output_type": "execute_result"
    }
   ],
   "source": [
    "fdp_constitucion_hora.get_best(method='ks_statistic')"
   ]
  },
  {
   "cell_type": "code",
   "execution_count": 118,
   "metadata": {
    "id": "KW1s6Kk9Eu8m"
   },
   "outputs": [],
   "source": [
    "# Para simular, guardo los valores de los parámetros en 4 variables\n",
    "dfn = 10.210149046195188\n",
    "dfd = 24.449261873976212\n",
    "loc = -0.210629715477468\n",
    "scale =  15.900756775955681"
   ]
  },
  {
   "cell_type": "code",
   "execution_count": 119,
   "metadata": {
    "id": "ORrhepOfFP2v"
   },
   "outputs": [],
   "source": [
    "# Gracias al método rvs del módulo stats de Scipy, puedo generar datos\n",
    "# con los parámetros que me dio Fitter\n",
    "fdp_f = stats.f.rvs(dfn, dfd, loc=loc, scale=scale, size=35000)"
   ]
  },
  {
   "cell_type": "code",
   "execution_count": 120,
   "metadata": {
    "colab": {
     "base_uri": "https://localhost:8080/"
    },
    "executionInfo": {
     "elapsed": 362,
     "status": "ok",
     "timestamp": 1729799570370,
     "user": {
      "displayName": "Edgardo Rubén FLECHA",
      "userId": "15102767123563609240"
     },
     "user_tz": 180
    },
    "id": "N_oLygX_FlJF",
    "outputId": "b3269a29-7dfb-4eb7-d133-604f53fca5c6"
   },
   "outputs": [
    {
     "data": {
      "text/plain": [
       "array([ 2.03381508, 10.99625657, 26.11719522, ..., 23.53024322,\n",
       "       22.64619597, 14.52442527])"
      ]
     },
     "execution_count": 120,
     "metadata": {},
     "output_type": "execute_result"
    }
   ],
   "source": [
    "# Esta variable es un array de Numpy con valores similares a mis datos de origen\n",
    "fdp_f"
   ]
  },
  {
   "cell_type": "code",
   "execution_count": null,
   "metadata": {
    "colab": {
     "base_uri": "https://localhost:8080/",
     "height": 472
    },
    "executionInfo": {
     "elapsed": 1352,
     "status": "ok",
     "timestamp": 1729799742739,
     "user": {
      "displayName": "Edgardo Rubén FLECHA",
      "userId": "15102767123563609240"
     },
     "user_tz": 180
    },
    "id": "RflN2CuRF68i",
    "outputId": "f27163f5-d1f7-4b6c-e247-4b9fb07baa2b"
   },
   "outputs": [
    {
     "data": {
      "image/png": "[encoded data removed]",
      "text/plain": [
       "<Figure size 640x480 with 1 Axes>"
      ]
     },
     "metadata": {},
     "output_type": "display_data"
    }
   ],
   "source": [
    "# Histograma de datos de verificación\n",
    "plt.title(\"Histograma\")\n",
    "plt.xlabel(\"X axis\")\n",
    "plt.ylabel(\"Y axis\")\n",
    "plt.xlim(0, 70)\n",
    "plt.ylim(0, 300)\n",
    "plt.hist(fdp_f, bins=200)\n",
    "plt.show()"
   ]
  },
  {
   "cell_type": "code",
   "execution_count": null,
   "metadata": {
    "id": "HfCkMErrKiOl"
   },
   "outputs": [],
   "source": []
  },
  {
   "cell_type": "code",
   "execution_count": null,
   "metadata": {},
   "outputs": [],
   "source": []
  },
  {
   "cell_type": "code",
   "execution_count": null,
   "metadata": {},
   "outputs": [],
   "source": []
  },
  {
   "cell_type": "code",
   "execution_count": null,
   "metadata": {},
   "outputs": [],
   "source": []
  }
 ],
 "metadata": {
  "colab": {
   "authorship_tag": "ABX9TyOId+MZ1t15zIsR/Lto862z",
   "mount_file_id": "15Pz3ACKIvs5NycDHgER7ScR7WYZibr0s",
   "provenance": [
    {
     "file_id": "15Pz3ACKIvs5NycDHgER7ScR7WYZibr0s",
     "timestamp": 1744167337553
    }
   ]
  },
  "kernelspec": {
   "display_name": "simulacion",
   "language": "python",
   "name": "python3"
  },
  "language_info": {
   "codemirror_mode": {
    "name": "ipython",
    "version": 3
   },
   "file_extension": ".py",
   "mimetype": "text/x-python",
   "name": "python",
   "nbconvert_exporter": "python",
   "pygments_lexer": "ipython3",
   "version": "3.13.2"
  }
 },
 "nbformat": 4,
 "nbformat_minor": 4
}
